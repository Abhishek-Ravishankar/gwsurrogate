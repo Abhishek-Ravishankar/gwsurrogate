{
 "metadata": {
  "name": "EOBLAL"
 },
 "nbformat": 3,
 "nbformat_minor": 0,
 "worksheets": [
  {
   "cells": [
    {
     "cell_type": "code",
     "collapsed": false,
     "input": [
      "### setup system paths, import text surrogate module and load a surrogate ###\n",
      "import sys\n",
      "sys.path.append('/home/balzani57/GitRepos/Codes/gwsurrogate/gwsurrogate')\n",
      "from pylab import matplotlib as plt\n",
      "import numpy as np\n",
      "\n",
      "import surrogate as txtsur\n",
      "EOBNRv2_sur = txtsur.TextSurrogate('/home/balzani57/GitRepos/Codes/gwsurrogate/EOBNRv2/EOBNRv2_q1_2_NoSpin_SingleModes/l2_m2_len12239M_SurID19poly/')\n",
      "\n",
      "import lal\n",
      "import lalsimulation as lalsim"
     ],
     "language": "python",
     "metadata": {},
     "outputs": [],
     "prompt_number": 1
    },
    {
     "cell_type": "code",
     "collapsed": false,
     "input": [
      "EOBNRv2_sur.switch_time_to_secs(Mtot = 80.0)\n",
      "m1 = 40.0\n",
      "m2 = 40.0\n",
      "t_surr, hp_surr, hc_surr = EOBNRv2_sur(q_eval = m1/m2)\n",
      "h_surr = hp_surr + (1j)*hc_surr"
     ],
     "language": "python",
     "metadata": {},
     "outputs": [
      {
       "output_type": "stream",
       "stream": "stdout",
       "text": [
        "times already in seconds\n"
       ]
      }
     ],
     "prompt_number": 56
    },
    {
     "cell_type": "code",
     "collapsed": false,
     "input": [
      "print EOBNRv2_sur.t_units\n",
      "dt = EOBNRv2_sur.dt\n",
      "print 1.0/dt"
     ],
     "language": "python",
     "metadata": {},
     "outputs": [
      {
       "output_type": "stream",
       "stream": "stdout",
       "text": [
        "secs\n",
        "2048.0\n"
       ]
      }
     ],
     "prompt_number": 57
    },
    {
     "cell_type": "code",
     "collapsed": false,
     "input": [
      "lambda1 = lambda2 = 0.\n",
      "waveFlags = None\n",
      "nonGRparams = None\n",
      "ampO = 0\n",
      "phaseO = 7\n",
      "fref = 0.\n",
      "\n",
      "incl=0. \n",
      "phiref=0. # NOTE: current hack uses this parameter to grab modes... 0 is the (2,2). \n",
      "fmin=9.0 \n",
      "thetaS=0. \n",
      "phiS=0. \n",
      "psi=0.\n",
      "dist=1.\n",
      "\n",
      "M1 = m1 * lal.LAL_MSUN_SI\n",
      "M2 = m2 * lal.LAL_MSUN_SI\n",
      "s1x = s1y = s1z = s2x = s2y = s2z = 0.\n",
      "Dist = dist * 1e6 * lal.LAL_PC_SI\n",
      "approx = lalsim.EOBNRv2\n",
      "\n",
      "hp_LAL, hc_LAL = lalsim.SimInspiralChooseTDWaveform(phiref, dt, M1, M2,s1x, s1y, s1z, s2x, s2y, s2z, fmin, fref, Dist, incl, lambda1, lambda2,waveFlags, nonGRparams, ampO, phaseO, approx)\n",
      "h_LAL = hp_LAL.data.data + (1j)*hc_LAL.data.data"
     ],
     "language": "python",
     "metadata": {},
     "outputs": [],
     "prompt_number": 77
    },
    {
     "cell_type": "code",
     "collapsed": false,
     "input": [
      "time = np.arange(np.size(hp_LAL.data.data))*hp_LAL.deltaT\n",
      "plt.pyplot.plot(t_surr,hp_surr*( np.max(np.abs(h_LAL)) / np.max(np.abs(h_surr)) )  ,'red')\n",
      "plt.pyplot.plot(time,hp_LAL.data.data,'blue')\n",
      "plt.pyplot.show()"
     ],
     "language": "python",
     "metadata": {},
     "outputs": [],
     "prompt_number": 78
    }
   ],
   "metadata": {}
  }
 ]
}