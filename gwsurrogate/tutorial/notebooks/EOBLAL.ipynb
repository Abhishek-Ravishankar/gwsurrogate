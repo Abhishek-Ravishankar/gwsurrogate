{
 "metadata": {
  "name": "EOBLAL"
 },
 "nbformat": 3,
 "nbformat_minor": 0,
 "worksheets": [
  {
   "cells": [
    {
     "cell_type": "heading",
     "level": 1,
     "metadata": {},
     "source": [
      "WARNING: SCOTTS EOB CODE HAS BEEN EDITTED (e.g. sSub turned off and modes are returned -- this notebook needs to account for that)"
     ]
    },
    {
     "cell_type": "markdown",
     "metadata": {},
     "source": [
      "*** This notebook assumes basic familiarity with gwsurrogate as covered in example1.ipynb ***"
     ]
    },
    {
     "cell_type": "code",
     "collapsed": false,
     "input": [
      "import sys\n",
      "path_to_gws = '/home/balzani57/GitRepos/Codes/gwsurrogate/'\n",
      "sys.path.append(path_to_gws)\n",
      "from pylab import matplotlib as plt\n",
      "import numpy as np\n",
      "import gwsurrogate as gws\n",
      "\n",
      "EOBNRv2_sur = gws.EvaluateSurrogate(path_to_gws+'gwsurrogate/tutorial/EOBNRv2_example/EOBNRv2_q1_2_NoSpin_SingleModes/l2_m2_len12239M_SurID19poly/')"
     ],
     "language": "python",
     "metadata": {},
     "outputs": [],
     "prompt_number": 1
    },
    {
     "cell_type": "code",
     "collapsed": false,
     "input": [
      "### assumes lal and lalsimulation python packages are installed ###\n",
      "import lal\n",
      "import lalsimulation as lalsim"
     ],
     "language": "python",
     "metadata": {},
     "outputs": [],
     "prompt_number": 2
    },
    {
     "cell_type": "code",
     "collapsed": false,
     "input": [
      "### a few useful helper functions ###\n",
      "def m1_m2(M,q):\n",
      "    return M/(q+1), M*q/(q+1) # returns m1 and m2, assuming m2 >= m1 (q>=1)\n",
      "\n",
      "def dimensionless_time(M,t):\n",
      "    tmp = lal.LAL_MSUN_SI * lal.LAL_G_SI / np.power(lal.LAL_C_SI,3.0)\n",
      "    return ( t / tmp ) / M"
     ],
     "language": "python",
     "metadata": {},
     "outputs": [],
     "prompt_number": 34
    },
    {
     "cell_type": "heading",
     "level": 1,
     "metadata": {},
     "source": [
      "Lesson 1: Compare effective one body waveform evaluations"
     ]
    },
    {
     "cell_type": "markdown",
     "metadata": {},
     "source": [
      "nonspinning binary black hole systems emit gravitational waves which depend on component masses m1 and m2. They are functions of time t, often quoted in seconds. Using Newton's constant G and the speed of light c, t can be put into units of solar mass. Define the total mass to be M = m1+m2 and mass ratio to be q=m2/m1. If these mass quantites are also given in solar masses the gravitational waveforms will be described by a one-parameter family \n",
      "\n",
      "h(T;q,M=1)\n",
      "\n",
      "where T is a dimensionless time variable \n",
      "\n",
      "T = t/M  (1)\n",
      "\n",
      "That is, any waveform h(t;q,M) can be generated from h(T;q,1) as\n",
      "\n",
      "h(t;q,M) = C h(T;q,1) \n",
      "\n",
      "plus the coordinate transformation 1. In Lesson one, we verify this property with function calls to lalsim while recording the error (presumably of numerical origin). Next, in Lesson 2, we shall repeat this experiment using surrogates. "
     ]
    },
    {
     "cell_type": "code",
     "collapsed": false,
     "input": [
      "### settings for all subsequent LAL calls ###\n",
      "lambda1     = lambda2 = 0.\n",
      "waveFlags   = None\n",
      "nonGRparams = None\n",
      "ampO        = 0\n",
      "phaseO      = 7\n",
      "fref        = 0.\n",
      "incl        = 0. \n",
      "phiref      = 0. # NOTE: current hack uses this parameter to grab modes... 0 is the (2,2). \n",
      "thetaS      = 0. \n",
      "phiS        = 0. \n",
      "psi         = 0.\n",
      "Dist        = 1.0 * 1e6 * lal.LAL_PC_SI\n",
      "s1x         = s1y = s1z = s2x = s2y = s2z = 0.\n",
      "approx      = lalsim.EOBNRv2"
     ],
     "language": "python",
     "metadata": {},
     "outputs": [],
     "prompt_number": 4
    },
    {
     "cell_type": "code",
     "collapsed": false,
     "input": [
      "### Example: generate a 40+40 EOB waveform ###\n",
      "M1   = (40.0) * lal.LAL_MSUN_SI\n",
      "M2   = (40.0) * lal.LAL_MSUN_SI\n",
      "dt   = 1.0/2048.0\n",
      "fmin = 9.0 \n",
      "\n",
      "hp_LAL, hc_LAL = lalsim.SimInspiralChooseTDWaveform(phiref, dt, M1, M2,s1x, s1y, s1z, s2x, s2y, s2z, fmin, fref, Dist, incl, lambda1, lambda2,waveFlags, nonGRparams, ampO, phaseO, approx)\n",
      "h_LAL          = hp_LAL.data.data + (1j)*hc_LAL.data.data\n",
      "times          = np.arange(np.size(hp_LAL.data.data))*hp_LAL.deltaT\n",
      "\n",
      "plt.pyplot.figure(1)\n",
      "plt.pyplot.plot(times,np.abs(h_LAL),'blue')\n",
      "EOBNRv2_sur.plot_pretty(times, h_LAL.real, h_LAL.imag)\n",
      "plt.pyplot.xlabel('$t$ in seconds')\n",
      "plt.pyplot.show()"
     ],
     "language": "python",
     "metadata": {},
     "outputs": [],
     "prompt_number": 5
    },
    {
     "cell_type": "code",
     "collapsed": false,
     "input": [
      "### check that q=1 waveforms for various choices of M and scalings ###\n",
      "\n",
      "\n",
      "### M = 4, q = 1 waveform ###\n",
      "Mtot1 = 4.0\n",
      "fmin = 40.0\n",
      "\n",
      "M1 = (Mtot1/2.0) * lal.LAL_MSUN_SI\n",
      "M2 = (Mtot1/2.0) * lal.LAL_MSUN_SI\n",
      "\n",
      "dt = (1.0/16384.0)\n",
      "\n",
      "hp_4, hc_4 = lalsim.SimInspiralChooseTDWaveform(phiref, dt, M1, M2,s1x, s1y, s1z, s2x, s2y, s2z, fmin, fref, Dist, incl, lambda1, lambda2,waveFlags, nonGRparams, ampO, phaseO, approx)\n",
      "h_4 = hp_4.data.data + (1j)*hc_4.data.data\n",
      "time_4 = np.arange(np.size(hp_4.data.data))*hp_4.deltaT\n",
      "time_4 = dimensionless_time(Mtot1,time_4)\n",
      "\n",
      "amp_1 = ((Mtot1 * lal.LAL_MSUN_SI) / Dist) * (lal.LAL_G_SI / np.power(lal.LAL_C_SI,2.0) )\n",
      "\n",
      "### M  = 16, q = 1 waveform ###\n",
      "Mtot2 = 16.0\n",
      "fmin = 40.0/2.383\n",
      "\n",
      "M1 = (Mtot2/2.0) * lal.LAL_MSUN_SI\n",
      "M2 = (Mtot2/2.0) * lal.LAL_MSUN_SI\n",
      "\n",
      "dt = (1.0/16384.0)\n",
      "\n",
      "hp_8, hc_8 = lalsim.SimInspiralChooseTDWaveform(phiref, dt, M1, M2,s1x, s1y, s1z, s2x, s2y, s2z, fmin, fref, Dist, incl, lambda1, lambda2,waveFlags, nonGRparams, ampO, phaseO, approx)\n",
      "h_8 = hp_8.data.data + (1j)*hc_8.data.data\n",
      "time_8 = np.arange(np.size(hp_8.data.data))*hp_8.deltaT\n",
      "time_8 = dimensionless_time(Mtot2,time_8)\n",
      "\n",
      "amp_2 = ((Mtot2 * lal.LAL_MSUN_SI) / Dist) * (lal.LAL_G_SI / np.power(lal.LAL_C_SI,2.0) )\n",
      "\n",
      "### results of comparison ###\n",
      "plt.pyplot.plot(time_4 - time_4[np.argmax(np.abs(h_4))],np.abs(h_4)/amp_1,'red')\n",
      "plt.pyplot.plot(time_8 - time_8[np.argmax(np.abs(h_8))],np.abs(h_8)/amp_2,'blue')\n",
      "plt.pyplot.show()\n",
      "print np.max(np.abs(h_8))/np.max(np.abs(h_4))"
     ],
     "language": "python",
     "metadata": {},
     "outputs": [
      {
       "output_type": "stream",
       "stream": "stdout",
       "text": [
        "4.00016065388\n"
       ]
      }
     ],
     "prompt_number": 35
    },
    {
     "cell_type": "code",
     "collapsed": false,
     "input": [
      "print np.max(time_4)\n",
      "print np.argmax(np.abs(h_4))\n",
      "print time_4[229587]"
     ],
     "language": "python",
     "metadata": {},
     "outputs": [
      {
       "output_type": "stream",
       "stream": "stdout",
       "text": [
        "14.012878418\n",
        "229430\n",
        "14.012878418\n"
       ]
      }
     ],
     "prompt_number": 28
    },
    {
     "cell_type": "heading",
     "level": 1,
     "metadata": {},
     "source": [
      "Lesson 2: Compare surrogate and effective one body waveforms"
     ]
    },
    {
     "cell_type": "code",
     "collapsed": false,
     "input": [
      "print EOBNRv2_sur.t_units\n",
      "dt = EOBNRv2_sur.dt\n",
      "print 1.0/dt"
     ],
     "language": "python",
     "metadata": {},
     "outputs": [
      {
       "output_type": "stream",
       "stream": "stdout",
       "text": [
        "secs\n",
        "2048.0\n"
       ]
      }
     ],
     "prompt_number": 4
    },
    {
     "cell_type": "code",
     "collapsed": false,
     "input": [
      "time = np.arange(np.size(hp_LAL.data.data))*hp_LAL.deltaT\n",
      "plt.pyplot.plot(t_surr,hp_surr*( np.max(np.abs(h_LAL)) / np.max(np.abs(h_surr)) )  ,'red')\n",
      "plt.pyplot.plot(time,hp_LAL.data.data,'blue')\n",
      "plt.pyplot.show()"
     ],
     "language": "python",
     "metadata": {},
     "outputs": [
      {
       "ename": "NameError",
       "evalue": "name 't_surr' is not defined",
       "output_type": "pyerr",
       "traceback": [
        "\u001b[1;31m---------------------------------------------------------------------------\u001b[0m\n\u001b[1;31mNameError\u001b[0m                                 Traceback (most recent call last)",
        "\u001b[1;32m<ipython-input-8-670a486ff2d9>\u001b[0m in \u001b[0;36m<module>\u001b[1;34m()\u001b[0m\n\u001b[0;32m      1\u001b[0m \u001b[0mtime\u001b[0m \u001b[1;33m=\u001b[0m \u001b[0mnp\u001b[0m\u001b[1;33m.\u001b[0m\u001b[0marange\u001b[0m\u001b[1;33m(\u001b[0m\u001b[0mnp\u001b[0m\u001b[1;33m.\u001b[0m\u001b[0msize\u001b[0m\u001b[1;33m(\u001b[0m\u001b[0mhp_LAL\u001b[0m\u001b[1;33m.\u001b[0m\u001b[0mdata\u001b[0m\u001b[1;33m.\u001b[0m\u001b[0mdata\u001b[0m\u001b[1;33m)\u001b[0m\u001b[1;33m)\u001b[0m\u001b[1;33m*\u001b[0m\u001b[0mhp_LAL\u001b[0m\u001b[1;33m.\u001b[0m\u001b[0mdeltaT\u001b[0m\u001b[1;33m\u001b[0m\u001b[0m\n\u001b[1;32m----> 2\u001b[1;33m \u001b[0mplt\u001b[0m\u001b[1;33m.\u001b[0m\u001b[0mpyplot\u001b[0m\u001b[1;33m.\u001b[0m\u001b[0mplot\u001b[0m\u001b[1;33m(\u001b[0m\u001b[0mt_surr\u001b[0m\u001b[1;33m,\u001b[0m\u001b[0mhp_surr\u001b[0m\u001b[1;33m*\u001b[0m\u001b[1;33m(\u001b[0m \u001b[0mnp\u001b[0m\u001b[1;33m.\u001b[0m\u001b[0mmax\u001b[0m\u001b[1;33m(\u001b[0m\u001b[0mnp\u001b[0m\u001b[1;33m.\u001b[0m\u001b[0mabs\u001b[0m\u001b[1;33m(\u001b[0m\u001b[0mh_LAL\u001b[0m\u001b[1;33m)\u001b[0m\u001b[1;33m)\u001b[0m \u001b[1;33m/\u001b[0m \u001b[0mnp\u001b[0m\u001b[1;33m.\u001b[0m\u001b[0mmax\u001b[0m\u001b[1;33m(\u001b[0m\u001b[0mnp\u001b[0m\u001b[1;33m.\u001b[0m\u001b[0mabs\u001b[0m\u001b[1;33m(\u001b[0m\u001b[0mh_surr\u001b[0m\u001b[1;33m)\u001b[0m\u001b[1;33m)\u001b[0m \u001b[1;33m)\u001b[0m  \u001b[1;33m,\u001b[0m\u001b[1;34m'red'\u001b[0m\u001b[1;33m)\u001b[0m\u001b[1;33m\u001b[0m\u001b[0m\n\u001b[0m\u001b[0;32m      3\u001b[0m \u001b[0mplt\u001b[0m\u001b[1;33m.\u001b[0m\u001b[0mpyplot\u001b[0m\u001b[1;33m.\u001b[0m\u001b[0mplot\u001b[0m\u001b[1;33m(\u001b[0m\u001b[0mtime\u001b[0m\u001b[1;33m,\u001b[0m\u001b[0mhp_LAL\u001b[0m\u001b[1;33m.\u001b[0m\u001b[0mdata\u001b[0m\u001b[1;33m.\u001b[0m\u001b[0mdata\u001b[0m\u001b[1;33m,\u001b[0m\u001b[1;34m'blue'\u001b[0m\u001b[1;33m)\u001b[0m\u001b[1;33m\u001b[0m\u001b[0m\n\u001b[0;32m      4\u001b[0m \u001b[0mplt\u001b[0m\u001b[1;33m.\u001b[0m\u001b[0mpyplot\u001b[0m\u001b[1;33m.\u001b[0m\u001b[0mshow\u001b[0m\u001b[1;33m(\u001b[0m\u001b[1;33m)\u001b[0m\u001b[1;33m\u001b[0m\u001b[0m\n",
        "\u001b[1;31mNameError\u001b[0m: name 't_surr' is not defined"
       ]
      }
     ],
     "prompt_number": 8
    }
   ],
   "metadata": {}
  }
 ]
}