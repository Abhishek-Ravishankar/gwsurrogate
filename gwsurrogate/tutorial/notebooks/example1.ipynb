{
 "metadata": {
  "name": "example1"
 },
 "nbformat": 3,
 "nbformat_minor": 0,
 "worksheets": [
  {
   "cells": [
    {
     "cell_type": "heading",
     "level": 1,
     "metadata": {},
     "source": [
      "Lesson 1: Evaluate and plot surrogates"
     ]
    },
    {
     "cell_type": "code",
     "collapsed": false,
     "input": [
      "### setup system paths (if gwsurrogate not yet installed) ###\n",
      "import sys\n",
      "path_to_gws = '/home/balzani57/GitRepos/Codes/gwsurrogate/'\n",
      "sys.path.append(path_to_gws)\n",
      "\n",
      "### import the gwsurrogate module and load an existing surrogate ###\n",
      "import gwsurrogate as gws\n",
      "EOBNRv2_sur = gws.EvaluateSurrogate(path_to_gws+'gwsurrogate/tutorial/EOBNRv2_example/EOBNRv2_q1_2_NoSpin_SingleModes/l2_m2_len12239M_SurID19poly/')\n",
      "\n",
      "### import other useful packages ###\n",
      "from pylab import matplotlib as plt\n",
      "import numpy as np"
     ],
     "language": "python",
     "metadata": {},
     "outputs": [],
     "prompt_number": 1
    },
    {
     "cell_type": "code",
     "collapsed": false,
     "input": [
      "### evaluate and plot a surrogate EOB waveform (dimensionless) ###\n",
      "t, hp, hc = EOBNRv2_sur(q_eval=1.7)\n",
      "\n",
      "EOBNRv2_sur.plot_pretty(t, hp, hc)\n",
      "plt.pyplot.show()\n"
     ],
     "language": "python",
     "metadata": {},
     "outputs": [],
     "prompt_number": 2
    },
    {
     "cell_type": "code",
     "collapsed": false,
     "input": [
      "### evaluate and plot a surrogate EOB waveform (physical) ###\n",
      "t, hp, hc = EOBNRv2_sur(q_eval=1.7, M_eval=80.0, dist_eval=1.0)\n",
      "\n",
      "EOBNRv2_sur.plot_pretty(t, hp, hc)\n",
      "plt.pyplot.show()"
     ],
     "language": "python",
     "metadata": {},
     "outputs": [],
     "prompt_number": 3
    },
    {
     "cell_type": "code",
     "collapsed": false,
     "input": [
      "### direct plots are also supported (dimensionless) ###\n",
      "EOBNRv2_sur.plot_sur(1.7);"
     ],
     "language": "python",
     "metadata": {},
     "outputs": [],
     "prompt_number": 5
    },
    {
     "cell_type": "code",
     "collapsed": false,
     "input": [
      "### if you try to evaluate the surrogate outside of its training range, gws will let you know ###\n",
      "t, hp, hc = EOBNRv2_sur(q_eval=2.7, M_eval=80.0, dist_eval=1.0)"
     ],
     "language": "python",
     "metadata": {},
     "outputs": [],
     "prompt_number": 8
    },
    {
     "cell_type": "heading",
     "level": 1,
     "metadata": {},
     "source": [
      "Lesson 2: Surrogate properties"
     ]
    },
    {
     "cell_type": "code",
     "collapsed": false,
     "input": [
      "### Greedy points and eim indicies ###\n",
      "eim_pts = EOBNRv2_sur.eim_indices\n",
      "\n",
      "t, hp, hc = EOBNRv2_sur(q_eval=1.7)\n",
      "EOBNRv2_sur.plot_pretty(t, hp, hc)\n",
      "plt.pyplot.plot(t[eim_pts],np.zeros(eim_pts.shape),'r*',markersize=15)\n",
      "plt.pyplot.show()\n",
      "\n",
      "\n",
      "print 'Mass ratios defining the surrogate basis: '\n",
      "print EOBNRv2_sur.greedy_points"
     ],
     "language": "python",
     "metadata": {},
     "outputs": [
      {
       "output_type": "stream",
       "stream": "stdout",
       "text": [
        "Mass ratios defining the surrogate basis: \n",
        "[ 1.     1.904  1.576  2.     1.35   1.75   1.204  1.966  1.27   1.468\n",
        "  1.484  1.67   1.818  1.134  1.954  1.452  1.922  1.84   1.058]\n"
       ]
      }
     ],
     "prompt_number": 5
    },
    {
     "cell_type": "code",
     "collapsed": false,
     "input": [
      "### Waveforms are in dimensionaless 't/M' units ###\n",
      "# Display temporal information...\n",
      "print 'temporal units is '+EOBNRv2_sur.t_units\n",
      "print 'temporal sampling is '+str(EOBNRv2_sur.dt)\n",
      "print 'sampling rate is '+str(1.0/EOBNRv2_sur.dt)\n",
      "print 'initial time is '+str(EOBNRv2_sur.tmin)\n",
      "print 'final time is '+str(EOBNRv2_sur.tmax)"
     ],
     "language": "python",
     "metadata": {},
     "outputs": [
      {
       "output_type": "stream",
       "stream": "stdout",
       "text": [
        "temporal units is TOverMtot\n",
        "temporal sampling is 1.23885486971\n",
        "sampling rate is 0.807197053058\n",
        "initial time is 0.0\n",
        "final time is 12239.8861128\n"
       ]
      }
     ],
     "prompt_number": 6
    },
    {
     "cell_type": "markdown",
     "metadata": {},
     "source": [
      "We now show two ways of recovering the 5th physical RB waveform. The first way evalutes the surrogate at the 5th greedy point q_5. The second way uses the Vandermonde matrix V and the GS matrix R (defined as A = QR) to exactly recover the 5th physical RB waveform. Having two (kinda) independent ways to compute h_5 provides a check of R,V, and the surrogate model error at this value of q."
     ]
    },
    {
     "cell_type": "code",
     "collapsed": false,
     "input": [
      "### plot the 5th cardinal (B) basis which appears as h_surrogate = Sum_i B_i(t) h(T_i)  ###\n",
      "times = EOBNRv2_sur.time()\n",
      "b_5   = EOBNRv2_sur.basis(4,'cardinal')\n",
      "\n",
      "EOBNRv2_sur.plot_pretty(times,b_5.real,b_5.imag,1)\n",
      "plt.pyplot.title('Real and imaginary parts of cardinal basis')\n",
      "\n",
      "### use the matrix V, as E = B V, to exactly recover the 5th orthonormal basis E ###\n",
      "e_5 = EOBNRv2_sur.basis(4,'orthogonal')\n",
      "\n",
      "EOBNRv2_sur.plot_pretty(times,e_5.real,e_5.imag,2)\n",
      "plt.pyplot.title('Real and imaginary parts of orthogonal basis')\n",
      "\n",
      "### use the matrix R, as H = E R, to recover the 5th physical basis H ###\n",
      "h_5 = EOBNRv2_sur.basis(4,'waveform')\n",
      "\n",
      "EOBNRv2_sur.plot_pretty(times,h_5.real,h_5.imag,3)\n",
      "plt.pyplot.title('Real and imaginary parts of waveform basis')\n",
      "\n",
      "### use the surrogate model to evaluate for the 5th physical basis ###\n",
      "tmp, hp_5_surr, hc_5_surr = EOBNRv2_sur(EOBNRv2_sur.greedy_points[4])\n",
      "nrm_5 = EOBNRv2_sur.norm_eval(EOBNRv2_sur.greedy_points[4] , False)\n",
      "hp_5_surr = hp_5_surr / nrm_5\n",
      "hc_5_surr = hc_5_surr / nrm_5\n",
      "\n",
      "EOBNRv2_sur.plot_pretty(times,hp_5_surr,hc_5_surr,4)\n",
      "plt.pyplot.title('Waveform basis via surrogate model')\n",
      "\n",
      "### plot the difference between the 5th physical basis and its surrogate -- consistency and error check ###\n",
      "EOBNRv2_sur.plot_pretty(times,h_5.real - hp_5_surr,h_5.imag - hc_5_surr,5,'semilogy')\n",
      "plt.pyplot.title('Difference between physical waveform basis and its surrogate prediction')\n",
      "\n",
      "plt.pyplot.show()"
     ],
     "language": "python",
     "metadata": {},
     "outputs": [],
     "prompt_number": 7
    },
    {
     "cell_type": "code",
     "collapsed": false,
     "input": [
      "### plotting the waveform basis using the surrogate is also a built-in function ###\n",
      "EOBNRv2_sur.plot_rb(4)"
     ],
     "language": "python",
     "metadata": {},
     "outputs": [
      {
       "output_type": "pyout",
       "prompt_number": 12,
       "text": [
        "<matplotlib.figure.Figure at 0xa9851cc>"
       ]
      }
     ],
     "prompt_number": 12
    },
    {
     "cell_type": "heading",
     "level": 1,
     "metadata": {},
     "source": [
      "Lesson 3: Download surrogates from a server"
     ]
    },
    {
     "cell_type": "markdown",
     "metadata": {},
     "source": [
      "Surrogate may be located on a server. gwsurrogate provides a list of the locations as well as easy-to-use tools to download them"
     ]
    },
    {
     "cell_type": "code",
     "collapsed": false,
     "input": [
      "### view all available surrogates ###\n",
      "gws.surrogate_repo.list()"
     ],
     "language": "python",
     "metadata": {},
     "outputs": [
      {
       "output_type": "stream",
       "stream": "stdout",
       "text": [
        "EOBNRv2_1 is located at https://www.dropbox.com/s/4dpiw0zzh1wddmq/EOBNRv2.tar.gz\n"
       ]
      }
     ],
     "prompt_number": 2
    },
    {
     "cell_type": "code",
     "collapsed": false,
     "input": [
      "### display the default location for all surrogate downloads ###\n",
      "gws.surrogate_repo.download_path()"
     ],
     "language": "python",
     "metadata": {},
     "outputs": [
      {
       "output_type": "pyout",
       "prompt_number": 3,
       "text": [
        "'/home/balzani57/GitRepos/Codes/gwsurrogate/gwsurrogate/../surrogate_downloads/'"
       ]
      }
     ],
     "prompt_number": 3
    },
    {
     "cell_type": "code",
     "collapsed": false,
     "input": [
      "### download and unzip a surrogate (this will take a moment) ##\n",
      "gws.surrogate_repo.get('EOBNRv2_1')"
     ],
     "language": "python",
     "metadata": {},
     "outputs": [],
     "prompt_number": 3
    },
    {
     "cell_type": "code",
     "collapsed": false,
     "input": [
      "### unpack the surrogate ###\n",
      "import os\n",
      "unzip_loc = gws.download.unzip('spec_test')\n",
      "print unzip_loc\n",
      "print os.listdir(unzip_loc)\n",
      "print os.listdir(unzip_loc+'SpEC_q1_9_NoSpin_SingleModes') # <--- this is the surrogate's location"
     ],
     "language": "python",
     "metadata": {},
     "outputs": [
      {
       "output_type": "stream",
       "stream": "stdout",
       "text": [
        "/home/balzani57/GitRepos/Codes/gwsurrogate/gwsurrogate/tutorial/notebooks/surrogate_downloads/spec_test/\n",
        "['SpEC_q1_9_NoSpin_SingleModes']\n",
        "['l2_m2_len2824M_SurID25poly']\n"
       ]
      }
     ],
     "prompt_number": 9
    },
    {
     "cell_type": "code",
     "collapsed": false,
     "input": [
      "### load the surrogate ###\n",
      "spec_sur = gws.EvaluateSurrogate(unzip_loc+'SpEC_q1_9_NoSpin_SingleModes/'+'l2_m2_len2824M_SurID25poly'+'/')"
     ],
     "language": "python",
     "metadata": {},
     "outputs": [],
     "prompt_number": 13
    },
    {
     "cell_type": "code",
     "collapsed": false,
     "input": [
      "### evaluate and plot ###\n",
      "\n",
      "hp_spec, hc_spec = spec_sur(1.7)\n",
      "t_spec = spec_sur.time()\n",
      "\n",
      "spec_sur.plot_pretty(t_spec, hp_spec, hc_spec,2) # NOTE: EOB and NR are normalized differently and are defined on diffrent time intervals \n",
      "plt.pyplot.show()"
     ],
     "language": "python",
     "metadata": {},
     "outputs": []
    }
   ],
   "metadata": {}
  }
 ]
}