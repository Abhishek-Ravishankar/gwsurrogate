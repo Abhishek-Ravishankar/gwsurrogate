{
 "metadata": {
  "name": "example1"
 },
 "nbformat": 3,
 "nbformat_minor": 0,
 "worksheets": [
  {
   "cells": [
    {
     "cell_type": "heading",
     "level": 1,
     "metadata": {},
     "source": [
      "Lesson 1: Evaluate and plot surrogates"
     ]
    },
    {
     "cell_type": "code",
     "collapsed": false,
     "input": [
      "### setup system paths (if gwsurrogate not yet installed) ###\n",
      "import sys\n",
      "path_to_gws = '/home/balzani57/GitRepos/Codes/gwsurrogate/'\n",
      "sys.path.append(path_to_gws)\n",
      "\n",
      "### import the gwsurrogate module and load an existing surrogate ###\n",
      "import gwsurrogate as gws\n",
      "EOBNRv2_sur = gws.EvaluateSurrogate(path_to_gws+'gwsurrogate/tutorial/EOBNRv2_example/EOBNRv2_q1_2_NoSpin_SingleModes/l2_m2_len12239M_SurID19poly/')\n",
      "\n",
      "### import other useful packages ###\n",
      "from pylab import matplotlib as plt\n",
      "import numpy as np"
     ],
     "language": "python",
     "metadata": {},
     "outputs": [],
     "prompt_number": 1
    },
    {
     "cell_type": "code",
     "collapsed": false,
     "input": [
      "### evaluate and plot an EOB surrogate waveform (dimensionless rh/M, function of t/M) ###\n",
      "hp, hc = EOBNRv2_sur.h_sur(q_eval = 1.7)\n",
      "t      = EOBNRv2_sur.time()\n",
      "\n",
      "EOBNRv2_sur.plot_pretty(t, hp, hc)\n",
      "plt.pyplot.show()\n"
     ],
     "language": "python",
     "metadata": {},
     "outputs": [],
     "prompt_number": 2
    },
    {
     "cell_type": "code",
     "collapsed": false,
     "input": [
      "### evaluate and plot an EOB surrogate waveform (physical) ###\n",
      "t, hp, hc = EOBNRv2_sur(q_eval=1.7, M_eval=80.0, dist_eval=1.0, f_low = 10.0) # M in solar masses, distane in mepaparsecs, f_low in hz\n",
      "\n",
      "EOBNRv2_sur.plot_pretty(t, hp, hc)\n",
      "plt.pyplot.xlabel('t (seconds)')\n",
      "plt.pyplot.show()"
     ],
     "language": "python",
     "metadata": {},
     "outputs": [],
     "prompt_number": 3
    },
    {
     "cell_type": "code",
     "collapsed": false,
     "input": [
      "### direct plots are also supported (dimensionless) ###\n",
      "EOBNRv2_sur.plot_sur(1.7);"
     ],
     "language": "python",
     "metadata": {},
     "outputs": [],
     "prompt_number": 4
    },
    {
     "cell_type": "code",
     "collapsed": false,
     "input": [
      "### if you try to evaluate the surrogate outside of its training range, you will be warned ###\n",
      "t, hp, hc = EOBNRv2_sur(q_eval=2.7, M_eval=80.0, dist_eval=1.0)"
     ],
     "language": "python",
     "metadata": {},
     "outputs": [],
     "prompt_number": 6
    },
    {
     "cell_type": "code",
     "collapsed": false,
     "input": [
      "### average time to evaluate a waveform (WARNING: code not yet optimized for speed, but should still be pretty fast...) ###\n",
      "EOBNRv2_sur.timer()"
     ],
     "language": "python",
     "metadata": {},
     "outputs": []
    },
    {
     "cell_type": "heading",
     "level": 1,
     "metadata": {},
     "source": [
      "Lesson 2: Surrogate properties"
     ]
    },
    {
     "cell_type": "code",
     "collapsed": false,
     "input": [
      "### Greedy points and eim indicies ###\n",
      "eim_pts = EOBNRv2_sur.eim_indices\n",
      "\n",
      "t, hp, hc = EOBNRv2_sur(1.7,80.0,1.0)\n",
      "EOBNRv2_sur.plot_pretty(t, hp, hc)\n",
      "plt.pyplot.plot(t[eim_pts],np.zeros(eim_pts.shape),'r*',markersize=15)\n",
      "plt.pyplot.show()\n",
      "\n",
      "\n",
      "print 'Mass ratios defining the basis: '\n",
      "print EOBNRv2_sur.greedy_points"
     ],
     "language": "python",
     "metadata": {},
     "outputs": [
      {
       "output_type": "stream",
       "stream": "stdout",
       "text": [
        "Mass ratios defining the basis: \n",
        "[ 1.     1.904  1.576  2.     1.35   1.75   1.204  1.966  1.27   1.468\n",
        "  1.484  1.67   1.818  1.134  1.954  1.452  1.922  1.84   1.058]\n"
       ]
      }
     ],
     "prompt_number": 8
    },
    {
     "cell_type": "code",
     "collapsed": false,
     "input": [
      "### Temporal information is stored with dimensionless 't/M' units ###\n",
      "print 'temporal units is '+EOBNRv2_sur.t_units\n",
      "print 'temporal sampling is '+str(EOBNRv2_sur.dt)\n",
      "print 'sampling rate is '+str(1.0/EOBNRv2_sur.dt)\n",
      "print 'initial time is '+str(EOBNRv2_sur.tmin)\n",
      "print 'final time is '+str(EOBNRv2_sur.tmax)"
     ],
     "language": "python",
     "metadata": {},
     "outputs": [
      {
       "output_type": "stream",
       "stream": "stdout",
       "text": [
        "temporal units is TOverMtot\n",
        "temporal sampling is 1.23885486971\n",
        "sampling rate is 0.807197053058\n",
        "initial time is 0.0\n",
        "final time is 12239.8861128\n"
       ]
      }
     ],
     "prompt_number": 10
    },
    {
     "cell_type": "markdown",
     "metadata": {},
     "source": [
      "We now show two ways of recovering the 5th physical RB waveform. The first way evalutes the surrogate at the 5th greedy point q_5. The second way uses the Vandermonde matrix V and the GS matrix R (defined as A = QR) to exactly recover the 5th physical RB waveform. Having two (kinda) independent ways to compute h_5 provides a check of R,V, and the surrogate model error at this value of q."
     ]
    },
    {
     "cell_type": "code",
     "collapsed": false,
     "input": [
      "### plot the 5th cardinal (B) basis which appears as h_surrogate = Sum_i B_i(t) h(T_i)  ###\n",
      "times = EOBNRv2_sur.time()\n",
      "b_5   = EOBNRv2_sur.basis(4,'cardinal')\n",
      "\n",
      "EOBNRv2_sur.plot_pretty(times,b_5.real,b_5.imag,1)\n",
      "plt.pyplot.title('Real and imaginary parts of cardinal basis')\n",
      "\n",
      "### use the matrix V, as E = B V, to exactly recover the 5th orthonormal basis E ###\n",
      "e_5 = EOBNRv2_sur.basis(4,'orthogonal')\n",
      "\n",
      "EOBNRv2_sur.plot_pretty(times,e_5.real,e_5.imag,2)\n",
      "plt.pyplot.title('Real and imaginary parts of orthogonal basis')\n",
      "\n",
      "### use the matrix R, as H = E R, to recover the 5th physical basis H ###\n",
      "h_5 = EOBNRv2_sur.basis(4,'waveform')\n",
      "\n",
      "EOBNRv2_sur.plot_pretty(times,h_5.real,h_5.imag,3)\n",
      "plt.pyplot.title('Real and imaginary parts of waveform basis')\n",
      "\n",
      "### use the surrogate model to evaluate for the 5th physical basis ###\n",
      "hp_5_surr, hc_5_surr = EOBNRv2_sur.h_sur(EOBNRv2_sur.greedy_points[4])\n",
      "nrm_5 = EOBNRv2_sur.norm_eval(EOBNRv2_sur.greedy_points[4] , False) # need normalization constant for comparison with normalized basis\n",
      "hp_5_surr = hp_5_surr / nrm_5 \n",
      "hc_5_surr = hc_5_surr / nrm_5\n",
      "\n",
      "EOBNRv2_sur.plot_pretty(times,hp_5_surr,hc_5_surr,4)\n",
      "plt.pyplot.title('Waveform basis via surrogate model')\n",
      "\n",
      "### plot the difference between the 5th physical basis and its surrogate -- consistency and error check ###\n",
      "EOBNRv2_sur.plot_pretty(times,h_5.real - hp_5_surr,h_5.imag - hc_5_surr,5,'semilogy')\n",
      "plt.pyplot.title('Difference between physical waveform basis and its surrogate prediction')\n",
      "\n",
      "plt.pyplot.show()"
     ],
     "language": "python",
     "metadata": {},
     "outputs": [],
     "prompt_number": 12
    },
    {
     "cell_type": "code",
     "collapsed": false,
     "input": [
      "### plotting the waveform basis using the surrogate is also a built-in function ###\n",
      "EOBNRv2_sur.plot_rb(4)"
     ],
     "language": "python",
     "metadata": {},
     "outputs": [
      {
       "output_type": "pyout",
       "prompt_number": 13,
       "text": [
        "<matplotlib.figure.Figure at 0xb66570c>"
       ]
      }
     ],
     "prompt_number": 13
    },
    {
     "cell_type": "heading",
     "level": 1,
     "metadata": {},
     "source": [
      "Lesson 3: Download surrogates from a server"
     ]
    },
    {
     "cell_type": "markdown",
     "metadata": {},
     "source": [
      "Surrogate may be located on a server. gwsurrogate provides a list of the locations as well as easy-to-use tools to download them"
     ]
    },
    {
     "cell_type": "code",
     "collapsed": false,
     "input": [
      "### view all available surrogates ###\n",
      "gws.surrogate_repo.list()"
     ],
     "language": "python",
     "metadata": {},
     "outputs": [
      {
       "output_type": "stream",
       "stream": "stdout",
       "text": [
        "EOBNRv2 is located at https://www.dropbox.com/s/4dpiw0zzh1wddmq/EOBNRv2.tar.gz\n"
       ]
      }
     ],
     "prompt_number": 2
    },
    {
     "cell_type": "code",
     "collapsed": false,
     "input": [
      "### display the default location for all surrogate downloads ###\n",
      "gws.surrogate_repo.download_path()"
     ],
     "language": "python",
     "metadata": {},
     "outputs": [
      {
       "output_type": "pyout",
       "prompt_number": 3,
       "text": [
        "'/home/balzani57/GitRepos/Codes/gwsurrogate/gwsurrogate/../surrogate_downloads/'"
       ]
      }
     ],
     "prompt_number": 3
    },
    {
     "cell_type": "code",
     "collapsed": false,
     "input": [
      "### download a surrogate (this will take a moment, check the terminal for progress) ##\n",
      "gws.surrogate_repo.get('EOBNRv2')"
     ],
     "language": "python",
     "metadata": {},
     "outputs": [],
     "prompt_number": 4
    },
    {
     "cell_type": "code",
     "collapsed": false,
     "input": [
      "### unpack the surrogate ###\n",
      "import os\n",
      "unzip_loc = gws.surrogate_repo.unzip('EOBNRv2') ## <-- this is the surrogate's location\n",
      "print os.listdir(gws.surrogate_repo.download_path()) ## if everything works you should see EOBNRv2.tar.gz and EOBNRv2"
     ],
     "language": "python",
     "metadata": {},
     "outputs": [
      {
       "output_type": "stream",
       "stream": "stdout",
       "text": [
        "/home/balzani57/GitRepos/Codes/gwsurrogate/gwsurrogate/../surrogate_downloads/EOBNRv2/\n",
        "['EOBNRv2.tar.gz', 'README', 'EOBNRv2']\n"
       ]
      }
     ],
     "prompt_number": 4
    },
    {
     "cell_type": "code",
     "collapsed": false,
     "input": [
      "### view available surrogates: both are collections of single mode surrogates for q from 1 to 2 and 1 to 10 ###\n",
      "print os.listdir(unzip_loc)"
     ],
     "language": "python",
     "metadata": {},
     "outputs": [
      {
       "output_type": "stream",
       "stream": "stdout",
       "text": [
        "['EOBNRv2_q1_10_NoSpin_SingleModes', 'EOBNRv2_q1_2_NoSpin_SingleModes']\n"
       ]
      }
     ],
     "prompt_number": 5
    },
    {
     "cell_type": "code",
     "collapsed": false,
     "input": [
      "### view available surrogates:  ###\n",
      "print os.listdir(unzip_loc+'/EOBNRv2_q1_10_NoSpin_SingleModes') # (2,2) mode for duration 12236 M, usings 40 basis and polynomial fits\n",
      "print os.listdir(unzip_loc+'/EOBNRv2_q1_2_NoSpin_SingleModes')  # variety of modes, durations and basis"
     ],
     "language": "python",
     "metadata": {},
     "outputs": [
      {
       "output_type": "stream",
       "stream": "stdout",
       "text": [
        "['l2_m2_len12236M_SurID40poly']\n",
        "['l2_m2_len191839M_SurID20poly', 'l5_m5_len12238M_SurID15poly', 'l2_m2_len12239M_SurID19poly', 'l2_m1_len12243M_SurID15poly', 'l4_m4_len12238M_SurID15poly', 'l3_m3_len12241M_SurID15poly']\n"
       ]
      }
     ],
     "prompt_number": 7
    },
    {
     "cell_type": "code",
     "collapsed": false,
     "input": [
      "### load your favorite surrogates -- BROKEN: THESE SURROGATES NEED TO BE UPDATED TO INCLUDE AMPLITUDE FITS ###\n",
      "EOBNRv2_22_q10_12236M = gws.EvaluateSurrogate(unzip_loc+'EOBNRv2_q1_10_NoSpin_SingleModes/'+'l2_m2_len12236M_SurID40poly/')\n",
      "EOBNRv2_22_q2_191839M = gws.EvaluateSurrogate(unzip_loc+'EOBNRv2_q1_2_NoSpin_SingleModes/'+'l2_m2_len191839M_SurID20poly/')"
     ],
     "language": "python",
     "metadata": {},
     "outputs": [
      {
       "ename": "IOError",
       "evalue": "[Errno 2] No such file or directory: '/home/balzani57/GitRepos/Codes/gwsurrogate/gwsurrogate/../surrogate_downloads/EOBNRv2/EOBNRv2_q1_10_NoSpin_SingleModes/l2_m2_len12236M_SurID40poly/fit_coeff_norm.txt'",
       "output_type": "pyerr",
       "traceback": [
        "\u001b[1;31m---------------------------------------------------------------------------\u001b[0m\n\u001b[1;31mIOError\u001b[0m                                   Traceback (most recent call last)",
        "\u001b[1;32m<ipython-input-9-398fabfc5ef3>\u001b[0m in \u001b[0;36m<module>\u001b[1;34m()\u001b[0m\n\u001b[0;32m      1\u001b[0m \u001b[1;31m### load your favorite surrogates ###\u001b[0m\u001b[1;33m\u001b[0m\u001b[1;33m\u001b[0m\u001b[0m\n\u001b[1;32m----> 2\u001b[1;33m \u001b[0mEOBNRv2_22_q10_12236M\u001b[0m \u001b[1;33m=\u001b[0m \u001b[0mgws\u001b[0m\u001b[1;33m.\u001b[0m\u001b[0mEvaluateSurrogate\u001b[0m\u001b[1;33m(\u001b[0m\u001b[0munzip_loc\u001b[0m\u001b[1;33m+\u001b[0m\u001b[1;34m'EOBNRv2_q1_10_NoSpin_SingleModes/'\u001b[0m\u001b[1;33m+\u001b[0m\u001b[1;34m'l2_m2_len12236M_SurID40poly/'\u001b[0m\u001b[1;33m)\u001b[0m\u001b[1;33m\u001b[0m\u001b[0m\n\u001b[0m\u001b[0;32m      3\u001b[0m \u001b[0mEOBNRv2_22_q2_191839M\u001b[0m \u001b[1;33m=\u001b[0m \u001b[0mgws\u001b[0m\u001b[1;33m.\u001b[0m\u001b[0mEvaluateSurrogate\u001b[0m\u001b[1;33m(\u001b[0m\u001b[0munzip_loc\u001b[0m\u001b[1;33m+\u001b[0m\u001b[1;34m'EOBNRv2_q1_2_NoSpin_SingleModes/'\u001b[0m\u001b[1;33m+\u001b[0m\u001b[1;34m'l2_m2_len191839M_SurID20poly/'\u001b[0m\u001b[1;33m)\u001b[0m\u001b[1;33m\u001b[0m\u001b[0m\n",
        "\u001b[1;32m/home/balzani57/GitRepos/Codes/gwsurrogate/gwsurrogate/surrogate.pyc\u001b[0m in \u001b[0;36m__init__\u001b[1;34m(self, path)\u001b[0m\n\u001b[0;32m    377\u001b[0m                 \u001b[1;32melse\u001b[0m\u001b[1;33m:\u001b[0m\u001b[1;33m\u001b[0m\u001b[0m\n\u001b[0;32m    378\u001b[0m                         \u001b[0mTextSurrogate\u001b[0m\u001b[1;33m.\u001b[0m\u001b[0m__init__\u001b[0m\u001b[1;33m(\u001b[0m\u001b[0mself\u001b[0m\u001b[1;33m,\u001b[0m \u001b[0mpath\u001b[0m\u001b[1;33m)\u001b[0m\u001b[1;33m\u001b[0m\u001b[0m\n\u001b[1;32m--> 379\u001b[1;33m                         \u001b[0mself\u001b[0m\u001b[1;33m.\u001b[0m\u001b[0mload_text\u001b[0m\u001b[1;33m(\u001b[0m\u001b[1;33m)\u001b[0m\u001b[1;33m\u001b[0m\u001b[0m\n\u001b[0m\u001b[0;32m    380\u001b[0m \u001b[1;33m\u001b[0m\u001b[0m\n\u001b[0;32m    381\u001b[0m \u001b[1;33m\u001b[0m\u001b[0m\n",
        "\u001b[1;32m/home/balzani57/GitRepos/Codes/gwsurrogate/gwsurrogate/surrogate.pyc\u001b[0m in \u001b[0;36mload_text\u001b[1;34m(self)\u001b[0m\n\u001b[0;32m    267\u001b[0m                 \u001b[0mself\u001b[0m\u001b[1;33m.\u001b[0m\u001b[0mfitparams_phase\u001b[0m \u001b[1;33m=\u001b[0m \u001b[0mnp\u001b[0m\u001b[1;33m.\u001b[0m\u001b[0mloadtxt\u001b[0m\u001b[1;33m(\u001b[0m\u001b[0msdir\u001b[0m\u001b[1;33m+\u001b[0m\u001b[0mself\u001b[0m\u001b[1;33m.\u001b[0m\u001b[0m_fitparams_phase_file\u001b[0m\u001b[1;33m)\u001b[0m\u001b[1;33m\u001b[0m\u001b[0m\n\u001b[0;32m    268\u001b[0m                 \u001b[0mself\u001b[0m\u001b[1;33m.\u001b[0m\u001b[0mfitparams_amp\u001b[0m   \u001b[1;33m=\u001b[0m \u001b[0mnp\u001b[0m\u001b[1;33m.\u001b[0m\u001b[0mloadtxt\u001b[0m\u001b[1;33m(\u001b[0m\u001b[0msdir\u001b[0m\u001b[1;33m+\u001b[0m\u001b[0mself\u001b[0m\u001b[1;33m.\u001b[0m\u001b[0m_fitparams_amp_file\u001b[0m\u001b[1;33m)\u001b[0m\u001b[1;33m\u001b[0m\u001b[0m\n\u001b[1;32m--> 269\u001b[1;33m                 \u001b[0mself\u001b[0m\u001b[1;33m.\u001b[0m\u001b[0mfitparams_norm\u001b[0m  \u001b[1;33m=\u001b[0m \u001b[0mnp\u001b[0m\u001b[1;33m.\u001b[0m\u001b[0mloadtxt\u001b[0m\u001b[1;33m(\u001b[0m\u001b[0msdir\u001b[0m\u001b[1;33m+\u001b[0m\u001b[0mself\u001b[0m\u001b[1;33m.\u001b[0m\u001b[0m_fitparams_norm_file\u001b[0m\u001b[1;33m)\u001b[0m\u001b[1;33m\u001b[0m\u001b[0m\n\u001b[0m\u001b[0;32m    270\u001b[0m                 \u001b[0mself\u001b[0m\u001b[1;33m.\u001b[0m\u001b[0maffine_map\u001b[0m      \u001b[1;33m=\u001b[0m \u001b[0mbool\u001b[0m\u001b[1;33m(\u001b[0m\u001b[0mnp\u001b[0m\u001b[1;33m.\u001b[0m\u001b[0mloadtxt\u001b[0m\u001b[1;33m(\u001b[0m\u001b[0msdir\u001b[0m\u001b[1;33m+\u001b[0m\u001b[0mself\u001b[0m\u001b[1;33m.\u001b[0m\u001b[0m_affine_map_file\u001b[0m\u001b[1;33m)\u001b[0m\u001b[1;33m)\u001b[0m\u001b[1;33m\u001b[0m\u001b[0m\n\u001b[0;32m    271\u001b[0m \u001b[1;33m\u001b[0m\u001b[0m\n",
        "\u001b[1;32m/usr/lib/python2.7/dist-packages/numpy/lib/npyio.pyc\u001b[0m in \u001b[0;36mloadtxt\u001b[1;34m(fname, dtype, comments, delimiter, converters, skiprows, usecols, unpack, ndmin)\u001b[0m\n\u001b[0;32m    688\u001b[0m                 \u001b[0mfh\u001b[0m \u001b[1;33m=\u001b[0m \u001b[0miter\u001b[0m\u001b[1;33m(\u001b[0m\u001b[0mbz2\u001b[0m\u001b[1;33m.\u001b[0m\u001b[0mBZ2File\u001b[0m\u001b[1;33m(\u001b[0m\u001b[0mfname\u001b[0m\u001b[1;33m)\u001b[0m\u001b[1;33m)\u001b[0m\u001b[1;33m\u001b[0m\u001b[0m\n\u001b[0;32m    689\u001b[0m             \u001b[1;32melse\u001b[0m\u001b[1;33m:\u001b[0m\u001b[1;33m\u001b[0m\u001b[0m\n\u001b[1;32m--> 690\u001b[1;33m                 \u001b[0mfh\u001b[0m \u001b[1;33m=\u001b[0m \u001b[0miter\u001b[0m\u001b[1;33m(\u001b[0m\u001b[0mopen\u001b[0m\u001b[1;33m(\u001b[0m\u001b[0mfname\u001b[0m\u001b[1;33m,\u001b[0m \u001b[1;34m'U'\u001b[0m\u001b[1;33m)\u001b[0m\u001b[1;33m)\u001b[0m\u001b[1;33m\u001b[0m\u001b[0m\n\u001b[0m\u001b[0;32m    691\u001b[0m         \u001b[1;32melse\u001b[0m\u001b[1;33m:\u001b[0m\u001b[1;33m\u001b[0m\u001b[0m\n\u001b[0;32m    692\u001b[0m             \u001b[0mfh\u001b[0m \u001b[1;33m=\u001b[0m \u001b[0miter\u001b[0m\u001b[1;33m(\u001b[0m\u001b[0mfname\u001b[0m\u001b[1;33m)\u001b[0m\u001b[1;33m\u001b[0m\u001b[0m\n",
        "\u001b[1;31mIOError\u001b[0m: [Errno 2] No such file or directory: '/home/balzani57/GitRepos/Codes/gwsurrogate/gwsurrogate/../surrogate_downloads/EOBNRv2/EOBNRv2_q1_10_NoSpin_SingleModes/l2_m2_len12236M_SurID40poly/fit_coeff_norm.txt'"
       ]
      }
     ],
     "prompt_number": 9
    },
    {
     "cell_type": "code",
     "collapsed": false,
     "input": [
      "### evaluate and plot ###\n",
      "\n",
      "hp, hc = EOBNRv2_22_q10_12236M(8.7)\n",
      "t = EOBNRv2_22_q10_12236M.time()\n",
      "\n",
      "EOBNRv2_22_q10_12236M.plot_pretty(t, hp, hc,2) # NOTE: EOB and NR are normalized differently and are defined on diffrent time intervals \n",
      "plt.pyplot.show()"
     ],
     "language": "python",
     "metadata": {},
     "outputs": [
      {
       "ename": "NameError",
       "evalue": "name 'EOBNRv2_22_q10_12236M' is not defined",
       "output_type": "pyerr",
       "traceback": [
        "\u001b[1;31m---------------------------------------------------------------------------\u001b[0m\n\u001b[1;31mNameError\u001b[0m                                 Traceback (most recent call last)",
        "\u001b[1;32m<ipython-input-10-67135a5181b8>\u001b[0m in \u001b[0;36m<module>\u001b[1;34m()\u001b[0m\n\u001b[0;32m      1\u001b[0m \u001b[1;31m### evaluate and plot ###\u001b[0m\u001b[1;33m\u001b[0m\u001b[1;33m\u001b[0m\u001b[0m\n\u001b[0;32m      2\u001b[0m \u001b[1;33m\u001b[0m\u001b[0m\n\u001b[1;32m----> 3\u001b[1;33m \u001b[0mhp\u001b[0m\u001b[1;33m,\u001b[0m \u001b[0mhc\u001b[0m \u001b[1;33m=\u001b[0m \u001b[0mEOBNRv2_22_q10_12236M\u001b[0m\u001b[1;33m(\u001b[0m\u001b[1;36m8.7\u001b[0m\u001b[1;33m)\u001b[0m\u001b[1;33m\u001b[0m\u001b[0m\n\u001b[0m\u001b[0;32m      4\u001b[0m \u001b[0mt\u001b[0m \u001b[1;33m=\u001b[0m \u001b[0mEOBNRv2_22_q10_12236M\u001b[0m\u001b[1;33m.\u001b[0m\u001b[0mtime\u001b[0m\u001b[1;33m(\u001b[0m\u001b[1;33m)\u001b[0m\u001b[1;33m\u001b[0m\u001b[0m\n\u001b[0;32m      5\u001b[0m \u001b[1;33m\u001b[0m\u001b[0m\n",
        "\u001b[1;31mNameError\u001b[0m: name 'EOBNRv2_22_q10_12236M' is not defined"
       ]
      }
     ],
     "prompt_number": 10
    }
   ],
   "metadata": {}
  }
 ]
}