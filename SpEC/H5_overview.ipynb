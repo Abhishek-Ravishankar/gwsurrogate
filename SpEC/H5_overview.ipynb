{
 "metadata": {
  "name": "",
  "signature": "sha256:c47e2dbbd887db958318de0f9950bb0449ed109295c2e59a0fe822eb30c4d25d"
 },
 "nbformat": 3,
 "nbformat_minor": 0,
 "worksheets": [
  {
   "cells": [
    {
     "cell_type": "code",
     "collapsed": false,
     "input": [
      "import sys\n",
      "#sys.path.append('/Users/crgalley/Physics/Research/Projects/ReducedBasis/Surrogates/gwsurrogate/')\n",
      "sys.path.append('/home/scott/Repos/GitRepos/Codes/gwsurrogate/')\n",
      "import gwsurrogate as gws\n",
      "\n",
      "import matplotlib.pyplot as plt\n",
      "import numpy as np"
     ],
     "language": "python",
     "metadata": {},
     "outputs": []
    },
    {
     "cell_type": "code",
     "collapsed": false,
     "input": [
      "# Import a surrogate in HDF5 format\n",
      "sur1 = gws.EvaluateSingleModeSurrogate('NR22-A22.h5')\n",
      "print sur1.surrogate_ID"
     ],
     "language": "python",
     "metadata": {},
     "outputs": []
    },
    {
     "cell_type": "code",
     "collapsed": false,
     "input": [
      "sur1.plot_sur(np.pi);"
     ],
     "language": "python",
     "metadata": {},
     "outputs": []
    },
    {
     "cell_type": "code",
     "collapsed": false,
     "input": [
      "# We can write this data to a different HDF5 file if we want\n",
      "# First, collect the data from sur1 into a dictionary...\n",
      "data = sur1.prepare_data(sur1)\n",
      "\n",
      "# ...then pass this into the write_h5 function\n",
      "sur1.write_h5(data, 'NR22-A22-test1.h5')"
     ],
     "language": "python",
     "metadata": {},
     "outputs": []
    },
    {
     "cell_type": "code",
     "collapsed": false,
     "input": [
      "# We can load this data back in with:\n",
      "sur2 = gws.EvaluateSingleModeSurrogate('NR22-A22-test1.h5')\n",
      "print sur2.surrogate_ID"
     ],
     "language": "python",
     "metadata": {},
     "outputs": []
    },
    {
     "cell_type": "code",
     "collapsed": false,
     "input": [
      "# There is much greater flexibility for interfacing with HDF5 data \n",
      "# using the H5Surrogate class directly.\n",
      "\n",
      "# For example, we can also pass a pointer to an open file for reading with:\n",
      "import h5py\n",
      "fp1 = h5py.File('NR22-A22.h5', 'r')\n",
      "sur3 = gws.H5Surrogate(fp1, 'r')\n",
      "print sur3.surrogate_ID\n",
      "\n",
      "# Note that the file is now closed:\n",
      "print sur3.file"
     ],
     "language": "python",
     "metadata": {},
     "outputs": []
    },
    {
     "cell_type": "code",
     "collapsed": false,
     "input": [
      "# We can also pass a pointer to an open file for writing to:\n",
      "fp2 = h5py.File('NR22-A22-test2.h5', 'w')\n",
      "sur4 = gws.H5Surrogate(fp2, 'w')\n",
      "sur4.write_h5(data)"
     ],
     "language": "python",
     "metadata": {},
     "outputs": []
    },
    {
     "cell_type": "code",
     "collapsed": false,
     "input": [
      "# Alternatively, just pass nothing to the H5Surrogate class...\n",
      "sur5 = gws.H5Surrogate()\n",
      "\n",
      "# ...and load some surrogate data...\n",
      "sur5.load_h5('NR22-A22.h5')\n",
      "print sur5.surrogate_ID\n",
      "\n",
      "# ...then write to a different file...\n",
      "sur5.write_h5(sur5.prepare_data(sur5), 'NR22-A22-test3.h5')\n",
      "\n",
      "# ...and load that new data file back in (this will overwrite any\n",
      "# attribute data held in sur5)...\n",
      "sur5.load_h5('NR22-A22-test3.h5')\n",
      "print sur5.surrogate_ID\n",
      "\n",
      "# ... or a different surrogate data file\n",
      "sur5.load_h5('NR22-A22-test1.h5')\n",
      "print sur5.surrogate_ID"
     ],
     "language": "python",
     "metadata": {},
     "outputs": []
    },
    {
     "cell_type": "heading",
     "level": 3,
     "metadata": {},
     "source": [
      "IO tests with hdf5 and text surrogates"
     ]
    },
    {
     "cell_type": "code",
     "collapsed": false,
     "input": [
      "### text-2-text IO ###\n",
      "path_to_surrogate = '../tutorial/EOBNRv2_example/EOBNRv2_q1_2_NoSpin_SingleModes/l2_m2_len12239M_SurID19poly/' # assumes notebook launched from \"notebooks\" directory\n",
      "EOBNRv2_sur = gws.EvaluateSingleModeSurrogate(path_to_surrogate)"
     ],
     "language": "python",
     "metadata": {},
     "outputs": []
    },
    {
     "cell_type": "code",
     "collapsed": false,
     "input": [
      "fp = gws.TextSurrogateWrite('tmp_txt/')"
     ],
     "language": "python",
     "metadata": {},
     "outputs": []
    },
    {
     "cell_type": "code",
     "collapsed": false,
     "input": [
      "fp.write_text?"
     ],
     "language": "python",
     "metadata": {},
     "outputs": []
    },
    {
     "cell_type": "code",
     "collapsed": false,
     "input": [
      "fp.write_text(EOBNRv2_sur.time_info, EOBNRv2_sur.B,EOBNRv2_sur.eim_indices,\\\n",
      "              EOBNRv2_sur.greedy_points,EOBNRv2_sur.fit_interval,EOBNRv2_sur.affine_map,\\\n",
      "              EOBNRv2_sur.fitparams_amp,EOBNRv2_sur.fitparams_phase,EOBNRv2_sur.fitparams_norm,\\\n",
      "              EOBNRv2_sur.V,EOBNRv2_sur.R,EOBNRv2_sur.fit_type_phase,EOBNRv2_sur.fit_type_amp,\\\n",
      "              EOBNRv2_sur.fit_type_norm)"
     ],
     "language": "python",
     "metadata": {},
     "outputs": []
    },
    {
     "cell_type": "code",
     "collapsed": false,
     "input": [
      "written_surr = gws.EvaluateSingleModeSurrogate('tmp_txt/')"
     ],
     "language": "python",
     "metadata": {},
     "outputs": []
    },
    {
     "cell_type": "code",
     "collapsed": false,
     "input": [
      "t, hp, hc = written_surr(1.2)\n",
      "written_surr.plot_pretty(t,hp,hc)\n",
      "plt.show()"
     ],
     "language": "python",
     "metadata": {},
     "outputs": []
    },
    {
     "cell_type": "heading",
     "level": 3,
     "metadata": {},
     "source": [
      "Below this line is relevant parts for the old h5surrogate_ex1 example notebook (could be deleted)"
     ]
    },
    {
     "cell_type": "markdown",
     "metadata": {},
     "source": [
      "You can see what functions are available with the `options` attribute:"
     ]
    },
    {
     "cell_type": "code",
     "collapsed": false,
     "input": [
      "sur5.options\n",
      "print sur5.tmin, sur5.tmax\n",
      "print sur5('tmin'), sur5('tmax')\n",
      "print sur5.eim_indices\n",
      "print sur5.greedy_points"
     ],
     "language": "python",
     "metadata": {},
     "outputs": []
    }
   ],
   "metadata": {}
  }
 ]
}