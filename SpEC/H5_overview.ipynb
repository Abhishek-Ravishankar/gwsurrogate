{
 "metadata": {
  "name": "",
  "signature": "sha256:c47e2dbbd887db958318de0f9950bb0449ed109295c2e59a0fe822eb30c4d25d"
 },
 "nbformat": 3,
 "nbformat_minor": 0,
 "worksheets": [
  {
   "cells": [
    {
     "cell_type": "code",
     "collapsed": false,
     "input": [
      "import sys\n",
      "#sys.path.append('/Users/crgalley/Physics/Research/Projects/ReducedBasis/Surrogates/gwsurrogate/')\n",
      "sys.path.append('/home/scott/Repos/GitRepos/Codes/gwsurrogate/')\n",
      "import gwsurrogate as gws\n",
      "\n",
      "import numpy as np"
     ],
     "language": "python",
     "metadata": {},
     "outputs": [],
     "prompt_number": 1
    },
    {
     "cell_type": "code",
     "collapsed": false,
     "input": [
      "# Import a surrogate in HDF5 format\n",
      "sur1 = gws.EvaluateSingleModeSurrogate('NR22-A22.h5')\n",
      "print sur1.surrogate_ID"
     ],
     "language": "python",
     "metadata": {},
     "outputs": [
      {
       "output_type": "stream",
       "stream": "stdout",
       "text": [
        "NR22-A22\n"
       ]
      }
     ],
     "prompt_number": 2
    },
    {
     "cell_type": "code",
     "collapsed": false,
     "input": [
      "sur1.plot_sur(np.pi);"
     ],
     "language": "python",
     "metadata": {},
     "outputs": [],
     "prompt_number": 3
    },
    {
     "cell_type": "code",
     "collapsed": false,
     "input": [
      "# We can write this data to a different HDF5 file if we want\n",
      "# First, collect the data from sur1 into a dictionary...\n",
      "data = sur1.prepare_data(sur1)\n",
      "\n",
      "# ...then pass this into the write_h5 function\n",
      "sur1.write_h5(data, 'NR22-A22-test1.h5')"
     ],
     "language": "python",
     "metadata": {},
     "outputs": [],
     "prompt_number": 4
    },
    {
     "cell_type": "code",
     "collapsed": false,
     "input": [
      "# We can load this data back in with:\n",
      "sur2 = gws.EvaluateSingleModeSurrogate('NR22-A22-test1.h5')\n",
      "print sur2.surrogate_ID"
     ],
     "language": "python",
     "metadata": {},
     "outputs": [
      {
       "output_type": "stream",
       "stream": "stdout",
       "text": [
        "NR22-A22-test1\n"
       ]
      }
     ],
     "prompt_number": 5
    },
    {
     "cell_type": "code",
     "collapsed": false,
     "input": [
      "# There is much greater flexibility for interfacing with HDF5 data \n",
      "# using the H5Surrogate class directly.\n",
      "\n",
      "# For example, we can also pass a pointer to an open file for reading with:\n",
      "import h5py\n",
      "fp1 = h5py.File('NR22-A22.h5', 'r')\n",
      "sur3 = gws.H5Surrogate(fp1, 'r')\n",
      "print sur3.surrogate_ID\n",
      "\n",
      "# Note that the file is now closed:\n",
      "print sur3.file"
     ],
     "language": "python",
     "metadata": {},
     "outputs": [
      {
       "output_type": "stream",
       "stream": "stdout",
       "text": [
        "NR22-A22\n",
        "<Closed HDF5 file>\n"
       ]
      }
     ],
     "prompt_number": 6
    },
    {
     "cell_type": "code",
     "collapsed": false,
     "input": [
      "# We can also pass a pointer to an open file for writing to:\n",
      "fp2 = h5py.File('NR22-A22-test2.h5', 'w')\n",
      "sur4 = gws.H5Surrogate(fp2, 'w')\n",
      "sur4.write_h5(data)"
     ],
     "language": "python",
     "metadata": {},
     "outputs": [],
     "prompt_number": 7
    },
    {
     "cell_type": "code",
     "collapsed": false,
     "input": [
      "# Alternatively, just pass nothing to the H5Surrogate class...\n",
      "sur5 = gws.H5Surrogate()\n",
      "\n",
      "# ...and load some surrogate data...\n",
      "sur5.load_h5('NR22-A22.h5')\n",
      "print sur5.surrogate_ID\n",
      "\n",
      "# ...then write to a different file...\n",
      "sur5.write_h5(sur5.prepare_data(sur5), 'NR22-A22-test3.h5')\n",
      "\n",
      "# ...and load that new data file back in (this will overwrite any\n",
      "# attribute data held in sur5)...\n",
      "sur5.load_h5('NR22-A22-test3.h5')\n",
      "print sur5.surrogate_ID\n",
      "\n",
      "# ... or a different surrogate data file\n",
      "sur5.load_h5('NR22-A22-test1.h5')\n",
      "print sur5.surrogate_ID"
     ],
     "language": "python",
     "metadata": {},
     "outputs": [
      {
       "output_type": "stream",
       "stream": "stdout",
       "text": [
        "NR22-A22\n",
        "NR22-A22-test3"
       ]
      },
      {
       "output_type": "stream",
       "stream": "stdout",
       "text": [
        "\n",
        "NR22-A22-test1\n"
       ]
      }
     ],
     "prompt_number": 8
    },
    {
     "cell_type": "markdown",
     "metadata": {},
     "source": [
      "Below this line is relevant parts for the old h5surrogate_ex1 example notebook "
     ]
    },
    {
     "cell_type": "markdown",
     "metadata": {},
     "source": [
      "You can see what functions are available with the `options` attribute:"
     ]
    },
    {
     "cell_type": "code",
     "collapsed": false,
     "input": [
      "sur5.options"
     ],
     "language": "python",
     "metadata": {},
     "outputs": [
      {
       "ename": "AttributeError",
       "evalue": "H5Surrogate instance has no attribute 'options'",
       "output_type": "pyerr",
       "traceback": [
        "\u001b[0;31m---------------------------------------------------------------------------\u001b[0m\n\u001b[0;31mAttributeError\u001b[0m                            Traceback (most recent call last)",
        "\u001b[0;32m<ipython-input-9-620f3b77eb3d>\u001b[0m in \u001b[0;36m<module>\u001b[0;34m()\u001b[0m\n\u001b[0;32m----> 1\u001b[0;31m \u001b[0msur5\u001b[0m\u001b[0;34m.\u001b[0m\u001b[0moptions\u001b[0m\u001b[0;34m\u001b[0m\u001b[0m\n\u001b[0m",
        "\u001b[0;31mAttributeError\u001b[0m: H5Surrogate instance has no attribute 'options'"
       ]
      }
     ],
     "prompt_number": 9
    },
    {
     "cell_type": "code",
     "collapsed": false,
     "input": [
      "print sur5.tmin, sur5.tmax\n",
      "print sur5('tmin'), sur5('tmax')"
     ],
     "language": "python",
     "metadata": {},
     "outputs": [
      {
       "ename": "AttributeError",
       "evalue": "H5Surrogate instance has no __call__ method",
       "output_type": "pyerr",
       "traceback": [
        "\u001b[0;31m---------------------------------------------------------------------------\u001b[0m\n\u001b[0;31mAttributeError\u001b[0m                            Traceback (most recent call last)",
        "\u001b[0;32m<ipython-input-15-520d90485afb>\u001b[0m in \u001b[0;36m<module>\u001b[0;34m()\u001b[0m\n\u001b[1;32m      1\u001b[0m \u001b[0;32mprint\u001b[0m \u001b[0msur5\u001b[0m\u001b[0;34m.\u001b[0m\u001b[0mtmin\u001b[0m\u001b[0;34m,\u001b[0m \u001b[0msur5\u001b[0m\u001b[0;34m.\u001b[0m\u001b[0mtmax\u001b[0m\u001b[0;34m\u001b[0m\u001b[0m\n\u001b[0;32m----> 2\u001b[0;31m \u001b[0;32mprint\u001b[0m \u001b[0msur5\u001b[0m\u001b[0;34m(\u001b[0m\u001b[0;34m'tmin'\u001b[0m\u001b[0;34m)\u001b[0m\u001b[0;34m,\u001b[0m \u001b[0msur5\u001b[0m\u001b[0;34m(\u001b[0m\u001b[0;34m'tmax'\u001b[0m\u001b[0;34m)\u001b[0m\u001b[0;34m\u001b[0m\u001b[0m\n\u001b[0m",
        "\u001b[0;31mAttributeError\u001b[0m: H5Surrogate instance has no __call__ method"
       ]
      },
      {
       "output_type": "stream",
       "stream": "stdout",
       "text": [
        "-2750.0 100.0\n"
       ]
      }
     ],
     "prompt_number": 15
    },
    {
     "cell_type": "code",
     "collapsed": false,
     "input": [
      "print sur5.eim_indices\n",
      "print sur5.greedy_points"
     ],
     "language": "python",
     "metadata": {},
     "outputs": [
      {
       "output_type": "stream",
       "stream": "stdout",
       "text": [
        "[8800 2952 5489    0 4175 7193 4827 6344 1951 8572 7857 3559 8931 8880 9034\n",
        " 1160 8664 8971 6900 8369 2578 9160]\n",
        "[ 1.          1.9999805   2.99998939  3.99997659  5.99994861  9.9895104\n",
        "  8.26745727  5.03880132  7.1871282   9.16729944  4.49877334  2.50740462\n",
        "  6.57976519  3.49758719  1.51751401  7.76088237  9.66281618  5.52238182\n",
        "  1.20246156  8.72877066  3.27249643  2.31619923]\n"
       ]
      }
     ],
     "prompt_number": 14
    },
    {
     "cell_type": "code",
     "collapsed": false,
     "input": [],
     "language": "python",
     "metadata": {},
     "outputs": []
    }
   ],
   "metadata": {}
  }
 ]
}