{
 "metadata": {
  "name": "EOBLAL"
 },
 "nbformat": 3,
 "nbformat_minor": 0,
 "worksheets": [
  {
   "cells": [
    {
     "cell_type": "heading",
     "level": 1,
     "metadata": {},
     "source": [
      "WARNING: SCOTTS EOB CODE HAS BEEN EDITTED (e.g. sSub turned off and modes are returned -- this notebook needs to account for that)"
     ]
    },
    {
     "cell_type": "markdown",
     "metadata": {},
     "source": [
      "*** This notebook assumes basic familiarity with gwsurrogate as covered in example1.ipynb ***"
     ]
    },
    {
     "cell_type": "code",
     "collapsed": false,
     "input": [
      "import sys\n",
      "path_to_gws = '/home/balzani57/GitRepos/Codes/gwsurrogate/'\n",
      "sys.path.append(path_to_gws)\n",
      "\n",
      "path_to_gwtools = '/home/balzani57/GitRepos/Codes/gwsurrogate/gwsurrogate/'\n",
      "sys.path.append(path_to_gwtools)\n",
      "\n",
      "from pylab import matplotlib as plt\n",
      "import numpy as np\n",
      "import gwsurrogate as gws\n",
      "import gwtools as gwtools\n",
      "\n",
      "EOBNRv2_sur = gws.EvaluateSurrogate(path_to_gws+'tutorial/EOBNRv2_example/EOBNRv2_q1_2_NoSpin_SingleModes/l2_m2_len12239M_SurID19poly/')"
     ],
     "language": "python",
     "metadata": {},
     "outputs": []
    },
    {
     "cell_type": "code",
     "collapsed": false,
     "input": [
      "### assumes lal and lalsimulation python packages are installed ###\n",
      "import lal\n",
      "import lalsimulation as lalsim"
     ],
     "language": "python",
     "metadata": {},
     "outputs": []
    },
    {
     "cell_type": "code",
     "collapsed": false,
     "input": [
      "### a few useful helper functions ###\n",
      "def m1_m2(M,q):\n",
      "    return M/(q+1), M*q/(q+1) # returns m1 and m2, assuming m2 >= m1 (q>=1)\n",
      "\n",
      "def dimensionless_time(M,t):\n",
      "    tmp = lal.LAL_MSUN_SI * lal.LAL_G_SI / np.power(lal.LAL_C_SI,3.0)\n",
      "    return ( t / tmp ) / M\n",
      "\n",
      "def norm_L2_sqrd(f,dx):\n",
      "    return (np.sum(f*np.conj(f)) * dx).real\n",
      "    \n",
      "def generate_parameterized_functional(t,h1_interp,h2_eval,mynorm):\n",
      "    \n",
      "    dt = 1.0 # we optimize the relative errors, factors of dt cancel for Euclidean norm\n",
      "    \n",
      "    def ObjectiveFunctional(x):\n",
      "        deltaT_off   = x[0]\n",
      "        deltaPhi_off = x[1]\n",
      "        \n",
      "        t_offset = gwtools.coordinate_time_shift(t,-deltaT_off)\n",
      "        h1_eval  = h1_interp(t_offset)\n",
      "        h1_trial = gwtools.modify_phase(h1_eval,-deltaPhi_off)\n",
      "\n",
      "        err_h          = h1_trial - h2_eval\n",
      "        overlap_errors = mynorm(err_h,dt)/mynorm(h1_trial,dt)\n",
      "    \n",
      "        return overlap_errors\n",
      "    \n",
      "    return ObjectiveFunctional"
     ],
     "language": "python",
     "metadata": {},
     "outputs": []
    },
    {
     "cell_type": "heading",
     "level": 1,
     "metadata": {},
     "source": [
      "Lesson 1: Compare effective one body waveform evaluations"
     ]
    },
    {
     "cell_type": "markdown",
     "metadata": {},
     "source": [
      "nonspinning binary black hole systems emit gravitational waves which depend on component masses m1 and m2. They are functions of time t, often quoted in seconds. Using Newton's constant G and the speed of light c, t can be put into units of solar mass. Define the total mass to be M = m1+m2 in solar masses, R the distance from the system, and the mass ratio to be q=m2/m1. \n",
      "\n",
      "Dimensionless gravitational strain waveforms are described by a one-parameter family \n",
      "\n",
      "(R/M) H(T;q,1)\n",
      "\n",
      "where T is a dimensionless time variable \n",
      "\n",
      "T = t/M\n",
      "\n",
      "That is, any physical waveform h(t;q,M) can be generated from (R/M) H(T;q,1) as\n",
      "\n",
      "h(t;q,M) = (M/R) H(t/M;q,1) \n",
      "\n",
      "In Lesson one, we verify this property with function calls to lalsim while recording the error (presumably of numerical origin). Next, in Lesson 2, we shall repeat this experiment using surrogates. "
     ]
    },
    {
     "cell_type": "code",
     "collapsed": false,
     "input": [
      "def EOBNRv2_LAL(Mtot,q,dt,fmin,Dist):\n",
      "    \n",
      "    ### settings for all subsequent LAL calls ###\n",
      "    lambda1     = lambda2 = 0.\n",
      "    waveFlags   = None\n",
      "    nonGRparams = None\n",
      "    ampO        = 0\n",
      "    phaseO      = 7\n",
      "    fref        = 0.\n",
      "    incl        = 0. \n",
      "    phiref      = 0. # NOTE: current hack uses this parameter to grab modes... 0 is the (2,2). \n",
      "    thetaS      = 0. \n",
      "    phiS        = 0. \n",
      "    psi         = 0.\n",
      "    s1x         = s1y = s1z = s2x = s2y = s2z = 0.\n",
      "    approx      = lalsim.EOBNRv2\n",
      "    \n",
      "    M1,M2  = m1_m2(Mtot,q)\n",
      "    hp, hc = lalsim.SimInspiralChooseTDWaveform(phiref, dt, M1, M2,s1x, s1y, s1z, s2x, s2y, s2z, fmin, fref, \\\n",
      "                                                Dist, incl, lambda1, lambda2,waveFlags, nonGRparams, ampO, phaseO, approx)\n",
      "    h      = hp.data.data + (1j)*hc.data.data\n",
      "    \n",
      "    times  = np.arange(np.size(hp.data.data))*hp.deltaT\n",
      "    \n",
      "    return times, h"
     ],
     "language": "python",
     "metadata": {},
     "outputs": []
    },
    {
     "cell_type": "code",
     "collapsed": false,
     "input": [
      "### Example 1: generate an 8+8 EOB waveform ###\n",
      "### Example 2: easy comparison between 8+8 and 2+2 EOB waveform ###\n",
      "Mtot = 16.0 * lal.LAL_MSUN_SI\n",
      "q    = 1.0\n",
      "Dist = 1.0 * 1e6 * lal.LAL_PC_SI\n",
      "dt   = 1.0/262144.0\n",
      "fmin = 40.0/2.383\n",
      "\n",
      "times, h_16 = EOBNRv2_LAL(Mtot,q,dt,fmin,Dist)\n",
      "time_16 = dimensionless_time(Mtot / lal.LAL_MSUN_SI,times)\n",
      "\n",
      "Mtot = 4.0 * lal.LAL_MSUN_SI\n",
      "fmin = 40.0\n",
      "\n",
      "time_4, h_4 = EOBNRv2_LAL(Mtot,q,dt,fmin,Dist)\n",
      "time_4 = dimensionless_time(Mtot / lal.LAL_MSUN_SI,time_4)\n",
      "\n",
      "# Example 1 plot....\n",
      "plt.pyplot.figure(1)\n",
      "plt.pyplot.plot(times,np.abs(h_16),'blue')\n",
      "EOBNRv2_sur.plot_pretty(times, h_16.real, h_16.imag)\n",
      "plt.pyplot.xlabel('$t$ in seconds')\n",
      "plt.pyplot.xlim(13.5, 14.1)\n",
      "\n",
      "# Example 2 plot and data...\n",
      "\n",
      "# shift waveforms to discrete peak. Visually, these amplitudes should agree\n",
      "plt.pyplot.figure(2)\n",
      "plt.pyplot.plot(time_4 - time_4[np.argmax(np.abs(h_4))],np.abs(h_4)/4.0,'red')\n",
      "plt.pyplot.plot(time_16 - time_16[np.argmax(np.abs(h_16))],np.abs(h_16)/16.0,'blue')\n",
      "plt.pyplot.show()\n",
      "\n",
      "# Theoretically we expect the ratio of maximum amplitudes to be 16/4...\n",
      "print np.max(np.abs(h_16))/np.max(np.abs(h_4))\n",
      "\n",
      "# By making dt smaller, repeat the above experiment to find convergence to 16/4\n",
      "#16kHz:  4.00016065388\n",
      "#32kHz:  4.00033232385\n",
      "#64Khz:  4.00039747584\n",
      "#128Khz: 4.00002540904\n",
      "#262Khz: 4.00003348866\n",
      "#524Khz: 4.00000908672"
     ],
     "language": "python",
     "metadata": {},
     "outputs": []
    },
    {
     "cell_type": "code",
     "collapsed": false,
     "input": [
      "###  Overall scaling with mass is NOT a free parameter -- scale by exact Mtot ###\n",
      "h_4 = h_4/4.0\n",
      "h_16 = h_16/16.0"
     ],
     "language": "python",
     "metadata": {},
     "outputs": []
    },
    {
     "cell_type": "code",
     "collapsed": false,
     "input": [
      "### Compute time-domain overlap (i.e. L2) error between dimensionless 8+8 and 2+2 ###\n",
      "# with freedom to shift in time and GW phase, we compute overlap errors between \n",
      "# these two waveforms my minimizing the error over time and phase shifts\n",
      "\n",
      "# Case 1: best guess values for time/phase shift \n",
      "\n",
      "# (Step 1) remove (end) portion of waveform where amplitude == 0\n",
      "time_4, h_4   = gwtools.remove_amplitude_zero(time_4,h_4)\n",
      "time_16, h_16 = gwtools.remove_amplitude_zero(time_16,h_16)\n",
      "\n",
      "plt.pyplot.figure(1)\n",
      "plt.pyplot.plot(time_4,h_4.real,'red')\n",
      "plt.pyplot.plot(time_16,h_16.real,'blue')\n",
      "plt.pyplot.title(\"dimensionless waveforms directly from LAL\")\n",
      "\n",
      "# (Step 2) find reasonable guess for \\delta t and \\delta phi by...\n",
      "#          (i)  fining discrete waveform peak\n",
      "#          (ii) aligning phase values at the peak time\n",
      "deltaT, deltaPhi = gwtools.simple_align_params(time_4,h_4,time_16,h_16)\n",
      "h_4              = gwtools.modify_phase(h_4,-deltaPhi)\n",
      "times_4          = gwtools.coordinate_time_shift(time_4,-deltaT)\n",
      "\n",
      "plt.pyplot.figure(2)\n",
      "plt.pyplot.plot(times_4,h_4.real,'red')\n",
      "plt.pyplot.plot(time_16,h_16.real,'blue')\n",
      "plt.pyplot.title(\"dimensionless waveforms with simple alignment\")\n",
      "\n",
      "# (Step 3) With interpolation, represent each waveform as a function\n",
      "### linear interpolation ###\n",
      "from scipy.interpolate import interp1d\n",
      "h_4_interp  = interp1d(times_4,h_4)\n",
      "h_16_interp = interp1d(time_16,h_16)\n",
      "\n",
      "### cubic spline interpolation ###\n",
      "#from scipy.interpolate import splrep\n",
      "#from scipy.interpolate import splev\n",
      "#h_4_interp  = splrep(times_4, h_4, k=3)\n",
      "#h_16_interp = splrep(time_16, h_16, k=3)\n",
      "\n",
      "\n",
      "# (Step 4) find common temporal window \n",
      "common_dt      = (times_4[2] - times_4[1])\n",
      "t_start, t_end = gwtools.find_common_time_window(times_4,time_16)\n",
      "common_times   = np.arange(t_start+10,t_end-10,common_dt) # small buffer needed \n",
      "#common_times = np.arange(10,100000,common_dt)\n",
      "\n",
      "\n",
      "# (Step 5) Evaluate interpolants\n",
      "### evaluate linear interpolants ###\n",
      "h_4_eval  = h_4_interp(common_times)\n",
      "h_16_eval = h_16_interp(common_times)\n",
      "\n",
      "### evaluate spline interpolants ###\n",
      "#h_4_eval   = splev(common_times,h_4_interp)\n",
      "#h_16_eval  = splev(common_times,h_16_interp)\n",
      "\n",
      "plt.pyplot.figure(3)\n",
      "plt.pyplot.plot(common_times,h_4_eval.real,'red')\n",
      "plt.pyplot.plot(common_times,h_16_eval.real,'blue')\n",
      "plt.pyplot.title(\"aligned waveforms interpolated to common grid\")\n",
      "\n",
      "\n",
      "# (Step 6) Compute time-domain overlap error\n",
      "err_h = h_4_eval - h_16_eval\n",
      "overlap_errors = (norm_L2_sqrd(err_h,common_dt)/norm_L2_sqrd(h_4_eval,common_dt))\n",
      "\n",
      "plt.pyplot.figure(4)\n",
      "plt.pyplot.plot(common_times,err_h.real ,'red')\n",
      "plt.pyplot.plot(common_times,err_h.imag,'blue')\n",
      "plt.pyplot.title(\"aligned waveform difference h1 - h2 (real/imag)\")\n",
      "\n",
      "\n",
      "#############  Report on analysis #############\n",
      "\n",
      "print \"overlap error: %e\" %overlap_errors\n",
      "\n",
      "print \"delta T offset: %f\" %deltaT\n",
      "print \"delta phi offset: %f\" %deltaPhi\n",
      "\n",
      "plt.pyplot.show()\n",
      "\n",
      "### computed for inspiral with common_times = np.arange(10,100000,common_dt) ###\n",
      "# convergence? (linear interp)\n",
      "#16kHz:  8.316714e-04\n",
      "#32kHz:  2.784851e-02\n",
      "#64Khz:  9.263555e-03\n",
      "#128Khz: 2.732424e-04\n",
      "#262Khz: 1.342440e-03\n",
      "#524Khz: 1.394727e-04\n",
      "\n",
      "# convergence? (cubic spline interp)\n",
      "#16kHz:  8.310842e-04\n",
      "#32kHz:  2.784131e-02\n",
      "#64Khz:  9.259766e-03\n",
      "#128Khz: 2.730596e-04\n",
      "#262Khz: 1.341486e-03\n",
      "#524Khz: MEMORY ERROR\n"
     ],
     "language": "python",
     "metadata": {},
     "outputs": []
    },
    {
     "cell_type": "code",
     "collapsed": false,
     "input": [
      "ObjectiveFunctional = generate_parameterized_functional(common_times,h_4_interp,h_16_eval,norm_L2_sqrd)\n",
      "print ObjectiveFunctional([0.0,0.0])"
     ],
     "language": "python",
     "metadata": {},
     "outputs": []
    },
    {
     "cell_type": "code",
     "collapsed": false,
     "input": [
      "from scipy.optimize import minimize\n",
      "from scipy.optimize import brute\n",
      "\n",
      "print \"optimization with nelder-mead...\"\n",
      "res_nm = minimize(ObjectiveFunctional, [0.0,0.0], method='nelder-mead',tol=1e-12,options={'disp': True})\n",
      "print \"optimization with brute force search...\"\n",
      "rranges  = (slice(-1.0, 1.0, 0.5), slice(0, 2*np.pi, 0.5))\n",
      "res_brute = brute(ObjectiveFunctional, rranges, full_output=True)\n",
      "print \"optimization with CG...\"\n",
      "res_cg   = minimize(ObjectiveFunctional, [0.0,0.0], method='CG',options={'disp': True})\n",
      "print \"optimization with BFGS..\"\n",
      "res_bfgs = minimize(ObjectiveFunctional, [0.0,0.0], method='BFGS',options={'disp': True})"
     ],
     "language": "python",
     "metadata": {},
     "outputs": []
    },
    {
     "cell_type": "code",
     "collapsed": false,
     "input": [
      "print \"(brute) the global minimizer is  %e , %e \" %(res_brute[0][0],res_brute[0][1])\n",
      "print \"(brute) for which the objective functional is %e \" %res_brute[1]\n",
      "print \"(NM) the global minimizer is  %e , %e \" %(res_nm.x[0],res_nm.x[1])\n",
      "print \"(NM) for which the objective functional is %e \" %ObjectiveFunctional([ res_nm.x[0], res_nm.x[1]])\n",
      "print \"(CG) the global minimizer is  %e , %e \" %(res_nm.x[0],res_cg.x[1])\n",
      "print \"(CG) for which the objective functional is %e \" %ObjectiveFunctional([ res_cg.x[0], res_cg.x[1]])\n",
      "print \"(BFGS) the global minimizer is  %e , %e \" %(res_nm.x[0],res_bfgs.x[1])\n",
      "print \"(BFGS) for which the objective functional is %e \" %ObjectiveFunctional([ res_bfgs.x[0], res_bfgs.x[1]])"
     ],
     "language": "python",
     "metadata": {},
     "outputs": []
    },
    {
     "cell_type": "code",
     "collapsed": false,
     "input": [
      "### plot solution to global optimization problem ###\n",
      "# Notice that errors are still pointwise large near merger\n",
      "# and so for shorter waveforms we can epxect larger errors\n",
      "\n",
      "common_times_off = gwtools.coordinate_time_shift(common_times,-res_nm.x[0])\n",
      "h_4_eval         = h_4_interp(common_times_off)\n",
      "h_4_trial        = gwtools.modify_phase(h_4_eval,-res_nm.x[1])\n",
      "\n",
      "err_h          = h_4_trial - h_16_eval\n",
      "overlap_errors = (norm_L2_sqrd(err_h,common_dt)/norm_L2_sqrd(h_4_trial,common_dt))\n",
      "\n",
      "print overlap_errors\n",
      "\n",
      "plt.pyplot.figure(6)\n",
      "plt.pyplot.plot(common_times,err_h.real ,'red')\n",
      "plt.pyplot.plot(common_times,err_h.imag,'blue')\n",
      "plt.pyplot.show()\n",
      "\n",
      "# but at least now the errors go down! \n",
      "# convergence? (linear interp)\n",
      "#16kHz:  1.743513e-04\n",
      "#32kHz:  2.056006e-05\n",
      "#64Khz:  5.003482e-07\n",
      "#128Khz: 4.955633e-07 <-- no change with increase optimation tolerance\n",
      "#262Khz: 4.902237e-07\n",
      "#524Khz: ???\n",
      "\n",
      "### QUESTION: would this improve if splines were used instead?"
     ],
     "language": "python",
     "metadata": {},
     "outputs": []
    },
    {
     "cell_type": "heading",
     "level": 1,
     "metadata": {},
     "source": [
      "Lesson 2: Compare surrogate and effective one body waveforms"
     ]
    },
    {
     "cell_type": "code",
     "collapsed": false,
     "input": [
      "Mtot = 80.0 * lal.LAL_MSUN_SI\n",
      "fmin = 10.0\n",
      "dt = (1.0/2048.0)\n",
      "time_LAL, h_LAL = EOBNRv2_LAL(Mtot,1.0,dt,fmin,Dist)\n",
      "#h_LAL           = h_LAL/80.0\n",
      "#time_LAL        = dimensionless_time(80.0,time_LAL)\n",
      "\n",
      "t,hp,hc = EOBNRv2_sur(q_eval=1.0,M_eval=80.0,dist_eval=1.0)\n",
      "h_sur   = hp + 1.0j*hc\n",
      "#h_sur   = h_sur/80.0\n",
      "#t_sur   = dimensionless_time(80.0,t)\n",
      "\n",
      "plt.pyplot.plot(time_LAL - time_LAL[np.argmax(np.abs(h_LAL))],np.abs(h_LAL),'red')\n",
      "plt.pyplot.plot(t - t[np.argmax(np.abs(h_sur))],np.abs(h_sur),'blue')\n",
      "plt.pyplot.show()\n",
      "print np.max(np.abs(h_sur))/np.max(np.abs(h_LAL))"
     ],
     "language": "python",
     "metadata": {},
     "outputs": []
    },
    {
     "cell_type": "code",
     "collapsed": false,
     "input": [
      "time = np.arange(np.size(hp_LAL.data.data))*hp_LAL.deltaT\n",
      "plt.pyplot.plot(t_surr,hp_surr*( np.max(np.abs(h_LAL)) / np.max(np.abs(h_surr)) )  ,'red')\n",
      "plt.pyplot.plot(time,hp_LAL.data.data,'blue')\n",
      "plt.pyplot.show()"
     ],
     "language": "python",
     "metadata": {},
     "outputs": []
    },
    {
     "cell_type": "heading",
     "level": 1,
     "metadata": {},
     "source": [
      "Lesson 3: Timings of waveforms generated by EOB-LAL code and its surrogate"
     ]
    },
    {
     "cell_type": "code",
     "collapsed": false,
     "input": [
      "### average time to evaluate a waveform (WARNING: code not yet optimized for speed, but should still be pretty fast...) ###\n",
      "# 1000 waveforms are evaluated. This will take a few seconds...\n",
      "EOBNRv2_sur.timer()"
     ],
     "language": "python",
     "metadata": {},
     "outputs": []
    },
    {
     "cell_type": "code",
     "collapsed": false,
     "input": [
      "### average time to evaluate a waveform (WARNING: code not yet optimized for speed, but should still be pretty fast...) ###\n",
      "# 1000 waveforms are evaluated. This will take a few seconds...\n",
      "EOBNRv2_sur.timer(M_eval=80.0, dist_eval=1.0, phi_ref = 0.0, f_low = 15.0)"
     ],
     "language": "python",
     "metadata": {},
     "outputs": []
    },
    {
     "cell_type": "code",
     "collapsed": false,
     "input": [
      "### average time to evaluate a waveform (WARNING: code not yet optimized for speed, but should still be pretty fast...) ###\n",
      "# 1000 waveforms are evaluated. This will take a few seconds...\n",
      "t_orig = EOBNRv2_sur.time()\n",
      "t_resamp = np.linspace(t_orig.min(), t_orig.max(), num=8000)\n",
      "EOBNRv2_sur.timer(M_eval=80.0, dist_eval=1.0, phi_ref = 0.0, f_low = 15.0, samples = t_resamp)"
     ],
     "language": "python",
     "metadata": {},
     "outputs": []
    },
    {
     "cell_type": "heading",
     "level": 1,
     "metadata": {},
     "source": [
      "Lesson 4: Using spin weighted spherical harmonics"
     ]
    },
    {
     "cell_type": "code",
     "collapsed": false,
     "input": [
      "sys.path.append('/home/balzani57/Desktop/trunk/DataAnalysis')\n",
      "sys.path.append('/home/balzani57/Desktop/trunk/DiscreteFunction')\n",
      "import harmonics as sYlm\n",
      "from WaveFunction import WaveFun"
     ],
     "language": "python",
     "metadata": {},
     "outputs": []
    }
   ],
   "metadata": {}
  }
 ]
}