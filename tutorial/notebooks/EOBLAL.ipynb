{
 "metadata": {
  "name": "EOBLAL"
 },
 "nbformat": 3,
 "nbformat_minor": 0,
 "worksheets": [
  {
   "cells": [
    {
     "cell_type": "heading",
     "level": 1,
     "metadata": {},
     "source": [
      "WARNING: SCOTTS EOB CODE HAS BEEN EDITTED (e.g. sSub turned off and modes are returned -- this notebook needs to account for that)"
     ]
    },
    {
     "cell_type": "markdown",
     "metadata": {},
     "source": [
      "*** This notebook assumes basic familiarity with gwsurrogate as covered in example1.ipynb ***"
     ]
    },
    {
     "cell_type": "code",
     "collapsed": false,
     "input": [
      "### setup paths and load modules ###\n",
      "import sys\n",
      "path_to_gws = '/home/balzani57/GitRepos/Codes/gwsurrogate/'\n",
      "sys.path.append(path_to_gws)\n",
      "\n",
      "path_to_gwtools = '/home/balzani57/GitRepos/Codes/gwsurrogate/gwsurrogate/'\n",
      "sys.path.append(path_to_gwtools)\n",
      "\n",
      "from pylab import matplotlib as plt\n",
      "import numpy as np\n",
      "import gwsurrogate as gws\n",
      "import gwtools as gwtools\n",
      "\n",
      "### import lal and lalsimulation python packages ###\n",
      "# LAL homepage: https://www.lsc-group.phys.uwm.edu/daswg/projects/lalsuite.html\n",
      "import lal\n",
      "import lalsimulation as lalsim"
     ],
     "language": "python",
     "metadata": {},
     "outputs": [],
     "prompt_number": 1
    },
    {
     "cell_type": "code",
     "collapsed": false,
     "input": [
      "### import an EOB surrogate ###\n",
      "EOBNRv2_sur = gws.EvaluateSurrogate(path_to_gws+'tutorial/EOBNRv2_example/EOBNRv2_q1_2_NoSpin_SingleModes/l2_m2_len12239M_SurID19poly/')"
     ],
     "language": "python",
     "metadata": {},
     "outputs": [],
     "prompt_number": 2
    },
    {
     "cell_type": "code",
     "collapsed": false,
     "input": [
      "### a few useful helper functions ###\n",
      "def m1_m2(M,q):\n",
      "    return M/(q+1), M*q/(q+1) # returns m1 and m2, assuming m2 >= m1 (q>=1)\n",
      "\n",
      "def dimensionless_time(M,t):\n",
      "    tmp = lal.LAL_MSUN_SI * lal.LAL_G_SI / np.power(lal.LAL_C_SI,3.0)\n",
      "    return ( t / tmp ) / M\n",
      "\n",
      "def norm_L2_sqrd(f,dx):\n",
      "    return (np.sum(f*np.conj(f)) * dx).real"
     ],
     "language": "python",
     "metadata": {},
     "outputs": [],
     "prompt_number": 3
    },
    {
     "cell_type": "code",
     "collapsed": false,
     "input": [
      "### python interface to EOBNRv2-LAL ###\n",
      "def EOBNRv2_LAL(Mtot,q,dt,fmin,Dist):\n",
      "    \n",
      "    ### settings for all subsequent LAL calls ###\n",
      "    lambda1     = lambda2 = 0.\n",
      "    waveFlags   = None\n",
      "    nonGRparams = None\n",
      "    ampO        = 0\n",
      "    phaseO      = 7\n",
      "    fref        = 0.\n",
      "    incl        = 0. \n",
      "    phiref      = 0. # NOTE: current hack uses this parameter to grab modes... 0 is the (2,2). \n",
      "    thetaS      = 0. \n",
      "    phiS        = 0. \n",
      "    psi         = 0.\n",
      "    s1x         = s1y = s1z = s2x = s2y = s2z = 0.\n",
      "    approx      = lalsim.EOBNRv2\n",
      "    \n",
      "    M1,M2  = m1_m2(Mtot,q)\n",
      "    hp, hc = lalsim.SimInspiralChooseTDWaveform(phiref, dt, M1, M2,s1x, s1y, s1z, s2x, s2y, s2z, fmin, fref, \\\n",
      "                                                Dist, incl, lambda1, lambda2,waveFlags, nonGRparams, ampO, phaseO, approx)\n",
      "    h      = hp.data.data + (1j)*hc.data.data\n",
      "    \n",
      "    times  = np.arange(np.size(hp.data.data))*hp.deltaT\n",
      "    \n",
      "    return times, h\n"
     ],
     "language": "python",
     "metadata": {},
     "outputs": [],
     "prompt_number": 4
    },
    {
     "cell_type": "heading",
     "level": 1,
     "metadata": {},
     "source": [
      "Lesson 1: Compare effective one body waveforms from LAL"
     ]
    },
    {
     "cell_type": "markdown",
     "metadata": {},
     "source": [
      "Nonspinning, dimensionless gravitational strain waveforms are described by a one-parameter family \n",
      "\n",
      "(R/M) H(T;q,1) \n",
      "\n",
      "where  \n",
      "\n",
      "T = t/M\n",
      "\n",
      "is a dimensionless time variable, M = m1+m2 is in solar masses, R the distance from the system, and the mass ratio to be q=m2/m1. Any physical waveform \n",
      "\n",
      "h(t;q,M) = (M/R) H(t/M;q,1) \n",
      "\n",
      "can be generated from the dimensionless one. We verify this analytic scaling property with lalsim function calls of differing total mass. The errors are of numerical origin, attributed to some combination of the LAL code and our prescription for aligning/representing its output."
     ]
    },
    {
     "cell_type": "code",
     "collapsed": false,
     "input": [
      "### Example 1: generate an 8+8 EOB waveform ###\n",
      "### Example 2: simple comparison between 8+8 and 2+2 EOB waveform ###\n",
      "Mtot = 16.0 * lal.LAL_MSUN_SI\n",
      "q    = 1.0\n",
      "Dist = 1.0 * 1e6 * lal.LAL_PC_SI\n",
      "dt   = 1.0/32768.0  # higher sampling rates will yield more accurate comparisons\n",
      "fmin = 40.0/2.383\n",
      "\n",
      "times, h_16 = EOBNRv2_LAL(Mtot,q,dt,fmin,Dist)\n",
      "time_16     = dimensionless_time(Mtot / lal.LAL_MSUN_SI,times)\n",
      "\n",
      "Mtot = 4.0 * lal.LAL_MSUN_SI\n",
      "fmin = 40.0\n",
      "\n",
      "time_4, h_4 = EOBNRv2_LAL(Mtot,q,dt,fmin,Dist)\n",
      "time_4      = dimensionless_time(Mtot / lal.LAL_MSUN_SI,time_4)\n",
      "\n",
      "# Example 1, waveform plot....\n",
      "plt.pyplot.figure(1)\n",
      "plt.pyplot.plot(times,np.abs(h_16),'blue')\n",
      "EOBNRv2_sur.plot_pretty(times, h_16.real, h_16.imag)\n",
      "plt.pyplot.xlabel('$t$ in seconds')\n",
      "plt.pyplot.title('8+8 physical waveform')\n",
      "plt.pyplot.xlim(13.5, 14.1)\n",
      "\n",
      "# Example 2, scaled and shifted waveform peaks (visually, should lie on top of one another)...\n",
      "plt.pyplot.figure(2)\n",
      "plt.pyplot.plot(time_4 - time_4[np.argmax(np.abs(h_4))],np.abs(h_4)/4.0,'red')\n",
      "plt.pyplot.plot(time_16 - time_16[np.argmax(np.abs(h_16))],np.abs(h_16)/16.0,'b--')\n",
      "plt.pyplot.xlim(-10000, 400)\n",
      "plt.pyplot.xlabel('$t/M$')\n",
      "plt.pyplot.title('peak shifted, amplitude scaled')\n",
      "plt.pyplot.show()\n",
      "\n",
      "# Theoretically we expect the ratio of maximum amplitudes to be 16/4...\n",
      "print 'ratio of waveoform amplitude peak values: ',np.max(np.abs(h_16))/np.max(np.abs(h_4))"
     ],
     "language": "python",
     "metadata": {},
     "outputs": [
      {
       "output_type": "stream",
       "stream": "stdout",
       "text": [
        "ratio of waveoform amplitude peak values:  4.00033232385\n"
       ]
      }
     ],
     "prompt_number": 5
    },
    {
     "cell_type": "code",
     "collapsed": false,
     "input": [
      "###  Overall scaling with mass is NOT a free parameter -- scale by exact Mtot...\n",
      "h_4 = h_4/4.0\n",
      "h_16 = h_16/16.0"
     ],
     "language": "python",
     "metadata": {},
     "outputs": [],
     "prompt_number": 37
    },
    {
     "cell_type": "markdown",
     "metadata": {},
     "source": [
      "h_4 and h_16 should now be identical after time and phase shifts. Lets check. First, we compute a resonable guess for values of the time/phase shift by (i) discrete search for the peak (i) aligning phases for the shifted waveform. Next, the proper minimization problem is solved"
     ]
    },
    {
     "cell_type": "code",
     "collapsed": false,
     "input": [
      "# CASE 1: values for time/phase shift by approximately maximizing over time and phase shifts\n",
      "\n",
      "# (Step 1) remove (end) portion of waveform where amplitude == 0\n",
      "time_4, h_4   = gwtools.remove_amplitude_zero(time_4,h_4)\n",
      "time_16, h_16 = gwtools.remove_amplitude_zero(time_16,h_16)\n",
      "\n",
      "plt.pyplot.figure(1)\n",
      "plt.pyplot.plot(time_4,h_4.real,'red')\n",
      "plt.pyplot.plot(time_16,h_16.real,'blue')\n",
      "plt.pyplot.title(\"dimensionless waveforms directly from LAL\")\n",
      "\n",
      "# (Step 2) find reasonable guess for \\delta t and \\delta phi by...\n",
      "#          (i)  finding discrete waveform peak\n",
      "#          (ii) aligning phase values at the peak time\n",
      "deltaT, deltaPhi = gwtools.simple_align_params(time_4,h_4,time_16,h_16)\n",
      "h_4              = gwtools.modify_phase(h_4,-deltaPhi)\n",
      "times_4          = gwtools.coordinate_time_shift(time_4,-deltaT)\n",
      "\n",
      "plt.pyplot.figure(2)\n",
      "plt.pyplot.plot(times_4,h_4.real,'red')\n",
      "plt.pyplot.plot(time_16,h_16.real,'blue')\n",
      "plt.pyplot.title(\"dimensionless waveforms with simple alignment\")\n",
      "\n",
      "# (Step 3) With interpolation, represent each waveform as a function\n",
      "### linear interpolation ###\n",
      "from scipy.interpolate import interp1d\n",
      "h_4_interp  = interp1d(times_4,h_4)\n",
      "h_16_interp = interp1d(time_16,h_16)\n",
      "\n",
      "# (Step 4) find common temporal window \n",
      "common_dt      = (times_4[2] - times_4[1])\n",
      "t_start, t_end = gwtools.find_common_time_window(times_4,time_16)\n",
      "common_times   = np.arange(t_start+1,t_end-1,common_dt) # Full IMR waveform\n",
      "#common_times = np.arange(10,100000,common_dt) # for inspiral portion\n",
      "\n",
      "# (Step 5) Evaluate interpolants on common temporal grid\n",
      "h_4_eval  = h_4_interp(common_times)\n",
      "h_16_eval = h_16_interp(common_times)\n",
      "\n",
      "plt.pyplot.figure(3)\n",
      "plt.pyplot.plot(common_times,h_4_eval.real,'red')\n",
      "plt.pyplot.plot(common_times,h_16_eval.real,'blue')\n",
      "plt.pyplot.title(\"aligned waveforms interpolated to common grid\")\n",
      "\n",
      "# (Step 6) Compute time-domain overlap error\n",
      "err_h = h_4_eval - h_16_eval\n",
      "overlap_errors = (norm_L2_sqrd(err_h,common_dt)/norm_L2_sqrd(h_4_eval,common_dt))\n",
      "\n",
      "plt.pyplot.figure(4)\n",
      "plt.pyplot.plot(common_times,np.abs(err_h)/np.abs(h_4_eval),'black')\n",
      "plt.pyplot.title(\"aligned waveform difference |h1 - h2|/|h1|\")\n",
      "\n",
      "\n",
      "#############  Report on analysis #############\n",
      "print \"overlap error: %e\" %overlap_errors\n",
      "plt.pyplot.show()"
     ],
     "language": "python",
     "metadata": {},
     "outputs": []
    },
    {
     "cell_type": "code",
     "collapsed": false,
     "input": [
      "# CASE 2: minimize over 2-dimensional time/phase shift \n",
      "\n",
      "### generate a paramterized norm function  ###\n",
      "ParameterizedNorm = gwtools.generate_parameterized_norm(common_times,h_4_interp,h_16_eval,norm_L2_sqrd)\n",
      "print 'Overlap error from case 1 guess: %e' %ParameterizedNorm([0.0,0.0]) \n",
      "\n",
      "### solve minimization problem with nelder-mead algorithm ###\n",
      "from scipy.optimize import minimize\n",
      "res_nm = minimize(ParameterizedNorm, [0.0,0.0], method='nelder-mead',tol=1e-12)\n",
      "\n",
      "print \"Minimize with nelder-mead...\"\n",
      "print \"The minimized norm is %e \" %ParameterizedNorm([ res_nm.x[0], res_nm.x[1]])\n",
      "print \"For a time shift %e and phase shift %e \" %(res_nm.x[0],res_nm.x[1])\n"
     ],
     "language": "python",
     "metadata": {},
     "outputs": []
    },
    {
     "cell_type": "code",
     "collapsed": false,
     "input": [
      "### plot Nelder-Mead results ###\n",
      "common_times_off = gwtools.coordinate_time_shift(common_times,-res_nm.x[0])\n",
      "h_4_eval         = h_4_interp(common_times_off)\n",
      "h_4_trial        = gwtools.modify_phase(h_4_eval,-res_nm.x[1])\n",
      "err_h            = h_4_trial - h_16_eval\n",
      "\n",
      "### compare with analogous plot from CASE 1 above. The errors are now much smaller ###\n",
      "plt.pyplot.figure(6)\n",
      "plt.pyplot.semilogy(common_times,np.abs(err_h)/np.abs(h_4_eval),'black')\n",
      "plt.pyplot.title(\"aligned waveform difference |h1 - h2|/|h1|\")\n",
      "plt.pyplot.show()"
     ],
     "language": "python",
     "metadata": {},
     "outputs": []
    },
    {
     "cell_type": "heading",
     "level": 1,
     "metadata": {},
     "source": [
      "Lesson 2: Automated minimization and quantifying EOB+minimization errors"
     ]
    },
    {
     "cell_type": "markdown",
     "metadata": {},
     "source": [
      "In Lesson 1 we found that solving the 2-dimensional minimization problem gave better comparisons between EOB waveforms.\n",
      "\n",
      "In Lesson 2 we automate this process and quantify the best possible comparisons achievable with our minimiation procedure. \n",
      "\n",
      "This will set a lower limit on the best obtainable comparison between EOB LAL function calls and surrogate function calls"
     ]
    },
    {
     "cell_type": "code",
     "collapsed": false,
     "input": [
      "### lets cover a range of total mass values and compare to a fiducial one ###\n",
      "q = 1.0\n",
      "\n",
      "# fiducial 8+8 waveform...\n",
      "Mtot = 16.0 * lal.LAL_MSUN_SI\n",
      "times, h_16 = EOBNRv2_LAL(Mtot,q,dt,fmin,Dist)\n",
      "time_16 = dimensionless_time(Mtot / lal.LAL_MSUN_SI,times)\n",
      "h_16 = h_16/16.0\n",
      "\n",
      "Mtot_samples = 10\n",
      "\n",
      "errors_guess = np.zeros((Mtot_samples,1))\n",
      "errors_nm    = np.zeros((Mtot_samples,1))\n",
      "M_list       = np.zeros((Mtot_samples,1))\n",
      "\n",
      "counter = -1\n",
      "for M in np.linspace(10.0,15.5,Mtot_samples):\n",
      "    \n",
      "    counter = counter + 1\n",
      "    \n",
      "    Mtot = M * lal.LAL_MSUN_SI\n",
      "    M_list[counter] = M\n",
      "    \n",
      "    ### generate a new EOB waveform with LAL ###\n",
      "    times, h_tmp = EOBNRv2_LAL(Mtot,q,dt,fmin,Dist)\n",
      "    time_tmp = dimensionless_time(Mtot / lal.LAL_MSUN_SI,times)\n",
      "    h_tmp = h_tmp/M\n",
      "    \n",
      "    ### minimize the norm ###\n",
      "    errors_guess[counter], errors_nm[counter], tc, phic = gwtools.minimize_norm_error(time_tmp,h_tmp,time_16,h_16,norm_L2_sqrd,method='nelder-mead')\n",
      "    \n",
      "### plot results ###\n",
      "plt.pyplot.semilogy(M_list,errors_guess,'or',label='discretely minimized')\n",
      "plt.pyplot.semilogy(M_list,errors_nm,'Db',label='Nelder Mead minimized')\n",
      "plt.pyplot.xlabel('$M$ (solar masses)')\n",
      "plt.pyplot.ylabel('Overlap error')\n",
      "plt.pyplot.title('time/phase shifted $(M,q=1)$ waveform compared to $(M=16,q=1)$')\n",
      "plt.pyplot.legend()\n",
      "plt.pyplot.show()"
     ],
     "language": "python",
     "metadata": {},
     "outputs": [],
     "prompt_number": 38
    },
    {
     "cell_type": "heading",
     "level": 1,
     "metadata": {},
     "source": [
      "Lesson 3: Compare surrogate and effective one body waveforms"
     ]
    },
    {
     "cell_type": "markdown",
     "metadata": {},
     "source": [
      "In Lesson 3 we compare surrogate and LAL EOB waveforms. \n",
      "\n",
      "Our aim is to show they agree to bout 1e-6 digits of relativite accuracy, which is the \"error barrier\" found in Lesson 2\n",
      "\n",
      "The comparison will be for physical waveforms covering the (M,q) parameter space"
     ]
    },
    {
     "cell_type": "code",
     "collapsed": false,
     "input": [
      "### comparison for physical (not dimensionless) waveforms ###\n",
      "M = 80.0\n",
      "q = 2.0\n",
      "Mtot = M * lal.LAL_MSUN_SI\n",
      "fmin = 10.0\n",
      "dt = (1.0/2048.0)\n",
      "time_LAL, h_LAL = EOBNRv2_LAL(Mtot,q,dt,fmin,Dist)\n",
      "\n",
      "time_sur,hp,hc = EOBNRv2_sur(q_eval=q,M_eval=M,dist_eval=1.0,f_low=fmin)\n",
      "h_sur          = hp + 1.0j*hc\n",
      "\n",
      "### minimize the norm error ###\n",
      "tmp, minimized_norm, tc, phic = gwtools.minimize_norm_error(time_LAL,h_LAL,time_sur,h_sur,norm_L2_sqrd,.0125,.0125,method='nelder-mead')\n",
      "print \"Global minimizer is deltaT = %e and deltaPhi = %e \" %(tc,phic)\n",
      "print \"(NM) for which the relative norm error is %e \" %minimized_norm\n",
      "\n",
      "### plot the phase/time shifted waveform \n",
      "common_dt      = (time_LAL[2] - time_LAL[1])\n",
      "t_start, t_end = gwtools.find_common_time_window(time_sur,time_LAL)\n",
      "common_times   = np.arange(t_start+.0125,t_end-.0125,common_dt) \n",
      "\n",
      "time_sur_aligned = gwtools.coordinate_time_shift(time_sur,tc)\n",
      "h_sur_aligned    = gwtools.modify_phase(h_sur,phic)\n",
      "\n",
      "\n",
      "plt.pyplot.figure(3)\n",
      "plt.pyplot.plot(time_sur_aligned,h_sur_aligned,'red')\n",
      "plt.pyplot.plot(time_LAL,h_LAL,'b--')\n",
      "plt.pyplot.show()"
     ],
     "language": "python",
     "metadata": {},
     "outputs": [
      {
       "output_type": "stream",
       "stream": "stdout",
       "text": [
        "Global minimizer is deltaT = -8.016403e-01 and deltaPhi = -4.676974e+01 \n",
        "(NM) for which the relative norm error is 1.912195e-07 \n"
       ]
      },
      {
       "output_type": "stream",
       "stream": "stderr",
       "text": [
        "/usr/local/lib/python2.7/dist-packages/numpy/core/numeric.py:462: ComplexWarning: Casting complex values to real discards the imaginary part\n",
        "  return array(a, dtype, copy=False, order=order)\n"
       ]
      }
     ],
     "prompt_number": 17
    },
    {
     "cell_type": "code",
     "collapsed": false,
     "input": [
      "### next, lets compare models over a patch of the parameter space ###\n",
      "# WARNING: becuase of the minimizations this will take about 5 minutes to run\n",
      "\n",
      "fmin = 11.0\n",
      "dt = (1.0/4096.0) #Note: setting to smaller values could introduce large interpolation error\n",
      "\n",
      "q_samples = 30\n",
      "M_samples = 30\n",
      "\n",
      "errors_nm    = np.zeros((q_samples,M_samples))\n",
      "q_list       = np.zeros((q_samples,M_samples))\n",
      "M_list       = np.zeros((q_samples,M_samples))\n",
      "\n",
      "counter_q = -1\n",
      "for q in np.linspace(1.0,2.0,q_samples):\n",
      "    \n",
      "    counter_M = -1\n",
      "    counter_q = counter_q + 1\n",
      "    for M in np.linspace(70.0,80.0,M_samples):\n",
      "   \n",
      "        counter_M = counter_M + 1\n",
      "    \n",
      "        Mtot = M * lal.LAL_MSUN_SI\n",
      "    \n",
      "        M_list[counter_q,counter_M] = M\n",
      "        q_list[counter_q,counter_M] = q\n",
      "    \n",
      "        ### generate a new EOB waveform with LAL ###\n",
      "        time_LAL, h_LAL = EOBNRv2_LAL(Mtot,q,dt,fmin,Dist)\n",
      "\n",
      "        ### generate a surrogate EOB waveform ###\n",
      "        time_sur,hp,hc = EOBNRv2_sur(q_eval=q,M_eval=M,dist_eval=1.0,f_low=fmin)\n",
      "        h_sur   = hp + 1.0j*hc\n",
      "\n",
      "        ### minimize the norm ###\n",
      "        tmp, errors_nm[counter_q,counter_M], tc, phic = gwtools.minimize_norm_error(time_LAL,h_LAL,time_sur,h_sur,norm_L2_sqrd,.1,.1,method='nelder-mead')"
     ],
     "language": "python",
     "metadata": {},
     "outputs": [],
     "prompt_number": 23
    },
    {
     "cell_type": "code",
     "collapsed": false,
     "input": [
      "### Display the preceding analysis ###\n",
      "plt.pyplot.contour(M_list, q_list, errors_nm, 15, linewidths=0.5, colors='k')\n",
      "plt.pyplot.contourf(M_list, q_list, errors_nm, 15, cmap=plt.cm.rainbow,\n",
      "                  vmax=abs(errors_nm).max(), vmin=-abs(errors_nm).max())\n",
      "plt.pyplot.colorbar()  # draw colorbar\n",
      "plt.pyplot.scatter(M_list, q_list, marker='o', c='b', s=5, zorder=10)\n",
      "plt.pyplot.xlim(np.min(M_list), np.max(M_list))\n",
      "plt.pyplot.ylim(np.min(q_list), np.max(q_list))\n",
      "plt.pyplot.xlabel('$M$ (solar masses)')\n",
      "plt.pyplot.ylabel('$q$')\n",
      "plt.pyplot.title('Overlap errors between EOB-LAL and its surrogate')\n",
      "plt.pylab.show()"
     ],
     "language": "python",
     "metadata": {},
     "outputs": [],
     "prompt_number": 24
    },
    {
     "cell_type": "heading",
     "level": 1,
     "metadata": {},
     "source": [
      "Lesson 3: Timings of waveforms generated by EOB-LAL code and its surrogate"
     ]
    },
    {
     "cell_type": "code",
     "collapsed": false,
     "input": [
      "### average time to evaluate a waveform (WARNING: code not yet optimized for speed, but should still be pretty fast...) ###\n",
      "# 1000 waveforms are evaluated. This will take a few seconds...\n",
      "EOBNRv2_sur.timer()"
     ],
     "language": "python",
     "metadata": {},
     "outputs": []
    },
    {
     "cell_type": "code",
     "collapsed": false,
     "input": [
      "### average time to evaluate a waveform (WARNING: code not yet optimized for speed, but should still be pretty fast...) ###\n",
      "# 1000 waveforms are evaluated. This will take a few seconds...\n",
      "EOBNRv2_sur.timer(M_eval=80.0, dist_eval=1.0, phi_ref = 0.0, f_low = 15.0)"
     ],
     "language": "python",
     "metadata": {},
     "outputs": []
    },
    {
     "cell_type": "code",
     "collapsed": false,
     "input": [
      "### average time to evaluate a waveform (WARNING: code not yet optimized for speed, but should still be pretty fast...) ###\n",
      "# 1000 waveforms are evaluated. This will take a few seconds...\n",
      "t_orig = EOBNRv2_sur.time()\n",
      "t_resamp = np.linspace(t_orig.min(), t_orig.max(), num=8000)\n",
      "EOBNRv2_sur.timer(M_eval=80.0, dist_eval=1.0, phi_ref = 0.0, f_low = 15.0, samples = t_resamp)"
     ],
     "language": "python",
     "metadata": {},
     "outputs": []
    },
    {
     "cell_type": "heading",
     "level": 1,
     "metadata": {},
     "source": [
      "Lesson 4: Using spin weighted spherical harmonics"
     ]
    },
    {
     "cell_type": "code",
     "collapsed": false,
     "input": [
      "### surrogate was built with spin weighting, correct for this ###\n",
      "sys.path.append('/home/balzani57/Desktop/trunk/DataAnalysis')\n",
      "sys.path.append('/home/balzani57/Desktop/trunk/DiscreteFunction')\n",
      "import harmonics as sYlm\n",
      "fixer = sYlm.sYlm(-2,2,2,0.0,0.0)\n",
      "h_sur = h_sur/fixer\n",
      "print fixer"
     ],
     "language": "python",
     "metadata": {},
     "outputs": []
    }
   ],
   "metadata": {}
  }
 ]
}