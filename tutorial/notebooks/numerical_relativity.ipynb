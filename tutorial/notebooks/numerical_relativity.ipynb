{
 "cells": [
  {
   "cell_type": "code",
   "execution_count": 1,
   "metadata": {
    "collapsed": false
   },
   "outputs": [],
   "source": [
    "import numpy as np, matplotlib.pyplot as plt\n",
    "\n",
    "import gwsurrogate as gws\n",
    "import gwtools"
   ]
  },
  {
   "cell_type": "code",
   "execution_count": 2,
   "metadata": {
    "collapsed": false
   },
   "outputs": [
    {
     "name": "stdout",
     "output_type": "stream",
     "text": [
      "loading surrogate mode... l2_m2\n",
      "loading surrogate mode... l3_m3\n"
     ]
    }
   ],
   "source": [
    "#surrogate_path = '/Users/crgalley/Physics/Research/Projects/ReducedOrderModeling/Surrogates/SpecSurrogates/NonSpinning/FinalSurrogateData/'\n",
    "surrogate_path = '/home/scott/Desktop/'\n",
    "spec = gws.EvaluateSurrogate(surrogate_path+'SpEC_q1_10_NoSpin_nu5thDegPoly.h5', ell_m=[(2,2), (3,3)])"
   ]
  },
  {
   "cell_type": "code",
   "execution_count": 3,
   "metadata": {
    "collapsed": false
   },
   "outputs": [
    {
     "ename": "Warning",
     "evalue": "Your mode (ell,m) = (3,2) is not available!",
     "output_type": "error",
     "traceback": [
      "\u001b[1;31m---------------------------------------------------------------------------\u001b[0m",
      "\u001b[1;31mWarning\u001b[0m                                   Traceback (most recent call last)",
      "\u001b[1;32m<ipython-input-3-636b7a540688>\u001b[0m in \u001b[0;36m<module>\u001b[1;34m()\u001b[0m\n\u001b[1;32m----> 1\u001b[1;33m \u001b[0mspec\u001b[0m\u001b[1;33m(\u001b[0m\u001b[0mq\u001b[0m\u001b[1;33m=\u001b[0m\u001b[1;36m1.7\u001b[0m\u001b[1;33m,\u001b[0m \u001b[0mell\u001b[0m\u001b[1;33m=\u001b[0m\u001b[1;33m[\u001b[0m\u001b[1;36m3\u001b[0m\u001b[1;33m]\u001b[0m\u001b[1;33m,\u001b[0m \u001b[0mm\u001b[0m\u001b[1;33m=\u001b[0m\u001b[1;33m[\u001b[0m\u001b[1;36m2\u001b[0m\u001b[1;33m]\u001b[0m\u001b[1;33m,\u001b[0m \u001b[0mmode_sum\u001b[0m\u001b[1;33m=\u001b[0m\u001b[0mFalse\u001b[0m\u001b[1;33m,\u001b[0m \u001b[0mfake_neg_modes\u001b[0m\u001b[1;33m=\u001b[0m\u001b[0mFalse\u001b[0m\u001b[1;33m)\u001b[0m\u001b[1;33m\u001b[0m\u001b[0m\n\u001b[0m",
      "\u001b[1;32m/home/scott/Repos/GitRepos/Codes/gwsurrogate/gwsurrogate/surrogate.py\u001b[0m in \u001b[0;36m__call__\u001b[1;34m(self, q, M, dist, theta, phi, z_rot, f_low, samples, samples_units, ell, m, mode_sum, fake_neg_modes)\u001b[0m\n\u001b[0;32m    811\u001b[0m       \u001b[1;32melse\u001b[0m\u001b[1;33m:\u001b[0m\u001b[1;33m\u001b[0m\u001b[0m\n\u001b[0;32m    812\u001b[0m         \u001b[0mwarning_str\u001b[0m \u001b[1;33m=\u001b[0m \u001b[1;34m\"Your mode (ell,m) = (\"\u001b[0m\u001b[1;33m+\u001b[0m\u001b[0mstr\u001b[0m\u001b[1;33m(\u001b[0m\u001b[0mell\u001b[0m\u001b[1;33m)\u001b[0m\u001b[1;33m+\u001b[0m\u001b[1;34m\",\"\u001b[0m\u001b[1;33m+\u001b[0m\u001b[0mstr\u001b[0m\u001b[1;33m(\u001b[0m\u001b[0mm\u001b[0m\u001b[1;33m)\u001b[0m\u001b[1;33m+\u001b[0m\u001b[1;34m\") is not available!\"\u001b[0m\u001b[1;33m\u001b[0m\u001b[0m\n\u001b[1;32m--> 813\u001b[1;33m         \u001b[1;32mraise\u001b[0m \u001b[0mWarning\u001b[0m\u001b[1;33m(\u001b[0m\u001b[0mwarning_str\u001b[0m\u001b[1;33m)\u001b[0m\u001b[1;33m\u001b[0m\u001b[0m\n\u001b[0m\u001b[0;32m    814\u001b[0m \u001b[1;33m\u001b[0m\u001b[0m\n\u001b[0;32m    815\u001b[0m \u001b[1;33m\u001b[0m\u001b[0m\n",
      "\u001b[1;31mWarning\u001b[0m: Your mode (ell,m) = (3,2) is not available!"
     ]
    }
   ],
   "source": [
    "spec(q=1.7, ell=[3], m=[2], mode_sum=False, fake_neg_modes=False)"
   ]
  },
  {
   "cell_type": "code",
   "execution_count": 11,
   "metadata": {
    "collapsed": false
   },
   "outputs": [
    {
     "name": "stdout",
     "output_type": "stream",
     "text": [
      "(28501,)\n"
     ]
    }
   ],
   "source": [
    "#t, hp, hc  = spec1(q=1.7, M=80.0, dist=1.0, phi_ref = 0.0, f_low = 10.0)\n",
    "modes, t, hp, hc  = spec(q=1.7, ell=[2], m=[2], mode_sum=False, fake_neg_modes=False)\n",
    "hp = hp.reshape((28501))\n",
    "hc = hc.reshape((28501))\n",
    "amp, phase = gwtools.amp_phase(hp + 1j*hc)\n",
    "print hp.shape\n",
    "\n",
    "gwtools.plot_pretty(t, [hp,hc])\n",
    "plt.plot(t,amp,'r')\n",
    "plt.xlabel('Time')\n",
    "plt.show()"
   ]
  },
  {
   "cell_type": "code",
   "execution_count": null,
   "metadata": {
    "collapsed": true
   },
   "outputs": [],
   "source": []
  }
 ],
 "metadata": {
  "kernelspec": {
   "display_name": "Python 2",
   "language": "python",
   "name": "python2"
  },
  "language_info": {
   "codemirror_mode": {
    "name": "ipython",
    "version": 2
   },
   "file_extension": ".py",
   "mimetype": "text/x-python",
   "name": "python",
   "nbconvert_exporter": "python",
   "pygments_lexer": "ipython2",
   "version": "2.7.6"
  }
 },
 "nbformat": 4,
 "nbformat_minor": 0
}
