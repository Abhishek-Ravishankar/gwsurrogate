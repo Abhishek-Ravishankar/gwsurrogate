{
 "cells": [
  {
   "cell_type": "markdown",
   "metadata": {},
   "source": [
    "# Example usage of NRHybSur3dq8 surrogate model."
   ]
  },
  {
   "cell_type": "code",
   "execution_count": 1,
   "metadata": {},
   "outputs": [
    {
     "name": "stderr",
     "output_type": "stream",
     "text": [
      "/Users/vijay/opt/softs/anaconda2/lib/python2.7/site-packages/h5py/__init__.py:36: FutureWarning: Conversion of the second argument of issubdtype from `float` to `np.floating` is deprecated. In future, it will be treated as `np.float64 == np.dtype(float).type`.\n",
      "  from ._conv import register_converters as _register_converters\n"
     ]
    },
    {
     "name": "stdout",
     "output_type": "stream",
     "text": [
      "setting __package__ to gwsurrogate.new so relative imports work\n",
      "__name__ = gwsurrogate.new.spline_evaluation\n",
      "__package__= gwsurrogate.new\n",
      "setting __package__ to gwsurrogate.new so relative imports work\n",
      "setting __package__ to gwsurrogate.new so relative imports work\n"
     ]
    }
   ],
   "source": [
    "import numpy as np\n",
    "import matplotlib.pyplot as P\n",
    "%matplotlib inline\n",
    "import sys\n",
    "\n",
    "sys.path.append('/Users/vijay/src/gwsurrogate')\n",
    "import gwsurrogate"
   ]
  },
  {
   "cell_type": "markdown",
   "metadata": {},
   "source": [
    "## Download surrogate data, this only needs to be done once"
   ]
  },
  {
   "cell_type": "code",
   "execution_count": 2,
   "metadata": {},
   "outputs": [
    {
     "data": {
      "text/plain": [
       "'/Users/vijay/src/gwsurrogate/gwsurrogate/../surrogate_downloads/NRHybSur3dq8.h5'"
      ]
     },
     "execution_count": 2,
     "metadata": {},
     "output_type": "execute_result"
    }
   ],
   "source": [
    "# This can take a few minutes\n",
    "gwsurrogate.catalog.pull('NRHybSur3dq8')"
   ]
  },
  {
   "cell_type": "markdown",
   "metadata": {},
   "source": [
    "## Load the surrogate, this only needs to be done once at the start of a script"
   ]
  },
  {
   "cell_type": "code",
   "execution_count": 3,
   "metadata": {},
   "outputs": [
    {
     "name": "stdout",
     "output_type": "stream",
     "text": [
      "Loaded NRHybSur3dq8 model\n"
     ]
    }
   ],
   "source": [
    "sur = gwsurrogate.LoadSurrogate('NRHybSur3dq8')"
   ]
  },
  {
   "cell_type": "markdown",
   "metadata": {},
   "source": [
    "## Read the documnentation"
   ]
  },
  {
   "cell_type": "code",
   "execution_count": 11,
   "metadata": {},
   "outputs": [
    {
     "name": "stdout",
     "output_type": "stream",
     "text": [
      "Help on NRHybSur3dq8 in module gwsurrogate.surrogate object:\n",
      "\n",
      "class NRHybSur3dq8(SurrogateEvaluator)\n",
      " |  A class for the NRHybSur3dq8 surrogate model presented in Varma et al. 2018,\n",
      " |  in prep.\n",
      " |  \n",
      " |  Evaluates gravitational waveforms from mergers of aligned-spin binary black\n",
      " |  hole systems. This model was trained against numerical relativity (NR)\n",
      " |  waveforms that have been hybridized using post-Newtonian (PN) and effective\n",
      " |  one body (EOB) waveforms. This model includes the following spin-weighted\n",
      " |  spherical harmonic modes:\n",
      " |  (2,2), (2,1), (2,0), (3,3), (3,2), (3,1), (3,0), (4,4) (4,3), (4,2) and (5,5).\n",
      " |  The m<0 modes are deduced from the m>0 modes.\n",
      " |  \n",
      " |  The parametr space of validity is:\n",
      " |  q \\in [1, 10] and chi1z/chi2z \\in [-1, 1],\n",
      " |  where q is the mass ratio and chi1z/chi2z are the spins on the larger/smaller\n",
      " |  BH, respectively, in the direction of orbital angular momentum.\n",
      " |  \n",
      " |  The surrogate has been trained in the range\n",
      " |  q \\in [1, 8] and chi1z/chi2z \\in [-0.8, 0.8], but produces reasonable waveforms\n",
      " |  in the above range and has been tested against existing NR waveforms in that\n",
      " |  range.\n",
      " |  \n",
      " |  See the __call__ method on how to evaluate waveforms.\n",
      " |  In the __call__ method, x must have format x = [q, chi1z, chi2z].\n",
      " |  \n",
      " |  Method resolution order:\n",
      " |      NRHybSur3dq8\n",
      " |      SurrogateEvaluator\n",
      " |      __builtin__.object\n",
      " |  \n",
      " |  Methods defined here:\n",
      " |  \n",
      " |  __init__(self, h5filename)\n",
      " |  \n",
      " |  ----------------------------------------------------------------------\n",
      " |  Methods inherited from SurrogateEvaluator:\n",
      " |  \n",
      " |  __call__(self, x, M=None, dist_mpc=None, f_low=None, t_ref=None, f_ref=None, dt=None, df=None, mode_list=None, inclination=None, phi_ref=None, par_dict=None, units='dimensionless')\n",
      " |      INPUT\n",
      " |      =====\n",
      " |      x :         Array of binary parameter values EXCLUDING total mass M.\n",
      " |                  This depends on the particular surrogate model.\n",
      " |                  Examples:\n",
      " |                      For NRHybSur3dq8, x=[q,chi1z,chi2z].\n",
      " |      \n",
      " |      M/dist_mpc: Either specify both or neither.\n",
      " |      M :         Total mass (solar masses). Default: None.\n",
      " |      dist_mpc :  Distance to binary system (MegaParsecs). Default: None.\n",
      " |      \n",
      " |      f_low :     Instantaneous initial frequency of the (2, 2) mode. If None,\n",
      " |                  the entire wavform is returned. Default: None.\n",
      " |      \n",
      " |      f_ref:      Reference frequency used to set the reference epoch at which\n",
      " |                  the frame is aligned and the spins are specified. The frame is\n",
      " |                  aligned at the reference epoch as follows:\n",
      " |                      The orbital angular momentum points towards the +ve z-axis.\n",
      " |                      The separation vector from the smaller BH to the larger\n",
      " |                      BH points towards the +ve x-axis.\n",
      " |                  For time domain models, this is used to detemine a t_ref, such\n",
      " |                  that the frequency of the (2, 2) mode equals f_ref at t=t_ref.\n",
      " |                  Default: If f_low is given, f_ref = f_low. If f_low is None,\n",
      " |                  f_ref is set to the initial frequency (the first index).\n",
      " |      \n",
      " |      dt/df :     Time/Frequency step size, specify at most one of dt/df,\n",
      " |                  depending on whether the surrogate is a time/frequency domain\n",
      " |                  surrogate. If None, the internal domain of the surrogate is\n",
      " |                  returned, which can be nonuniformly sampled. Default None.\n",
      " |      \n",
      " |      mode_list : A list of (ell, m) modes to be evaluated. If None, evaluates\n",
      " |                  all available modes. Default: None.\n",
      " |      \n",
      " |      inclination/phi_ref :\n",
      " |                  Either specify both or neither.\n",
      " |                  Evaluate the waveform at this location on the sphere by summing\n",
      " |                  over the modes given in the 'mode_list' argument. For\n",
      " |                  nonprecessing systems the m<0 modes are automatically deduced\n",
      " |                  from the m>0 modes. To see if a model is precessing check\n",
      " |                  self.keywords.\n",
      " |                  If both inclination and phi_ref are None, the mode data is\n",
      " |                  returned as a dictionary. If specified the complex strain\n",
      " |                  h = hplus -i hcross, evaluated at (inclination, phi_ref) on\n",
      " |                  the sky is returned. Defaults: None.\n",
      " |      \n",
      " |      par_dict:   A dictionary containing any additional parameters needed for a\n",
      " |                  particular surrogate model. Default: None.\n",
      " |      \n",
      " |      units:      'dimensionless' or 'mks'. Default: 'dimensionless'.\n",
      " |                  If 'dimensionless': f_low, f_ref, dt and df, if\n",
      " |                      specified, must be in dimensionless units. That is, dt\n",
      " |                      should be in units of M, while f_ref, f_low and df should\n",
      " |                      be in units of 1/M. M and dist_mpc must be None.\n",
      " |                      The waveform and domain are returned as dimensionless\n",
      " |                      quanitites as well.\n",
      " |                  If 'mks': f_low, f_ref, dt and df, if specified, must\n",
      " |                      be in MKS units. That is, dt should be in seconds, while\n",
      " |                      f_ref, f_low and df should be in Hz.\n",
      " |                      M and dist_mpc must be specified. The waveform and domain\n",
      " |                      are returned in MKS units as well.\n",
      " |      \n",
      " |      RETURNS\n",
      " |      =====\n",
      " |      domain, h\n",
      " |      \n",
      " |      domain :    Array of time/frequency samples, depending on whether the\n",
      " |                  surrogate is a time/frequency domain model. For time domain\n",
      " |                  models the initial time is set to 0.\n",
      " |      \n",
      " |      h :         Waveform. If inclination/phi_ref are specified, returns\n",
      " |                  complex strain h = hplus -i hcross, evaluated at\n",
      " |                  (inclination, phi_ref) on the sky.\n",
      " |                  Else, h is a dictionary of available modes with (l, m) tuples\n",
      " |                  as keys.\n",
      " |  \n",
      " |  ----------------------------------------------------------------------\n",
      " |  Data descriptors inherited from SurrogateEvaluator:\n",
      " |  \n",
      " |  __dict__\n",
      " |      dictionary for instance variables (if defined)\n",
      " |  \n",
      " |  __weakref__\n",
      " |      list of weak references to the object (if defined)\n",
      "\n"
     ]
    }
   ],
   "source": [
    "help(sur)"
   ]
  },
  {
   "cell_type": "markdown",
   "metadata": {},
   "source": [
    "## Evaluate the waveform"
   ]
  },
  {
   "cell_type": "markdown",
   "metadata": {},
   "source": [
    "### Evaluate waveform modes in dimensionless units (default)"
   ]
  },
  {
   "cell_type": "code",
   "execution_count": 12,
   "metadata": {},
   "outputs": [],
   "source": [
    "q = 7\n",
    "chi1z = 0.5\n",
    "chi2z = -0.7\n",
    "x = [q, chi1z, chi2z]\n",
    "dt = 0.1        # step size, Units of M\n",
    "f_low = 5e-3    # initial frequency, Units of cycles/M\n",
    "t, h = sur(x, dt=dt, f_low=f_low)"
   ]
  },
  {
   "cell_type": "code",
   "execution_count": 13,
   "metadata": {},
   "outputs": [
    {
     "name": "stdout",
     "output_type": "stream",
     "text": [
      "[(2, 0), (2, 1), (2, 2), (3, 0), (3, 1), (3, 2), (3, 3), (4, 2), (4, 3), (4, 4), (5, 5)]\n"
     ]
    }
   ],
   "source": [
    "# Lets see all available modes (m<0 modes will be included automatically if inclination/phi_ref arguements are given)\n",
    "print sorted(h.keys())"
   ]
  },
  {
   "cell_type": "code",
   "execution_count": 14,
   "metadata": {},
   "outputs": [
    {
     "data": {
      "text/plain": [
       "<matplotlib.legend.Legend at 0x1100d8110>"
      ]
     },
     "execution_count": 14,
     "metadata": {},
     "output_type": "execute_result"
    },
    {
     "data": {
      "image/png": "[encoded data removed]",
      "text/plain": [
       "<Figure size 432x288 with 1 Axes>"
      ]
     },
     "metadata": {},
     "output_type": "display_data"
    }
   ],
   "source": [
    "P.plot(t, h[(2,2)].real, label='l2m2 real')\n",
    "P.plot(t, h[(3,3)].real, label='l3m3 real')\n",
    "P.plot(t, h[(4,4)].real, label='l4m4 real')\n",
    "P.ylabel('Re[$h_{lm}$]', fontsize=18)\n",
    "P.xlabel('t [M]', fontsize=18)\n",
    "P.legend()"
   ]
  },
  {
   "cell_type": "markdown",
   "metadata": {},
   "source": [
    "### Evaluate waveform modes in physical units"
   ]
  },
  {
   "cell_type": "code",
   "execution_count": 15,
   "metadata": {},
   "outputs": [],
   "source": [
    "q = 7\n",
    "chi1z = 0.5\n",
    "chi2z = -0.7\n",
    "x = [q, chi1z, chi2z]\n",
    "M = 20             # Total masss in solar masses\n",
    "dist_mpc = 100     # distance in megaparsecs\n",
    "dt = 1./4096       # step size in seconds\n",
    "f_low = 20         # initial frequency in Hz\n",
    "t, h = sur(x, dt=dt, f_low=f_low, mode_list=[(2,2), (2,1), (3, 3)], M=M, dist_mpc=dist_mpc, units='mks')"
   ]
  },
  {
   "cell_type": "code",
   "execution_count": 16,
   "metadata": {},
   "outputs": [
    {
     "data": {
      "text/plain": [
       "<matplotlib.legend.Legend at 0x1a31d0bcd0>"
      ]
     },
     "execution_count": 16,
     "metadata": {},
     "output_type": "execute_result"
    },
    {
     "data": {
      "image/png": "[encoded data removed]",
      "text/plain": [
       "<Figure size 432x288 with 1 Axes>"
      ]
     },
     "metadata": {},
     "output_type": "display_data"
    }
   ],
   "source": [
    "P.plot(t, h[(2,2)].real, label='l2m2 real')\n",
    "P.plot(t, h[(3,3)].real, label='l3m3 real')\n",
    "P.plot(t, h[(2,1)].real, label='l2m1 real')\n",
    "P.ylabel('Re[$h_{lm}$]', fontsize=18)\n",
    "P.xlabel('t [s]', fontsize=18)\n",
    "P.legend()"
   ]
  },
  {
   "cell_type": "markdown",
   "metadata": {},
   "source": [
    "### Evaluate waveform at a point on the sky"
   ]
  },
  {
   "cell_type": "code",
   "execution_count": 17,
   "metadata": {},
   "outputs": [],
   "source": [
    "q = 7\n",
    "chi1z = 0.5\n",
    "chi2z = -0.7\n",
    "x = [q, chi1z, chi2z]\n",
    "M = 20             # Total masss in solar masses\n",
    "dist_mpc = 100     # distance in megaparsecs\n",
    "dt = 1./4096       # step size in seconds\n",
    "f_low = 20         # initial frequency in Hz\n",
    "inclination = np.pi/3\n",
    "phi_ref = np.pi/5\n",
    "\n",
    "# Will only include modes given in mode_list argument as well as the m<0 counterparts.\n",
    "# If modes are not specified, uses all available modes.\n",
    "# Returns h_+ -i h_x\n",
    "t, h = sur(x, dt=dt, f_low=f_low, mode_list=[(2,2), (2,1), (3, 3)], M=M, dist_mpc=dist_mpc, inclination=inclination, phi_ref=phi_ref, units='mks')"
   ]
  },
  {
   "cell_type": "code",
   "execution_count": 18,
   "metadata": {},
   "outputs": [
    {
     "data": {
      "text/plain": [
       "Text(0.5,0,'t [s]')"
      ]
     },
     "execution_count": 18,
     "metadata": {},
     "output_type": "execute_result"
    },
    {
     "data": {
      "image/png": "[encoded data removed]",
      "text/plain": [
       "<Figure size 432x288 with 1 Axes>"
      ]
     },
     "metadata": {},
     "output_type": "display_data"
    }
   ],
   "source": [
    "P.plot(t, h.real)\n",
    "P.ylabel('$h_{+}$ $(\\iota, \\phi_{ref})$', fontsize=18)\n",
    "P.xlabel('t [s]', fontsize=18)"
   ]
  },
  {
   "cell_type": "code",
   "execution_count": null,
   "metadata": {},
   "outputs": [],
   "source": []
  }
 ],
 "metadata": {
  "kernelspec": {
   "display_name": "Python 2",
   "language": "python",
   "name": "python2"
  },
  "language_info": {
   "codemirror_mode": {
    "name": "ipython",
    "version": 2
   },
   "file_extension": ".py",
   "mimetype": "text/x-python",
   "name": "python",
   "nbconvert_exporter": "python",
   "pygments_lexer": "ipython2",
   "version": "2.7.15"
  }
 },
 "nbformat": 4,
 "nbformat_minor": 2
}
