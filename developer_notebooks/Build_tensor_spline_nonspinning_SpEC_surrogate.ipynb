{
 "cells": [
  {
   "cell_type": "code",
   "execution_count": null,
   "metadata": {
    "collapsed": false
   },
   "outputs": [],
   "source": [
    "import numpy as np\n",
    "import matplotlib.pyplot as plt\n",
    "%matplotlib inline\n",
    "\n",
    "import pySurrogate\n",
    "import gwsurrogate\n",
    "from gwsurrogate.new import spline_coef_evaluation\n",
    "from gwsurrogate.new import surrogate\n",
    "\n",
    "import tqdm\n",
    "import sys, h5py"
   ]
  },
  {
   "cell_type": "code",
   "execution_count": null,
   "metadata": {
    "collapsed": true
   },
   "outputs": [],
   "source": [
    "sur = gwsurrogate.EvaluateSurrogate?"
   ]
  },
  {
   "cell_type": "code",
   "execution_count": null,
   "metadata": {
    "collapsed": false
   },
   "outputs": [],
   "source": [
    "# Load amp/phase surrogate\n",
    "#sur = gwsurrogate.EvaluateSurrogate('../surrogate_downloads/SpEC_q1_10_NoSpin_nu5thDegPoly.h5')\n",
    "#sur = gwsurrogate.EvaluateSurrogate('/home/balzani57/Downloads/SpEC_q1_10_NoSpin_nu5thDegPoly_exclude_2_0.h5')\n",
    "sur = gwsurrogate.EvaluateSurrogate('/home/balzani57/Downloads/SpEC_q1_10_NoSpin_nu5thDegPoly_exclude_2_0.h5',excluded=None)"
   ]
  },
  {
   "cell_type": "code",
   "execution_count": null,
   "metadata": {
    "collapsed": false
   },
   "outputs": [],
   "source": [
    "# Evaluate it, make sure we get the (2, 0) mode as well\n",
    "lm_modes, t, hreal, himag = sur(1.2, mode_sum=False, fake_neg_modes=False)\n",
    "print lm_modes\n",
    "\n",
    "plt.plot(t, hreal[:, 2], 'k')\n",
    "plt.plot(t, himag[:, 2], 'r--')\n",
    "plt.plot(t, hreal[:, 0], 'c', lw=2)\n",
    "plt.show()"
   ]
  },
  {
   "cell_type": "code",
   "execution_count": null,
   "metadata": {
    "collapsed": true
   },
   "outputs": [],
   "source": [
    "# We first need a complex empirical interpolant for each mode.\n",
    "# Let's first determine how many basis vectors are needed (22 should be sufficient...)\n",
    "\n",
    "def mode_evaluations(ell, m, nq):\n",
    "    print 'Evaluating the (%s, %s) mode for %s mass ratios'%(ell, m, nq)\n",
    "    sys.stdout.flush()\n",
    "    qvals = np.linspace(1., 10., nq)\n",
    "    evals = []\n",
    "    for i in tqdm.trange(nq):\n",
    "        q = qvals[i]\n",
    "        lm_modes, t, hreal, himag = sur(q, mode_sum=False, fake_neg_modes=False, ell=[ell], m=[m])\n",
    "        evals.append(hreal + 1.j*himag)\n",
    "    return np.array(evals)\n",
    "\n",
    "def max_proj_err(resids):\n",
    "    return np.sqrt(np.max([abs(r.dot(r.conjugate())) for r in resids]))\n",
    "\n",
    "def get_basis_and_errs(evals, tol):\n",
    "    print 'getting basis...'\n",
    "    sys.stdout.flush()\n",
    "    basis = pySurrogate.ei.buildPySurSVD(evals, tol)\n",
    "    coefs = np.sum(evals[:, :, np.newaxis] * basis.T.conjugate(), 1)\n",
    "    errs = [max_proj_err(evals)]\n",
    "    print 'getting projection errors...'\n",
    "    sys.stdout.flush()\n",
    "    for n in tqdm.trange(1, len(basis)+1):\n",
    "        resids = evals - coefs[:, :n].dot(basis[:n])\n",
    "        errs.append(max_proj_err(resids))\n",
    "    return basis, errs"
   ]
  },
  {
   "cell_type": "code",
   "execution_count": null,
   "metadata": {
    "collapsed": false
   },
   "outputs": [],
   "source": [
    "# Try out building a basis for the (ell, emm) mode\n",
    "modes = [(8,8),(2,2),(3,2)]\n",
    "\n",
    "nTS = 100 # Should be enough\n",
    "\n",
    "for mode in modes:\n",
    "    ell = mode[0]\n",
    "    emm   = mode[1]\n",
    "    hlm = mode_evaluations(ell, emm, nTS)\n",
    "    basis, errs = get_basis_and_errs(hlm, 1.e-10)\n",
    "    plt.semilogy(range(len(errs)), errs, label='(%i, %i) mode'%(ell,emm))\n",
    "\n",
    "plt.legend(frameon=False)\n",
    "plt.show()"
   ]
  },
  {
   "cell_type": "code",
   "execution_count": null,
   "metadata": {
    "collapsed": false
   },
   "outputs": [],
   "source": [
    "# We know that a basis size of 22 should be enough.\n",
    "# We could improve the computational cost by using a smaller basis for some modes.\n",
    "# We could also build one single (larger) basis for all modes, which can accelerate RapidPE.\n",
    "nTS = 100\n",
    "basis_tol = 1.e-10\n",
    "n_basis = 22\n",
    "\n",
    "empirical_interpolant_bases = {}\n",
    "empirical_node_indices = {}\n",
    "\n",
    "for i, (ell, m) in enumerate(lm_modes):\n",
    "    mode_evals = mode_evaluations(ell, m, nTS)\n",
    "    basis, errs = get_basis_and_errs(mode_evals, basis_tol)\n",
    "    basis = basis[:n_basis]\n",
    "    errs = errs[:n_basis]\n",
    "    print 'Largest projection error of final basis is %s'%(errs[-1])\n",
    "    print 'Getting empirical interpolant...'\n",
    "    sys.stdout.flush()\n",
    "    ei_basis, node_indices = pySurrogate.ei.buildPySurEI(basis)\n",
    "    empirical_interpolant_bases[ell, m] = ei_basis\n",
    "    empirical_node_indices[ell, m] = node_indices"
   ]
  },
  {
   "cell_type": "code",
   "execution_count": null,
   "metadata": {
    "collapsed": false
   },
   "outputs": [],
   "source": [
    "# Now we need to build a spline for the real/imaginary parts of each empirical node.\n",
    "# For simplicity we will use the same knots for all modes and nodes.\n",
    "\n",
    "# Here's how we build a simple spline:\n",
    "nQ = 10\n",
    "qvals = np.linspace(1., 10., nQ)\n",
    "yvals = np.sin(qvals)\n",
    "spline = spline_coef_evaluation.UniformSpacingCubicSplineND((nQ,), origin=[1.], spacings=[9. / (nQ-1)])\n",
    "spline.decompose() # Do the LU decomposition of the spline coefficient matrix\n",
    "spline.solve(yvals) # Use the LU decomposition to obtain spline coefficients\n",
    "coefs = spline.coefs\n",
    "\n",
    "# And we can evaluate it:\n",
    "ts_grid = surrogate.TensorSplineGrid([qvals])\n",
    "\n",
    "def eval_spline(ts_grid, coefs, x):\n",
    "    # Nudge to avoid being outside valid range\n",
    "    if x - 10. > -1.e-12:\n",
    "        x = 10. - 1.e-12\n",
    "    if x < 1.e-12:\n",
    "        x = 1.e-12\n",
    "        \n",
    "    imin_vals, eval_prods = ts_grid([x])\n",
    "    i0 = imin_vals[0]\n",
    "    return np.sum(coefs[i0: i0+4] * eval_prods)\n",
    "\n",
    "qtest = np.linspace(1., 10., nQ * 10)\n",
    "ytest = np.array([eval_spline(ts_grid, coefs, q) for q in qtest])\n",
    "plt.plot(qvals, yvals, 'o', label='knots')\n",
    "plt.plot(qtest, ytest, '--', label='spline interpolation')\n",
    "plt.legend(frameon=False)\n",
    "plt.show()\n"
   ]
  },
  {
   "cell_type": "code",
   "execution_count": null,
   "metadata": {
    "collapsed": false
   },
   "outputs": [],
   "source": [
    "# Let's show that a simple spline converges well:\n",
    "\n",
    "def simple_spline_errors(nQ, nQTest):\n",
    "    qvals = np.linspace(1., 10., nQ)\n",
    "    yvals = np.sin(qvals)\n",
    "    spline = spline_coef_evaluation.UniformSpacingCubicSplineND((nQ,), origin=[1.], spacings=[9. / (nQ-1)])\n",
    "    spline.decompose()\n",
    "    spline.solve(yvals)\n",
    "    coefs = spline.coefs\n",
    "    ts_grid = surrogate.TensorSplineGrid([qvals])\n",
    "    qtest = np.linspace(1., 10., nQTest)\n",
    "    ytest = np.array([eval_spline(ts_grid, coefs, q) for q in qtest])\n",
    "    return abs(ytest - np.sin(qtest))\n",
    "\n",
    "nqvals = [5]\n",
    "for i in range(10):\n",
    "    nqvals.append(2 * nqvals[-1])\n",
    "nQTest = nqvals[-1] * 2\n",
    "qtest = np.linspace(1., 10., nQTest)\n",
    "errs = []\n",
    "for i in tqdm.trange(len(nqvals)):\n",
    "    nq = nqvals[i]\n",
    "    errs.append(simple_spline_errors(nq, nQTest))\n",
    "\n",
    "for i, nq in enumerate(nqvals):\n",
    "    plt.semilogy(qtest, errs[i], label='nQ = %s'%(nq))\n",
    "plt.legend()\n",
    "plt.show()\n",
    "\n",
    "plt.loglog(nqvals, [np.max(err) for err in errs], 'o')\n",
    "plt.show()"
   ]
  },
  {
   "cell_type": "code",
   "execution_count": null,
   "metadata": {
    "collapsed": false
   },
   "outputs": [],
   "source": [
    "# Now let's build a whole spline surrogate\n",
    "\n",
    "def get_mode_spline_coefs(ell, m, qvals, spline):\n",
    "    node_indices = empirical_node_indices[ell, m]\n",
    "    real_nodes = []\n",
    "    imag_nodes = []\n",
    "    for q in qvals:\n",
    "        lm_modes, t, hreal, himag = sur(q, mode_sum=False, fake_neg_modes=False, ell=[ell], m=[m])\n",
    "        real_nodes.append(hreal[node_indices])\n",
    "        imag_nodes.append(himag[node_indices])\n",
    "    \n",
    "    real_nodes = np.array(real_nodes)\n",
    "    imag_nodes = np.array(imag_nodes)\n",
    "    real_coefs = []\n",
    "    imag_coefs = []\n",
    "    for i in range(len(node_indices)):\n",
    "        spline.solve(real_nodes[:, i])\n",
    "        real_coefs.append(np.copy(spline.coefs))\n",
    "        spline.solve(imag_nodes[:, i])\n",
    "        imag_coefs.append(np.copy(spline.coefs))\n",
    "    return np.array(real_coefs), np.array(imag_coefs)\n",
    "\n",
    "def build_spline_surrogate(nQ):\n",
    "    qvals = np.linspace(1., 10., nQ)\n",
    "    spline = spline_coef_evaluation.UniformSpacingCubicSplineND((nQ,), origin=[1.], spacings=[9. / (nQ-1)])\n",
    "    spline.decompose()\n",
    "    \n",
    "    mode_data = {}\n",
    "    for i in tqdm.trange(len(lm_modes)):\n",
    "        ell, m = lm_modes[i]\n",
    "        real_coefs, imag_coefs = get_mode_spline_coefs(ell, m, qvals, spline)\n",
    "        mode_data[ell, m] = (empirical_interpolant_bases[ell, m], real_coefs, imag_coefs)\n",
    "        \n",
    "    spline_surrogate = surrogate.FastTensorSplineSurrogate(\n",
    "            name = 'SpEC_1d_nonspinning_%s_spline_knots',\n",
    "            domain = t,\n",
    "            param_space = surrogate.ParamSpace('Nonspinning_q10', [surrogate.ParamDim('q', 1, 10)]),\n",
    "            knot_vecs = [qvals],\n",
    "            mode_data = mode_data,\n",
    "            modes = lm_modes,\n",
    "    )\n",
    "    \n",
    "    return spline_surrogate\n",
    "\n",
    "def waveform_norm(h):\n",
    "    return np.sqrt(np.sum(abs(h**2)))\n",
    "\n",
    "def waveform_error(h1, h2):\n",
    "    return waveform_norm(h1 - h2) / waveform_norm(h1)\n",
    "\n",
    "def many_h_evals(qvals):\n",
    "    h_evals = []\n",
    "    for i in tqdm.trange(len(qvals)):\n",
    "        q = qvals[i]\n",
    "        _, t, hreal, himag = sur(q, mode_sum=False, fake_neg_modes=False)\n",
    "        h_evals.append((hreal + 1.j*himag).T)\n",
    "    return h_evals\n",
    "\n",
    "def test_spline_surrogate(spline_surrogate, nqtest, h_evals):\n",
    "    qtest = np.linspace(1., 10., nqtest)\n",
    "    errs = []\n",
    "    for i in tqdm.trange(len(qtest)):\n",
    "        q = qtest[i]\n",
    "        h = h_evals[i]\n",
    "        spline_modes = spline_surrogate([q])\n",
    "        h_spline = np.array([spline_modes[k] for k in lm_modes])\n",
    "        errs.append(waveform_error(h, h_spline))\n",
    "    return np.array(errs)\n",
    "\n"
   ]
  },
  {
   "cell_type": "code",
   "execution_count": null,
   "metadata": {
    "collapsed": false
   },
   "outputs": [],
   "source": [
    "errs = []\n",
    "nqs = [5, 10, 20, 40, 80]\n",
    "nqtest = 150\n",
    "qtest = np.linspace(1., 10., nqtest)\n",
    "h_evals = many_h_evals(qtest)\n",
    "for nq in nqs:\n",
    "    spline_sur = build_spline_surrogate(nq)\n",
    "    errs.append(test_spline_surrogate(spline_sur, nqtest, h_evals))\n",
    "    print nq, np.max(errs[-1])\n",
    "    sys.stdout.flush()"
   ]
  },
  {
   "cell_type": "code",
   "execution_count": null,
   "metadata": {
    "collapsed": false
   },
   "outputs": [],
   "source": [
    "for nq, err in zip(nqs, errs):\n",
    "    plt.semilogy(qtest, err, label='n knots = %s'%(nq))\n",
    "plt.legend()\n",
    "plt.show()"
   ]
  },
  {
   "cell_type": "code",
   "execution_count": null,
   "metadata": {
    "collapsed": false
   },
   "outputs": [],
   "source": [
    "# Add a couple more (better) spline surrogates...\n",
    "nqs = nqs + [160, 320]\n",
    "for nq in [160, 320]:\n",
    "    spline_sur = build_spline_surrogate(nq)\n",
    "    errs.append(test_spline_surrogate(spline_sur, nqtest, h_evals))\n",
    "    print nq, np.max(errs[-1])\n",
    "    sys.stdout.flush()"
   ]
  },
  {
   "cell_type": "code",
   "execution_count": null,
   "metadata": {
    "collapsed": false
   },
   "outputs": [],
   "source": [
    "for nq, err in zip(nqs, errs):\n",
    "    plt.semilogy(qtest, err, label='n knots = %s'%(nq))\n",
    "plt.legend()\n",
    "plt.show()"
   ]
  },
  {
   "cell_type": "code",
   "execution_count": null,
   "metadata": {
    "collapsed": false
   },
   "outputs": [],
   "source": [
    "# It looks like we reach the empirical interpolation error cutoff around 100 knots.\n",
    "spline_sur = build_spline_surrogate(100)"
   ]
  },
  {
   "cell_type": "code",
   "execution_count": null,
   "metadata": {
    "collapsed": false
   },
   "outputs": [],
   "source": [
    "%%timeit\n",
    "spline_sur([1.2])"
   ]
  },
  {
   "cell_type": "code",
   "execution_count": null,
   "metadata": {
    "collapsed": false
   },
   "outputs": [],
   "source": [
    "%%timeit\n",
    "sur(1.2, mode_sum=False, fake_neg_modes=False)"
   ]
  },
  {
   "cell_type": "code",
   "execution_count": null,
   "metadata": {
    "collapsed": true
   },
   "outputs": [],
   "source": [
    "# Save the spline surrogate:\n",
    "spline_sur.save('SpEC_q10_nonspinning_spline_surrogate.h5')"
   ]
  },
  {
   "cell_type": "code",
   "execution_count": null,
   "metadata": {
    "collapsed": false
   },
   "outputs": [],
   "source": [
    "# Load the spline surrogate:\n",
    "loaded_surrogate = surrogate.FastTensorSplineSurrogate()\n",
    "loaded_surrogate.load('SpEC_q10_nonspinning_spline_surrogate.h5')\n",
    "h_modes = loaded_surrogate([np.pi])\n",
    "_, t, hreal, himag = sur(q=np.pi, mode_sum=False, fake_neg_modes=False)\n",
    "\n",
    "plt.plot(t, hreal[:, 2], 'k', label='Original amp/phase surrogate')\n",
    "plt.plot(t, np.real(h_modes[2, 2]), 'r--', label='spline surrogate-of-a-surrogate')\n",
    "plt.plot(t, abs(hreal[:, 2] - np.real(h_modes[2, 2])), 'c', label='error')\n",
    "plt.legend(frameon=False, loc='upper left')\n",
    "plt.show()"
   ]
  },
  {
   "cell_type": "markdown",
   "metadata": {
    "collapsed": true
   },
   "source": [
    "# save in old gwsurrogate format"
   ]
  },
  {
   "cell_type": "code",
   "execution_count": null,
   "metadata": {
    "collapsed": false
   },
   "outputs": [],
   "source": [
    "spline_sur.ts_grid.breakpoint_vecs[0]"
   ]
  },
  {
   "cell_type": "code",
   "execution_count": null,
   "metadata": {
    "collapsed": false
   },
   "outputs": [],
   "source": [
    "# Q: Where are EIM indicies? (how does mode get evaluated with ei and spline data?)\n",
    "# other data needed for gwsurrogate?\n",
    "# Q: data for parameter domain? \n",
    "# Q: data for affine map?\n",
    "print spline_sur.param_space\n",
    "print spline_sur.name\n",
    "print spline_sur.mode_list\n",
    "print spline_sur.mode_indices\n",
    "print spline_sur.domain\n",
    "print len(spline_sur.cre)\n",
    "print len(spline_sur.cim)\n",
    "print len(spline_sur.ei)\n",
    "print spline_sur.ei[2].shape\n",
    "print spline_sur.cre[2].shape\n",
    "print spline_sur.ts_grid.breakpoint_vecs[0].shape\n",
    "print spline_sur._h5_data_keys # what is this used for?\n",
    "print spline_sur._h5_subordinate_keys # what is this used for?"
   ]
  },
  {
   "cell_type": "code",
   "execution_count": null,
   "metadata": {
    "collapsed": false
   },
   "outputs": [],
   "source": [
    "spline_sur.__dict__.keys()"
   ]
  },
  {
   "cell_type": "code",
   "execution_count": null,
   "metadata": {
    "collapsed": false
   },
   "outputs": [],
   "source": [
    "# Q: not exactly 100? OK?\n",
    "# Q: not exactly dt=.1? OK?\n",
    "print spline_sur.domain[0]\n",
    "print spline_sur.domain[-1]\n",
    "print spline_sur.domain[1] - spline_sur.domain[0]"
   ]
  },
  {
   "cell_type": "code",
   "execution_count": null,
   "metadata": {
    "collapsed": false
   },
   "outputs": [],
   "source": [
    "mode = '(2, 2)'\n",
    "mode_index = spline_sur.mode_indices[mode]\n",
    "\n",
    "\n",
    "# Q: is this how to access (2,2) mode data ?\n",
    "surrogate_mode_data = {}\n",
    "surrogate_mode_data[\"surrogate_mode_type\"] = 'waveform_basis'\n",
    "surrogate_mode_data['parameterization']  = 'q_to_q'\n",
    "surrogate_mode_data['affine_map'] = 'none'\n",
    "surrogate_mode_data['t_units'] = 'TOverMtot'\n",
    "surrogate_mode_data['B'] = spline_sur.ei[mode_index]\n",
    "surrogate_mode_data['fit_min'] = 1.0\n",
    "surrogate_mode_data['fit_max'] = 1.0\n",
    "\n",
    "\n",
    "# Q: fit amp/phase instead of h? how was (2,0) mode fitted?\n",
    "# Q: how does tmin/tmax/dt and times fit together? Always include just times at which basis is sampled? a bit more\n",
    "# space but less confusing\n",
    "#surrogate_mode_data['tmin'] = spline_sur.domain[-1]\n",
    "#surrogate_mode_data['tmax'] = spline_sur.domain[0]\n",
    "surrogate_mode_data['times'] = spline_sur.domain\n",
    "#surrogate_mode_data['dt'] = spline_sur.domain[1] - spline_sur.domain[0]\n",
    "#surrogate_mode_data['quadrature_weights'] =\n",
    "\n",
    "# Q: data set has no eim_indices. \n",
    "#_eim_indices_grp        = 'eim_indices'       # .txt... text: eim_indices contains 2 vectors if amp/phase\n",
    "#_eim_indices_phase_grp  = 'eim_indices_phase' # rolled into eim_indices\n",
    "\n",
    "# _eim_amp_grp    = 'eim_amp' # text analog? only used to plot \n",
    "#  _eim_phase_grp  = 'eim_phase' # text analog? only used to plot\n",
    "\n",
    "#  _fitparams_phase_grp      = 'fitparams_phase' #  .txt\n",
    "#  _fit_type_phase_grp       = 'fit_type_phase'   # .txt\n",
    "#  _fitparams_amp_grp        = 'fitparams_amp'  # .txt\n",
    "#  _fit_type_amp_grp         = 'fit_type_amp' # .txt\n",
    "#  _fit_type_norm_grp        = 'fit_type_norm' # .txt\n",
    "#  _fitparams_norm_grp       = 'fitparams_norm' # .txt\n",
    "\n",
    "\n"
   ]
  },
  {
   "cell_type": "code",
   "execution_count": null,
   "metadata": {
    "collapsed": true
   },
   "outputs": [],
   "source": [
    "from gwsurrogate import surrogateIO"
   ]
  },
  {
   "cell_type": "code",
   "execution_count": null,
   "metadata": {
    "collapsed": false
   },
   "outputs": [],
   "source": [
    "writeh5 = surrogateIO.H5Surrogate('testsur.h5','w')"
   ]
  },
  {
   "cell_type": "code",
   "execution_count": null,
   "metadata": {
    "collapsed": false
   },
   "outputs": [],
   "source": [
    "print writeh5.required\n",
    "print writeh5."
   ]
  },
  {
   "cell_type": "code",
   "execution_count": null,
   "metadata": {
    "collapsed": true
   },
   "outputs": [],
   "source": [
    "writeh5.prepare_mode_data()"
   ]
  }
 ],
 "metadata": {
  "kernelspec": {
   "display_name": "Python 2",
   "language": "python",
   "name": "python2"
  },
  "language_info": {
   "codemirror_mode": {
    "name": "ipython",
    "version": 2
   },
   "file_extension": ".py",
   "mimetype": "text/x-python",
   "name": "python",
   "nbconvert_exporter": "python",
   "pygments_lexer": "ipython2",
   "version": "2.7.11"
  }
 },
 "nbformat": 4,
 "nbformat_minor": 0
}
