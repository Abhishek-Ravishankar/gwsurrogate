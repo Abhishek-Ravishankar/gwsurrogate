{
 "metadata": {
  "name": "",
  "signature": "sha256:913585e3b7f311f3ddf9f4659d1c9076783631ea134219b5ecfaae0bf79bafec"
 },
 "nbformat": 3,
 "nbformat_minor": 0,
 "worksheets": [
  {
   "cells": [
    {
     "cell_type": "code",
     "collapsed": false,
     "input": [
      "import sys\n",
      "sys.path.append('/Users/crgalley/Physics/Research/Projects/ReducedBasis/Surrogates/gwsurrogate/')\n",
      "#sys.path.append('/home/scott/Repos/GitRepos/Codes/gwsurrogate/')\n",
      "import gwsurrogate as gws\n",
      "\n",
      "import matplotlib.pyplot as plt\n",
      "import numpy as np, h5py\n",
      "\n",
      "# The test surrogate data in HDF5 format can be found at:\n",
      "#   zwicky.cacr.caltech.edu:/home/crgalley/SpECSurrogates/chad/GWSurrogate_testing/NRHM-A22.h5\n",
      "\n",
      "datapath = '/Users/crgalley/Physics/Research/Projects/ReducedBasis/Surrogates/SpecSurrogates/NonSpinning/surrogate_data/gwsurrogate_tests/'"
     ],
     "language": "python",
     "metadata": {},
     "outputs": []
    },
    {
     "cell_type": "heading",
     "level": 3,
     "metadata": {},
     "source": [
      "Single mode surrogate evaluation"
     ]
    },
    {
     "cell_type": "markdown",
     "metadata": {},
     "source": [
      "Directly import a single mode of a surrogate in HDF5 format and make a plot of the (2,2) mode:"
     ]
    },
    {
     "cell_type": "code",
     "collapsed": false,
     "input": [
      "sur0 = gws.EvaluateSingleModeSurrogate(datapath+'NRHM-A22.h5', subdir='l2_m2')\n",
      "sur0.plot_sur(np.pi);"
     ],
     "language": "python",
     "metadata": {},
     "outputs": []
    },
    {
     "cell_type": "markdown",
     "metadata": {},
     "source": [
      "The name of this mode is carried along with the `mode` attribute variable, which is useful for I/O purposes."
     ]
    },
    {
     "cell_type": "code",
     "collapsed": false,
     "input": [
      "print sur0.mode"
     ],
     "language": "python",
     "metadata": {},
     "outputs": []
    },
    {
     "cell_type": "markdown",
     "metadata": {},
     "source": [
      "We can write this data to a different HDF5 file if we want. First, we take the surrogate data of sur1 and collect it into a dictionary that we call `data`..."
     ]
    },
    {
     "cell_type": "code",
     "collapsed": false,
     "input": [
      "data = sur0.prepare_mode_data(sur0)"
     ],
     "language": "python",
     "metadata": {},
     "outputs": []
    },
    {
     "cell_type": "markdown",
     "metadata": {},
     "source": [
      "Execute the following to see how many entries `data` contains and what they are:"
     ]
    },
    {
     "cell_type": "code",
     "collapsed": false,
     "input": [
      "print len(data)\n",
      "print data.keys()"
     ],
     "language": "python",
     "metadata": {},
     "outputs": []
    },
    {
     "cell_type": "markdown",
     "metadata": {},
     "source": [
      "GWSurrogate requires the following data keys for reading/writing HDF5 surrogates (NOTE: this should also be the case for text-based surrogate files.)"
     ]
    },
    {
     "cell_type": "code",
     "collapsed": false,
     "input": [
      "sur0.print_required()"
     ],
     "language": "python",
     "metadata": {},
     "outputs": []
    },
    {
     "cell_type": "markdown",
     "metadata": {},
     "source": [
      "Then, we just need to pass `data` into the `write_h5` function attribute, which will write the surrogate data contained in `NRHM-A22.h5` into a new file called `NRHM-A22-test1.h5`"
     ]
    },
    {
     "cell_type": "code",
     "collapsed": false,
     "input": [
      "sur0.write_h5(data, path=datapath+'NRHM-A22-test1.h5')\n",
      "\n",
      "# If you have only one mode, this is an alternative way to do the same thing\n",
      "#sur0.write_h5(data, path=datapath+'NRHM-A22-test1.h5', subdir=sur0.mode)  "
     ],
     "language": "python",
     "metadata": {},
     "outputs": []
    },
    {
     "cell_type": "markdown",
     "metadata": {},
     "source": [
      "This new data set can be read back in any way we wish. For example, if we want to plot the (2,2) mode then we do"
     ]
    },
    {
     "cell_type": "code",
     "collapsed": false,
     "input": [
      "sur1 = gws.EvaluateSingleModeSurrogate(datapath+'NRHM-A22-test1.h5', subdir='l2_m2')\n",
      "sur1.plot_sur(np.pi);"
     ],
     "language": "python",
     "metadata": {},
     "outputs": []
    },
    {
     "cell_type": "markdown",
     "metadata": {},
     "source": [
      "At least, for single-mode surrogate data, the class `H5Surrogate` provides some lower level flexibility for interfacing with the HDF5 data. For example, we can pass a pointer to an open file that we wish to read by doing:"
     ]
    },
    {
     "cell_type": "code",
     "collapsed": false,
     "input": [
      "fp1 = h5py.File(datapath+'NRHM-A22.h5', 'r')\n",
      "sur2 = gws.H5Surrogate(fp1, mode='r', subdir='l2_m2')\n",
      "\n",
      "print sur2.surrogate_ID  # Print something just to show that we accessed the data file\n",
      "\n",
      "# Note that the file is now closed:\n",
      "print sur2.file"
     ],
     "language": "python",
     "metadata": {},
     "outputs": []
    },
    {
     "cell_type": "markdown",
     "metadata": {},
     "source": [
      "We can also keep a file open if we wanted to load other modes. For example, to load the (2,2) and (2,0) modes individually we would do:"
     ]
    },
    {
     "cell_type": "code",
     "collapsed": false,
     "input": [
      "sur3 = gws.H5Surrogate(datapath+'NRHM-A22.h5', mode='r', subdir='l2_m2', closeQ=False)\n",
      "print sur3.mode\n",
      "\n",
      "sur4 = gws.H5Surrogate(sur3.file, mode='r', subdir='l2_m0')\n",
      "print sur4.mode\n",
      "\n",
      "# Notice that the file is now closed (closeQ=True is the default option)\n",
      "print sur4.file"
     ],
     "language": "python",
     "metadata": {},
     "outputs": []
    },
    {
     "cell_type": "heading",
     "level": 3,
     "metadata": {},
     "source": [
      "Multiple mode surrogate evaluation"
     ]
    },
    {
     "cell_type": "markdown",
     "metadata": {},
     "source": [
      "Instead of loading modes by hand one-by-one, `GWSurrogate` can load all modes that are available in the HDF5 file by a simple call to `EvaluateSurrogate`:"
     ]
    },
    {
     "cell_type": "code",
     "collapsed": false,
     "input": [
      "sur10 = gws.EvaluateSurrogate(datapath+'NRHM-A22.h5')"
     ],
     "language": "python",
     "metadata": {},
     "outputs": []
    },
    {
     "cell_type": "markdown",
     "metadata": {},
     "source": [
      "To visually check that we successfully loaded all the data, we plot the (2,2), (2,1), and (2,0) mode data:"
     ]
    },
    {
     "cell_type": "code",
     "collapsed": false,
     "input": [
      "sur10.single_modes['l2_m0'].plot_sur(np.pi, showQ=False);\n",
      "sur10.single_modes['l2_m1'].plot_sur(np.pi, showQ=False);  \n",
      "sur10.single_modes['l2_m2'].plot_sur(np.pi);"
     ],
     "language": "python",
     "metadata": {},
     "outputs": []
    },
    {
     "cell_type": "markdown",
     "metadata": {},
     "source": [
      "The information about which modes are contained in the data file is given by the `modes` attribute:"
     ]
    },
    {
     "cell_type": "code",
     "collapsed": false,
     "input": [
      "print sur10.modes"
     ],
     "language": "python",
     "metadata": {},
     "outputs": []
    },
    {
     "cell_type": "markdown",
     "metadata": {},
     "source": [
      "As with the single-mode data, we can write all of the multi-mode data to a different HDF5 file. First, collect the multi-mode surrogate data into a list of dictionaries where each element of this list corresponds to the surrogate data for a single mode."
     ]
    },
    {
     "cell_type": "code",
     "collapsed": false,
     "input": [
      "data = sur10.prepare_data(sur10)"
     ],
     "language": "python",
     "metadata": {},
     "outputs": []
    },
    {
     "cell_type": "markdown",
     "metadata": {},
     "source": [
      "Now pass `data` to the `write_h5` function attribute, which will write all of the multi-mode surrogate data to the new file called `NRHM-A22-test2.h5`."
     ]
    },
    {
     "cell_type": "code",
     "collapsed": false,
     "input": [
      "sur10.write_h5(data, path=datapath+'NRHM-A22-test2.h5')"
     ],
     "language": "python",
     "metadata": {},
     "outputs": []
    },
    {
     "cell_type": "markdown",
     "metadata": {},
     "source": [
      "Alternatively, we may create a file called `NRHM-A22-test3.h5` and pass its pointer to `EvaluateSurrogate` in the following way:"
     ]
    },
    {
     "cell_type": "code",
     "collapsed": false,
     "input": [
      "fp2 = h5py.File(datapath+'NRHM-A22-test3.h5', 'w')\n",
      "sur11 = gws.EvaluateSurrogate(fp2)"
     ],
     "language": "python",
     "metadata": {},
     "outputs": []
    },
    {
     "cell_type": "markdown",
     "metadata": {},
     "source": [
      "Notice that because we're not asking `EvaluateSurrogate` to load any data then there are not many attributes associated with `sur11`:"
     ]
    },
    {
     "cell_type": "code",
     "collapsed": false,
     "input": [
      "print sur11.__dict__.keys()"
     ],
     "language": "python",
     "metadata": {},
     "outputs": []
    },
    {
     "cell_type": "markdown",
     "metadata": {},
     "source": [
      "Writing the data of `sur10` to the file is accomplished by the following:"
     ]
    },
    {
     "cell_type": "code",
     "collapsed": false,
     "input": [
      "data10 = sur11.prepare_data(sur10)  # Prepare data dictionaries from the sur10 class instantiation\n",
      "sur11.write_h5(data10, path=fp2)    # Write data10 to the file pointed to by fp2"
     ],
     "language": "python",
     "metadata": {},
     "outputs": []
    },
    {
     "cell_type": "code",
     "collapsed": false,
     "input": [],
     "language": "python",
     "metadata": {},
     "outputs": []
    }
   ],
   "metadata": {}
  }
 ]
}