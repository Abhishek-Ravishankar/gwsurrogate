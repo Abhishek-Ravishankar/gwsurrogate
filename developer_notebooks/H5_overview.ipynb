{
 "metadata": {
  "name": "",
  "signature": "sha256:276f71325694cf59fd9728098c72b84257b9e8c73fec7f8154b9471ce6dad61e"
 },
 "nbformat": 3,
 "nbformat_minor": 0,
 "worksheets": [
  {
   "cells": [
    {
     "cell_type": "code",
     "collapsed": false,
     "input": [
      "import sys\n",
      "sys.path.append('/Users/crgalley/Physics/Research/Projects/ReducedBasis/Surrogates/gwsurrogate/')\n",
      "#sys.path.append('/home/scott/Repos/GitRepos/Codes/gwsurrogate/')\n",
      "import gwsurrogate as gws\n",
      "\n",
      "import matplotlib.pyplot as plt\n",
      "import numpy as np\n",
      "\n",
      "datapath = '/Users/crgalley/Physics/Research/Projects/ReducedBasis/Surrogates/SpecSurrogates/NonSpinning/surrogate_data/gwsurrogate_tests/'"
     ],
     "language": "python",
     "metadata": {},
     "outputs": []
    },
    {
     "cell_type": "code",
     "collapsed": false,
     "input": [
      "# Import a surrogate in HDF5 format\n",
      "sur1 = gws.EvaluateSingleModeSurrogate(datapath+'NR22-A22.h5')\n",
      "print sur1.surrogate_ID"
     ],
     "language": "python",
     "metadata": {},
     "outputs": []
    },
    {
     "cell_type": "code",
     "collapsed": false,
     "input": [
      "sur1.plot_sur(np.pi);"
     ],
     "language": "python",
     "metadata": {},
     "outputs": []
    },
    {
     "cell_type": "code",
     "collapsed": false,
     "input": [
      "# We can write this data to a different HDF5 file if we want\n",
      "# First, collect the data from sur1 into a dictionary...\n",
      "data = sur1.prepare_data(sur1)\n",
      "\n",
      "# ...then pass this into the write_h5 function\n",
      "sur1.write_h5(data, datapath+'NR22-A22-test1.h5')"
     ],
     "language": "python",
     "metadata": {},
     "outputs": []
    },
    {
     "cell_type": "code",
     "collapsed": false,
     "input": [
      "# We can load this data back in with:\n",
      "sur2 = gws.EvaluateSingleModeSurrogate(datapath+'NR22-A22-test1.h5')\n",
      "print sur2.surrogate_ID"
     ],
     "language": "python",
     "metadata": {},
     "outputs": []
    },
    {
     "cell_type": "code",
     "collapsed": false,
     "input": [
      "# There is much greater flexibility for interfacing with HDF5 data \n",
      "# using the H5Surrogate class directly.\n",
      "\n",
      "# For example, we can also pass a pointer to an open file for reading with:\n",
      "import h5py\n",
      "fp1 = h5py.File(datapath+'NR22-A22.h5', 'r')\n",
      "sur3 = gws.H5Surrogate(fp1, 'r')\n",
      "print sur3.surrogate_ID\n",
      "\n",
      "# Note that the file is now closed:\n",
      "print sur3.file"
     ],
     "language": "python",
     "metadata": {},
     "outputs": []
    },
    {
     "cell_type": "code",
     "collapsed": false,
     "input": [
      "# We can also pass a pointer to an open file for writing to:\n",
      "fp2 = h5py.File(datapath+'NR22-A22-test2.h5', 'w')\n",
      "sur4 = gws.H5Surrogate(fp2, 'w')\n",
      "sur4.write_h5(data)"
     ],
     "language": "python",
     "metadata": {},
     "outputs": []
    },
    {
     "cell_type": "code",
     "collapsed": false,
     "input": [
      "# Alternatively, just pass nothing to the H5Surrogate class...\n",
      "sur5 = gws.H5Surrogate()\n",
      "\n",
      "# ...and load some surrogate data...\n",
      "sur5.load_h5(datapath+'NR22-A22.h5')\n",
      "print sur5.surrogate_ID\n",
      "\n",
      "# ...then write to a different file...\n",
      "sur5.write_h5(sur5.prepare_data(sur5), datapath+'NR22-A22-test3.h5')\n",
      "\n",
      "# ...and load that new data file back in (this will overwrite any\n",
      "# attribute data held in sur5)...\n",
      "sur5.load_h5(datapath+'NR22-A22-test3.h5')\n",
      "print sur5.surrogate_ID\n",
      "\n",
      "# ... or a different surrogate data file\n",
      "sur5.load_h5(datapath+'NR22-A22-test1.h5')\n",
      "print sur5.surrogate_ID"
     ],
     "language": "python",
     "metadata": {},
     "outputs": []
    },
    {
     "cell_type": "code",
     "collapsed": false,
     "input": [],
     "language": "python",
     "metadata": {},
     "outputs": []
    }
   ],
   "metadata": {}
  }
 ]
}