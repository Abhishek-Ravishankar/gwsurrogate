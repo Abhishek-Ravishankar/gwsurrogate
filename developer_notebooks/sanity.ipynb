{
 "metadata": {
  "name": ""
 },
 "nbformat": 3,
 "nbformat_minor": 0,
 "worksheets": [
  {
   "cells": [
    {
     "cell_type": "code",
     "collapsed": false,
     "input": [
      "import sys\n",
      "#sys.path.append('/Users/crgalley/Physics/Research/Projects/ReducedBasis/Surrogates/gwsurrogate/')\n",
      "sys.path.append('/home/scott/Repos/GitRepos/Codes/gwsurrogate/')\n",
      "import gwsurrogate as gws\n",
      "\n",
      "\n",
      "import lal as lal\n",
      "import lalsimulation as lalsim\n",
      "\n",
      "import matplotlib.pyplot as plt\n",
      "import numpy as np"
     ],
     "language": "python",
     "metadata": {},
     "outputs": [],
     "prompt_number": 1
    },
    {
     "cell_type": "code",
     "collapsed": false,
     "input": [
      "print gws.sYlm(-2,ll=2,mm=2,theta=0.0,phi=0.0)"
     ],
     "language": "python",
     "metadata": {},
     "outputs": [
      {
       "output_type": "stream",
       "stream": "stdout",
       "text": [
        "(0.630783130505+0j)\n"
       ]
      }
     ],
     "prompt_number": 4
    },
    {
     "cell_type": "heading",
     "level": 3,
     "metadata": {},
     "source": [
      "convert between text and hdf5 surrogates"
     ]
    },
    {
     "cell_type": "heading",
     "level": 3,
     "metadata": {},
     "source": [
      "Text 2 text (IO test)"
     ]
    },
    {
     "cell_type": "code",
     "collapsed": false,
     "input": [
      "### text-2-text IO ###\n",
      "path_to_surrogate = '../tutorial/EOBNRv2_example/EOBNRv2_q1_2_NoSpin_SingleModes/l2_m2_len12239M_SurID19poly/' # assumes notebook launched from \"notebooks\" directory\n",
      "EOBNRv2_sur = gws.EvaluateSingleModeSurrogate(path_to_surrogate)"
     ],
     "language": "python",
     "metadata": {},
     "outputs": [],
     "prompt_number": 67
    },
    {
     "cell_type": "code",
     "collapsed": false,
     "input": [
      "EOBNRv2_sur.time().shape"
     ],
     "language": "python",
     "metadata": {},
     "outputs": [
      {
       "metadata": {},
       "output_type": "pyout",
       "prompt_number": 70,
       "text": [
        "(9881,)"
       ]
      }
     ],
     "prompt_number": 70
    },
    {
     "cell_type": "code",
     "collapsed": false,
     "input": [
      "t,hp,hc = EOBNRv2_sur(1.2)"
     ],
     "language": "python",
     "metadata": {},
     "outputs": [],
     "prompt_number": 71
    },
    {
     "cell_type": "code",
     "collapsed": false,
     "input": [
      "hp.shape"
     ],
     "language": "python",
     "metadata": {},
     "outputs": [
      {
       "metadata": {},
       "output_type": "pyout",
       "prompt_number": 73,
       "text": [
        "(9881,)"
       ]
      }
     ],
     "prompt_number": 73
    },
    {
     "cell_type": "code",
     "collapsed": false,
     "input": [
      "fp = gws.TextSurrogateWrite('tmp_txt/')"
     ],
     "language": "python",
     "metadata": {},
     "outputs": []
    },
    {
     "cell_type": "code",
     "collapsed": false,
     "input": [
      "fp.write_text?"
     ],
     "language": "python",
     "metadata": {},
     "outputs": []
    },
    {
     "cell_type": "code",
     "collapsed": false,
     "input": [
      "fp.write_text(EOBNRv2_sur.time_info, EOBNRv2_sur.B,EOBNRv2_sur.eim_indices,\\\n",
      "              EOBNRv2_sur.greedy_points,EOBNRv2_sur.fit_interval,EOBNRv2_sur.affine_map,\\\n",
      "              EOBNRv2_sur.fitparams_amp,EOBNRv2_sur.fitparams_phase,EOBNRv2_sur.fitparams_norm,\\\n",
      "              EOBNRv2_sur.V,EOBNRv2_sur.R,EOBNRv2_sur.fit_type_phase,EOBNRv2_sur.fit_type_amp,\\\n",
      "              EOBNRv2_sur.fit_type_norm)"
     ],
     "language": "python",
     "metadata": {},
     "outputs": []
    },
    {
     "cell_type": "code",
     "collapsed": false,
     "input": [
      "written_surr = gws.EvaluateSingleModeSurrogate('tmp_txt/')"
     ],
     "language": "python",
     "metadata": {},
     "outputs": []
    },
    {
     "cell_type": "code",
     "collapsed": false,
     "input": [
      "gws.CompareSingleModeSurrogate(written_surr,EOBNRv2_sur)"
     ],
     "language": "python",
     "metadata": {},
     "outputs": []
    },
    {
     "cell_type": "heading",
     "level": 3,
     "metadata": {},
     "source": [
      "Text 2 hdf5 to text"
     ]
    },
    {
     "cell_type": "code",
     "collapsed": false,
     "input": [
      "writeh5 = gws.H5Surrogate('tmp.h5','w')"
     ],
     "language": "python",
     "metadata": {},
     "outputs": []
    },
    {
     "cell_type": "code",
     "collapsed": false,
     "input": [
      "isinstance(written_surr,gws.TextSurrogateRead)"
     ],
     "language": "python",
     "metadata": {},
     "outputs": []
    },
    {
     "cell_type": "code",
     "collapsed": false,
     "input": [
      "tmpdict = writeh5.prepare_data(written_surr.__dict__)"
     ],
     "language": "python",
     "metadata": {},
     "outputs": []
    },
    {
     "cell_type": "heading",
     "level": 3,
     "metadata": {},
     "source": [
      "Compare Christians spherical harmonic code to lal\n",
      "\n",
      "Outcome: all modes up to ell = 5 agree to better than 1e-14 absolute error"
     ]
    },
    {
     "cell_type": "code",
     "collapsed": false,
     "input": [
      "lal.SpinWeightedSphericalHarmonic(theta = 0.0, phi=0.0,s=-2,l=2,m=2)"
     ],
     "language": "python",
     "metadata": {},
     "outputs": [
      {
       "metadata": {},
       "output_type": "pyout",
       "prompt_number": 9,
       "text": [
        "(0.6307831305050401+0j)"
       ]
      }
     ],
     "prompt_number": 9
    },
    {
     "cell_type": "code",
     "collapsed": false,
     "input": [
      "l=2\n",
      "m=1\n",
      "\n",
      "theta_list = np.linspace(0.0,np.pi,200)\n",
      "phi_list   = np.linspace(0.0,2.0*np.pi,200)\n",
      "error_list1 = np.zeros((200,200),dtype=complex)\n",
      "error_list2 = np.zeros((200,200),dtype=complex)\n",
      "\n",
      "ii=0\n",
      "jj=0\n",
      "for theta in theta_list:\n",
      "    \n",
      "    for phi in phi_list:\n",
      "        lal_spin = lal.SpinWeightedSphericalHarmonic(theta, phi, s=-2, l=l, m=m)\n",
      "        cr_spin  = gws.sYlm(-2, ll=l, mm=m,theta=theta, phi=phi)\n",
      "        error_list1[ii,jj] = lal_spin - cr_spin\n",
      "        error_list2[ii,jj] = (lal_spin - cr_spin)\n",
      "        jj+=1\n",
      "        \n",
      "    ii+=1\n",
      "    jj=0    \n",
      "    \n",
      "    \n",
      "print np.max(np.abs(error_list1))"
     ],
     "language": "python",
     "metadata": {},
     "outputs": [
      {
       "output_type": "stream",
       "stream": "stdout",
       "text": [
        "1.01943309494e-15\n"
       ]
      }
     ],
     "prompt_number": 4
    }
   ],
   "metadata": {}
  }
 ]
}