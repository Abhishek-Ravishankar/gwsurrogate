{
 "metadata": {
  "name": ""
 },
 "nbformat": 3,
 "nbformat_minor": 0,
 "worksheets": [
  {
   "cells": [
    {
     "cell_type": "code",
     "collapsed": false,
     "input": [
      "import sys\n",
      "#sys.path.append('/Users/crgalley/Physics/Research/Projects/ReducedBasis/Surrogates/gwsurrogate/')\n",
      "sys.path.append('/home/scott/Repos/GitRepos/Codes/gwsurrogate/')\n",
      "import gwsurrogate as gws\n",
      "\n",
      "import matplotlib.pyplot as plt\n",
      "import numpy as np"
     ],
     "language": "python",
     "metadata": {},
     "outputs": []
    },
    {
     "cell_type": "heading",
     "level": 3,
     "metadata": {},
     "source": [
      "convert between text and hdf5 surrogates"
     ]
    },
    {
     "cell_type": "heading",
     "level": 3,
     "metadata": {},
     "source": [
      "Text 2 text (IO test)"
     ]
    },
    {
     "cell_type": "code",
     "collapsed": false,
     "input": [
      "### text-2-text IO ###\n",
      "path_to_surrogate = '../tutorial/EOBNRv2_example/EOBNRv2_q1_2_NoSpin_SingleModes/l2_m2_len12239M_SurID19poly/' # assumes notebook launched from \"notebooks\" directory\n",
      "EOBNRv2_sur = gws.EvaluateSingleModeSurrogate(path_to_surrogate)"
     ],
     "language": "python",
     "metadata": {},
     "outputs": []
    },
    {
     "cell_type": "code",
     "collapsed": false,
     "input": [
      "fp = gws.TextSurrogateWrite('tmp_txt/')"
     ],
     "language": "python",
     "metadata": {},
     "outputs": []
    },
    {
     "cell_type": "code",
     "collapsed": false,
     "input": [
      "fp.write_text?"
     ],
     "language": "python",
     "metadata": {},
     "outputs": []
    },
    {
     "cell_type": "code",
     "collapsed": false,
     "input": [
      "fp.write_text(EOBNRv2_sur.time_info, EOBNRv2_sur.B,EOBNRv2_sur.eim_indices,\\\n",
      "              EOBNRv2_sur.greedy_points,EOBNRv2_sur.fit_interval,EOBNRv2_sur.affine_map,\\\n",
      "              EOBNRv2_sur.fitparams_amp,EOBNRv2_sur.fitparams_phase,EOBNRv2_sur.fitparams_norm,\\\n",
      "              EOBNRv2_sur.V,EOBNRv2_sur.R,EOBNRv2_sur.fit_type_phase,EOBNRv2_sur.fit_type_amp,\\\n",
      "              EOBNRv2_sur.fit_type_norm)"
     ],
     "language": "python",
     "metadata": {},
     "outputs": []
    },
    {
     "cell_type": "code",
     "collapsed": false,
     "input": [
      "written_surr = gws.EvaluateSingleModeSurrogate('tmp_txt/')"
     ],
     "language": "python",
     "metadata": {},
     "outputs": []
    },
    {
     "cell_type": "code",
     "collapsed": false,
     "input": [
      "gws.CompareSingleModeSurrogate(written_surr,EOBNRv2_sur)"
     ],
     "language": "python",
     "metadata": {},
     "outputs": []
    },
    {
     "cell_type": "heading",
     "level": 3,
     "metadata": {},
     "source": [
      "Text 2 hdf5 to text"
     ]
    },
    {
     "cell_type": "code",
     "collapsed": false,
     "input": [
      "writeh5 = gws.H5Surrogate('tmp.h5','w')"
     ],
     "language": "python",
     "metadata": {},
     "outputs": []
    },
    {
     "cell_type": "code",
     "collapsed": false,
     "input": [
      "isinstance(written_surr,gws.TextSurrogateRead)"
     ],
     "language": "python",
     "metadata": {},
     "outputs": []
    },
    {
     "cell_type": "code",
     "collapsed": false,
     "input": [
      "tmpdict = writeh5.prepare_data(written_surr.__dict__)"
     ],
     "language": "python",
     "metadata": {},
     "outputs": []
    }
   ],
   "metadata": {}
  }
 ]
}