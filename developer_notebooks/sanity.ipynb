{
 "cells": [
  {
   "cell_type": "code",
   "execution_count": null,
   "metadata": {
    "collapsed": false
   },
   "outputs": [],
   "source": [
    "import sys, h5py, os\n",
    "#sys.path.append('/Users/crgalley/Physics/Research/Projects/ReducedBasis/Surrogates/gwsurrogate/')\n",
    "sys.path.append('/home/scott/Repos/GitRepos/Codes/gwsurrogate/')\n",
    "import gwsurrogate as gws\n",
    "from gwsurrogate import surrogateIO\n",
    "\n",
    "import gwsurrogate.gwtools as gwtools\n",
    "\n",
    "\n",
    "import lal as lal\n",
    "import lalsimulation as lalsim\n",
    "\n",
    "import matplotlib.pyplot as plt\n",
    "import numpy as np"
   ]
  },
  {
   "cell_type": "markdown",
   "metadata": {},
   "source": [
    "### convert between text and hdf5 surrogates"
   ]
  },
  {
   "cell_type": "markdown",
   "metadata": {},
   "source": [
    "### Text 2 text (IO test)\n",
    "\n",
    "Load a text-based surrogate and save it as another text-based surrogate. This process should be 1-to-1 and onto!"
   ]
  },
  {
   "cell_type": "code",
   "execution_count": null,
   "metadata": {
    "collapsed": false
   },
   "outputs": [],
   "source": [
    "### Load an existing surrogate\n",
    "path_to_surrogate = '../tutorial/TutorialSurrogate/EOB_q1_2_NoSpin_Mode22/l2_m2_len12239M_SurID19poly/' # assumes notebook launched from \"notebooks\" directory\n",
    "EOBNRv2_sur = gws.EvaluateSingleModeSurrogate(path_to_surrogate)\n",
    "\n",
    "t,hp,hc = EOBNRv2_sur(1.2)\n",
    "print EOBNRv2_sur.time().shape\n",
    "print hp.shape"
   ]
  },
  {
   "cell_type": "code",
   "execution_count": null,
   "metadata": {
    "collapsed": false
   },
   "outputs": [],
   "source": [
    "### create a bare surrogate directory \n",
    "new_surrogate = surrogateIO.TextSurrogateWrite('new_surrogate5/')\n",
    "print(\"surrogate ID is the directory %s\"%new_surrogate.SurrogateID)"
   ]
  },
  {
   "cell_type": "code",
   "execution_count": null,
   "metadata": {
    "collapsed": true
   },
   "outputs": [],
   "source": [
    "new_surrogate.write_text?"
   ]
  },
  {
   "cell_type": "code",
   "execution_count": null,
   "metadata": {
    "collapsed": false
   },
   "outputs": [],
   "source": [
    "### Use surrogate data from EOBNRv2_sur to create a new surrogate\n",
    "new_surrogate.write_text(EOBNRv2_sur.time_info, EOBNRv2_sur.B,EOBNRv2_sur.eim_indices,\\\n",
    "              EOBNRv2_sur.greedy_points,EOBNRv2_sur.fit_interval,EOBNRv2_sur.affine_map,\\\n",
    "              EOBNRv2_sur.fitparams_amp,EOBNRv2_sur.fitparams_phase,EOBNRv2_sur.fitparams_norm,\\\n",
    "              EOBNRv2_sur.V,EOBNRv2_sur.R,EOBNRv2_sur.fit_type_phase,EOBNRv2_sur.fit_type_amp,\\\n",
    "              EOBNRv2_sur.fit_type_norm,EOBNRv2_sur.parameterization,EOBNRv2_sur.surrogate_mode_type)"
   ]
  },
  {
   "cell_type": "code",
   "execution_count": null,
   "metadata": {
    "collapsed": false
   },
   "outputs": [],
   "source": [
    "written_surr = gws.EvaluateSingleModeSurrogate('new_surrogate5/')"
   ]
  },
  {
   "cell_type": "code",
   "execution_count": null,
   "metadata": {
    "collapsed": false
   },
   "outputs": [],
   "source": [
    "gws.CompareSingleModeSurrogate(written_surr,EOBNRv2_sur)"
   ]
  },
  {
   "cell_type": "markdown",
   "metadata": {},
   "source": [
    "### Text 2 hdf5 to text\n",
    "\n",
    "Save a surrogate as an hdf5 file, then back to text"
   ]
  },
  {
   "cell_type": "code",
   "execution_count": null,
   "metadata": {
    "collapsed": false
   },
   "outputs": [],
   "source": [
    "x = surrogateIO.TextSurrogateRead(path_to_surrogate)\n",
    "x.__dict__.keys()"
   ]
  },
  {
   "cell_type": "code",
   "execution_count": null,
   "metadata": {
    "collapsed": false
   },
   "outputs": [],
   "source": [
    "writeh5 = surrogateIO.H5Surrogate('tmp1.h5','w')\n",
    "#isinstance(written_surr,surrogateIO.TextSurrogateRead)\n",
    "writeh5.required"
   ]
  },
  {
   "cell_type": "code",
   "execution_count": null,
   "metadata": {
    "collapsed": false
   },
   "outputs": [],
   "source": [
    "#tmpdict = writeh5.prepare_data(written_surr.__dict__)\n",
    "#writeh5.print_required()\n",
    "#writeh5.check_required(x.__dict__)\n",
    "writeh5.write_h5(x.__dict__,subdir='l2_m2')"
   ]
  },
  {
   "cell_type": "code",
   "execution_count": null,
   "metadata": {
    "collapsed": false
   },
   "outputs": [],
   "source": [
    "surrogateIO.H5Surrogate._surrogate_ID_grp"
   ]
  },
  {
   "cell_type": "code",
   "execution_count": null,
   "metadata": {
    "collapsed": false
   },
   "outputs": [],
   "source": [
    "surrogateIO.H5Surrogate('tmp1.h5',mode='r', subdir='', closeQ=True)"
   ]
  },
  {
   "cell_type": "code",
   "execution_count": null,
   "metadata": {
    "collapsed": false
   },
   "outputs": [],
   "source": [
    "fp = h5py.File('tmp1.h5','r')\n",
    "#os.listdir('.')\n",
    "#fp.close()\n",
    "fp['l2_m2']['t_units']"
   ]
  },
  {
   "cell_type": "code",
   "execution_count": null,
   "metadata": {
    "collapsed": false
   },
   "outputs": [],
   "source": [
    "EOBNRv2_sur_h5 = gws.EvaluateSingleModeSurrogate('tmp1.h5',subdir='l2_m2')"
   ]
  },
  {
   "cell_type": "code",
   "execution_count": null,
   "metadata": {
    "collapsed": false
   },
   "outputs": [],
   "source": [
    "t,hp,hc = EOBNRv2_sur(1.2)\n",
    "t_h5,hp_h5,hc_h5 = EOBNRv2_sur_h5(1.2)\n",
    "\n",
    "print EOBNRv2_sur.time().shape\n",
    "print hp.shape\n",
    "print EOBNRv2_sur_h5.time().shape\n",
    "print hp_h5.shape\n",
    "\n",
    "# compare h5 and text surrogates. should be equivalent.\n",
    "print np.max(np.abs(hp - hp_h5))\n",
    "print np.max(np.abs(hc - hc_h5))\n",
    "print np.max(np.abs(t_h5 - t))"
   ]
  },
  {
   "cell_type": "code",
   "execution_count": null,
   "metadata": {
    "collapsed": false
   },
   "outputs": [],
   "source": [
    "# and a more complete comparison of the data fields and values\n",
    "gws.CompareSingleModeSurrogate(EOBNRv2_sur_h5,EOBNRv2_sur)"
   ]
  },
  {
   "cell_type": "code",
   "execution_count": null,
   "metadata": {
    "collapsed": false
   },
   "outputs": [],
   "source": [
    "amp, phase = EOBNRv2_sur.amp_phase(hp + 1j*hc)\n",
    "amp_h5, phase_h5 = EOBNRv2_sur.amp_phase(hp_h5 + 1j*hc_h5)\n",
    "gwtools.plot_pretty(t, [hp_h5, hc_h5])\n",
    "plt.plot(t,amp_h5,'r')\n",
    "plt.xlabel('t (seconds)')\n",
    "plt.show()"
   ]
  },
  {
   "cell_type": "markdown",
   "metadata": {},
   "source": [
    "# Work to convert surrogateimr (matlab) regression data from text to hdf5 format"
   ]
  },
  {
   "cell_type": "code",
   "execution_count": null,
   "metadata": {
    "collapsed": false
   },
   "outputs": [],
   "source": [
    "### SpEC_q1_9_NoSpin_SingleModes_REF\n",
    "x='/home/balzani57/Desktop/regression_data/SpEC_q1_9_NoSpin_SingleModes_REF/l2_m2_len2800M_SurID22poly/'\n",
    "#x='/home/balzani57/Desktop/regression_data/SpEC_q0_0_NoSpin_SingleModes_REF/'\n",
    "Spec_q = gws.EvaluateSingleModeSurrogate(x)"
   ]
  },
  {
   "cell_type": "code",
   "execution_count": null,
   "metadata": {
    "collapsed": false
   },
   "outputs": [],
   "source": [
    "### Evaluate text-based surrogate ###\n",
    "t,hp,hc = Spec_q(3.14)\n",
    "amp, phase = Spec_q.amp_phase(hp + 1j*hc)\n",
    "amp, phase = Spec_q.amp_phase(hp + 1j*hc)\n",
    "gwtools.plot_pretty(t, [hp, hc])\n",
    "plt.plot(t,amp,'r')\n",
    "plt.xlabel('t (seconds)')\n",
    "plt.show()"
   ]
  },
  {
   "cell_type": "code",
   "execution_count": null,
   "metadata": {
    "collapsed": true
   },
   "outputs": [],
   "source": [
    "### do the conversion to hdf5\n",
    "y = surrogateIO.TextSurrogateRead(x)"
   ]
  },
  {
   "cell_type": "code",
   "execution_count": null,
   "metadata": {
    "collapsed": false
   },
   "outputs": [],
   "source": [
    "writeh5 = surrogateIO.H5Surrogate('spec_tmp.h5','w')\n",
    "writeh5.write_h5(y.__dict__,subdir='l2_m2')"
   ]
  },
  {
   "cell_type": "code",
   "execution_count": null,
   "metadata": {
    "collapsed": true
   },
   "outputs": [],
   "source": [
    "spec_sur_h5 = gws.EvaluateSingleModeSurrogate('spec_tmp.h5',subdir='l2_m2')"
   ]
  },
  {
   "cell_type": "code",
   "execution_count": null,
   "metadata": {
    "collapsed": false
   },
   "outputs": [],
   "source": [
    "t,hp,hc = Spec_q(3.14)\n",
    "t_h5,hp_h5,hc_h5 = spec_sur_h5(3.14)\n",
    "\n",
    "print Spec_q.time().shape\n",
    "print hp.shape\n",
    "print spec_sur_h5.time().shape\n",
    "print hp_h5.shape\n",
    "\n",
    "# compare h5 and text surrogates. should be equivalent.\n",
    "print np.max(np.abs(hp - hp_h5))\n",
    "print np.max(np.abs(hc - hc_h5))\n",
    "print np.max(np.abs(t_h5 - t))"
   ]
  },
  {
   "cell_type": "code",
   "execution_count": null,
   "metadata": {
    "collapsed": false
   },
   "outputs": [],
   "source": [
    "gws.CompareSingleModeSurrogate(spec_sur_h5,Spec_q)"
   ]
  },
  {
   "cell_type": "code",
   "execution_count": null,
   "metadata": {
    "collapsed": true
   },
   "outputs": [],
   "source": []
  },
  {
   "cell_type": "code",
   "execution_count": null,
   "metadata": {
    "collapsed": false
   },
   "outputs": [],
   "source": [
    "x='/home/balzani57/Desktop/regression_data/SpEC_q0_0_NoSpin_SingleModes_REF/'\n",
    "y = gws.CreateManyEvaluateSingleModeSurrogates(x, deg=3, ell_m=None, excluded=None)"
   ]
  },
  {
   "cell_type": "code",
   "execution_count": null,
   "metadata": {
    "collapsed": false
   },
   "outputs": [],
   "source": [
    "## could loop over modes here, change file mode to append (r+)\n",
    "writeh5 = surrogateIO.H5Surrogate('spec_tmp3.h5','w')\n",
    "writeh5.write_h5(y[(2,2)].__dict__,subdir='l2_m2')"
   ]
  },
  {
   "cell_type": "markdown",
   "metadata": {},
   "source": [
    "### Compare Christians spherical harmonic code to lal  Outcome: all modes up to ell = 5 agree to better than 1e-14 absolute error"
   ]
  },
  {
   "cell_type": "code",
   "execution_count": null,
   "metadata": {
    "collapsed": false
   },
   "outputs": [],
   "source": [
    "lal.SpinWeightedSphericalHarmonic(theta = 0.0, phi=0.0,s=-2,l=2,m=2)"
   ]
  },
  {
   "cell_type": "code",
   "execution_count": null,
   "metadata": {
    "collapsed": false
   },
   "outputs": [],
   "source": [
    "l=2\n",
    "m=1\n",
    "\n",
    "theta_list = np.linspace(0.0,np.pi,200)\n",
    "phi_list   = np.linspace(0.0,2.0*np.pi,200)\n",
    "error_list1 = np.zeros((200,200),dtype=complex)\n",
    "error_list2 = np.zeros((200,200),dtype=complex)\n",
    "\n",
    "ii=0\n",
    "jj=0\n",
    "for theta in theta_list:\n",
    "    \n",
    "    for phi in phi_list:\n",
    "        lal_spin = lal.SpinWeightedSphericalHarmonic(theta, phi, s=-2, l=l, m=m)\n",
    "        cr_spin  = gws.sYlm(-2, ll=l, mm=m,theta=theta, phi=phi)\n",
    "        error_list1[ii,jj] = lal_spin - cr_spin\n",
    "        error_list2[ii,jj] = (lal_spin - cr_spin)\n",
    "        jj+=1\n",
    "        \n",
    "    ii+=1\n",
    "    jj=0    \n",
    "    \n",
    "    \n",
    "print np.max(np.abs(error_list1))"
   ]
  }
 ],
 "metadata": {
  "kernelspec": {
   "display_name": "Python 2",
   "language": "python",
   "name": "python2"
  },
  "language_info": {
   "codemirror_mode": {
    "name": "ipython",
    "version": 2
   },
   "file_extension": ".py",
   "mimetype": "text/x-python",
   "name": "python",
   "nbconvert_exporter": "python",
   "pygments_lexer": "ipython2",
   "version": "2.7.11"
  }
 },
 "nbformat": 4,
 "nbformat_minor": 0
}
