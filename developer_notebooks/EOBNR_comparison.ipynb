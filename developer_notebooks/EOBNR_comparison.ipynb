{
 "metadata": {
  "name": "Untitled1"
 },
 "nbformat": 3,
 "nbformat_minor": 0,
 "worksheets": [
  {
   "cells": [
    {
     "cell_type": "markdown",
     "metadata": {},
     "source": [
      "EOB-LAL NR surrogate comparisons"
     ]
    },
    {
     "cell_type": "code",
     "collapsed": false,
     "input": [
      "### setup paths and load modules ###\n",
      "import sys\n",
      "path_to_gws = '/home/balzani57/GitRepos/Codes/gwsurrogate/'\n",
      "sys.path.append(path_to_gws)\n",
      "\n",
      "path_to_gwtools = '/home/balzani57/GitRepos/Codes/gwsurrogate/gwsurrogate/'\n",
      "sys.path.append(path_to_gwtools)\n",
      "\n",
      "from pylab import matplotlib as plt\n",
      "import numpy as np\n",
      "import gwsurrogate as gws\n",
      "import gwtools as gwtools\n",
      "\n",
      "### import lal and lalsimulation python packages ###\n",
      "# LAL homepage: https://www.lsc-group.phys.uwm.edu/daswg/projects/lalsuite.html\n",
      "import lal\n",
      "import lalsimulation as lalsim"
     ],
     "language": "python",
     "metadata": {},
     "outputs": [],
     "prompt_number": 2
    },
    {
     "cell_type": "code",
     "collapsed": false,
     "input": [
      "### a few useful helper functions ###\n",
      "def m1_m2(M,q):\n",
      "    return M/(q+1), M*q/(q+1) # returns m1 and m2, assuming m2 >= m1 (q>=1)\n",
      "\n",
      "def dimensionless_time(M,t):\n",
      "    tmp = lal.LAL_MSUN_SI * lal.LAL_G_SI / np.power(lal.LAL_C_SI,3.0)\n",
      "    return ( t / tmp ) / M\n",
      "\n",
      "def norm_L2_sqrd(f,dx):\n",
      "    return (np.sum(f*np.conj(f)) * dx).real"
     ],
     "language": "python",
     "metadata": {},
     "outputs": [],
     "prompt_number": 4
    },
    {
     "cell_type": "code",
     "collapsed": false,
     "input": [
      "### python interface to EOBNRv2-LAL ###\n",
      "def EOBNRv2_LAL(Mtot,q,dt,fmin,Dist):\n",
      "    \n",
      "    ### settings for all subsequent LAL calls ###\n",
      "    lambda1     = lambda2 = 0.\n",
      "    waveFlags   = None\n",
      "    nonGRparams = None\n",
      "    ampO        = 0\n",
      "    phaseO      = 7\n",
      "    fref        = 0.\n",
      "    incl        = 0. \n",
      "    phiref      = 0. # NOTE: current hack uses this parameter to grab modes... 0 is the (2,2). \n",
      "    thetaS      = 0. \n",
      "    phiS        = 0. \n",
      "    psi         = 0.\n",
      "    s1x         = s1y = s1z = s2x = s2y = s2z = 0.\n",
      "    approx      = lalsim.EOBNRv2\n",
      "    \n",
      "    M1,M2  = m1_m2(Mtot,q)\n",
      "    hp, hc = lalsim.SimInspiralChooseTDWaveform(phiref, dt, M1, M2,s1x, s1y, s1z, s2x, s2y, s2z, fmin, fref, \\\n",
      "                                                Dist, incl, lambda1, lambda2,waveFlags, nonGRparams, ampO, phaseO, approx)\n",
      "    h      = hp.data.data + (1j)*hc.data.data\n",
      "    \n",
      "    times  = np.arange(np.size(hp.data.data))*hp.deltaT\n",
      "    \n",
      "    return times, h"
     ],
     "language": "python",
     "metadata": {},
     "outputs": [],
     "prompt_number": 5
    },
    {
     "cell_type": "code",
     "collapsed": false,
     "input": [
      "### import an NR surrogate ###\n",
      "NR_surr = gws.EvaluateSurrogate('/home/balzani57/GitRepos/Codes/SurrogateBuildIMR/SpEC_q1_9_NoSpin_SingleModes_REF/l2_m2_len2799M_SurID22poly/')"
     ],
     "language": "python",
     "metadata": {},
     "outputs": [],
     "prompt_number": 6
    },
    {
     "cell_type": "code",
     "collapsed": false,
     "input": [
      "### comparison for physical (not dimensionless) waveforms ###\n",
      "M = 80.0\n",
      "q = 2.0\n",
      "Mtot = M * lal.LAL_MSUN_SI\n",
      "Dist = 1.0 * 1e6 * lal.LAL_PC_SI\n",
      "fmin = 16.0\n",
      "dt = (1.0/4096.0)\n",
      "time_LAL, h_LAL = EOBNRv2_LAL(Mtot,q,dt,fmin,Dist)\n",
      "\n",
      "time_sur,hp,hc = NR_surr(q_eval=q,M_eval=M,dist_eval=1.0,f_low=fmin)\n",
      "h_sur          = hp + 1.0j*hc\n",
      "\n",
      "### minimize the norm error ###\n",
      "tmp, minimized_norm, tc, phic = gwtools.minimize_norm_error(time_LAL,h_LAL,time_sur,h_sur,norm_L2_sqrd,.0125,.0125,method='nelder-mead')\n",
      "print \"Global minimizer is deltaT = %e and deltaPhi = %e \" %(tc,phic)\n",
      "print \"(NM) for which the relative norm error is %e \" %minimized_norm\n",
      "\n",
      "### plot the phase/time shifted waveform \n",
      "common_dt      = (time_LAL[2] - time_LAL[1])\n",
      "t_start, t_end = gwtools.find_common_time_window(time_sur,time_LAL)\n",
      "common_times   = np.arange(t_start+.0125,t_end-.0125,common_dt) \n",
      "\n",
      "time_sur_aligned = gwtools.coordinate_time_shift(time_sur,tc)\n",
      "h_sur_aligned    = gwtools.modify_phase(h_sur,phic)\n",
      "\n",
      "\n",
      "plt.pyplot.figure(3)\n",
      "plt.pyplot.plot(time_sur_aligned,h_sur_aligned,'red')\n",
      "plt.pyplot.plot(time_LAL,h_LAL,'b--')\n",
      "plt.pyplot.show()"
     ],
     "language": "python",
     "metadata": {},
     "outputs": [
      {
       "output_type": "stream",
       "stream": "stderr",
       "text": [
        "/home/balzani57/GitRepos/Codes/gwsurrogate/gwsurrogate/gwtools.py:40: RuntimeWarning: invalid value encountered in true_divide\n",
        "  return amp, np.unwrap( np.real( -1j * np.log( h/amp ) ) )\n",
        "/usr/local/lib/python2.7/dist-packages/numpy/core/numeric.py:462: ComplexWarning: Casting complex values to real discards the imaginary part\n",
        "  return array(a, dtype, copy=False, order=order)\n"
       ]
      },
      {
       "output_type": "stream",
       "stream": "stdout",
       "text": [
        "Global minimizer is deltaT = 1.038594e+00 and deltaPhi = -4.759928e+00 \n",
        "(NM) for which the relative norm error is 1.012058e-03 \n"
       ]
      }
     ],
     "prompt_number": 9
    },
    {
     "cell_type": "code",
     "collapsed": false,
     "input": [
      "### next, lets compare models over a patch of the parameter space ###\n",
      "# WARNING: becuase of the minimizations this will take about 5 minutes to run\n",
      "\n",
      "fmin = 24.0\n",
      "dt = (1.0/4096.0) #Note: setting to smaller values could introduce large interpolation error\n",
      "\n",
      "q_samples = 40\n",
      "M_samples = 2\n",
      "\n",
      "errors_nm    = np.zeros((q_samples,M_samples))\n",
      "q_list       = np.zeros((q_samples,M_samples))\n",
      "M_list       = np.zeros((q_samples,M_samples))\n",
      "\n",
      "counter_q = -1\n",
      "for q in np.linspace(1.0,1.1,q_samples):\n",
      "    \n",
      "    counter_M = -1\n",
      "    counter_q = counter_q + 1\n",
      "    for M in np.linspace(70.0,80.0,M_samples):\n",
      "   \n",
      "        counter_M = counter_M + 1\n",
      "    \n",
      "        Mtot = M * lal.LAL_MSUN_SI\n",
      "    \n",
      "        M_list[counter_q,counter_M] = M\n",
      "        q_list[counter_q,counter_M] = q\n",
      "    \n",
      "        ### generate a new EOB waveform with LAL ###\n",
      "        time_LAL, h_LAL = EOBNRv2_LAL(Mtot,q,dt,fmin,Dist)\n",
      "\n",
      "        ### generate a surrogate EOB waveform ###\n",
      "        time_sur,hp,hc = NR_surr(q_eval=q,M_eval=M,dist_eval=1.0,f_low=fmin)\n",
      "        h_sur   = hp + 1.0j*hc\n",
      "\n",
      "        ### minimize the norm ###\n",
      "        tmp, errors_nm[counter_q,counter_M], tc, phic = gwtools.minimize_norm_error(time_LAL,h_LAL,time_sur,h_sur,norm_L2_sqrd,.1,.1,method='nelder-mead')"
     ],
     "language": "python",
     "metadata": {},
     "outputs": [],
     "prompt_number": 20
    },
    {
     "cell_type": "code",
     "collapsed": false,
     "input": [
      "### Display the preceding analysis ###\n",
      "plt.pyplot.contour(M_list, q_list, errors_nm, 15, linewidths=0.5, colors='k')\n",
      "plt.pyplot.contourf(M_list, q_list, errors_nm, 15, cmap=plt.cm.rainbow,\n",
      "                  vmax=abs(errors_nm).max(), vmin=-abs(errors_nm).max())\n",
      "plt.pyplot.colorbar()  # draw colorbar\n",
      "plt.pyplot.scatter(M_list, q_list, marker='o', c='b', s=5, zorder=10)\n",
      "plt.pyplot.xlim(np.min(M_list), np.max(M_list))\n",
      "plt.pyplot.ylim(np.min(q_list), np.max(q_list))\n",
      "plt.pyplot.xlabel('$M$ (solar masses)')\n",
      "plt.pyplot.ylabel('$q$')\n",
      "plt.pyplot.title('Overlap errors between EOB-LAL and its surrogate')\n",
      "plt.pylab.show()"
     ],
     "language": "python",
     "metadata": {},
     "outputs": [],
     "prompt_number": 21
    },
    {
     "cell_type": "code",
     "collapsed": false,
     "input": [],
     "language": "python",
     "metadata": {},
     "outputs": []
    }
   ],
   "metadata": {}
  }
 ]
}