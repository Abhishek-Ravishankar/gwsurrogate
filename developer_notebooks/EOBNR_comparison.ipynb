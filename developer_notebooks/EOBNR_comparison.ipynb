{
 "metadata": {
  "name": "EOBNR_comparison"
 },
 "nbformat": 3,
 "nbformat_minor": 0,
 "worksheets": [
  {
   "cells": [
    {
     "cell_type": "markdown",
     "metadata": {},
     "source": [
      "EOB-LAL NR surrogate comparisons"
     ]
    },
    {
     "cell_type": "code",
     "collapsed": false,
     "input": [
      "### setup paths and load modules ###\n",
      "import sys\n",
      "path_to_gws = '/home/balzani57/GitRepos/Codes/gwsurrogate/'\n",
      "sys.path.append(path_to_gws)\n",
      "\n",
      "path_to_gwtools = '/home/balzani57/GitRepos/Codes/gwsurrogate/gwsurrogate/'\n",
      "sys.path.append(path_to_gwtools)\n",
      "\n",
      "from pylab import matplotlib as plt\n",
      "import numpy as np\n",
      "import gwsurrogate as gws\n",
      "import gwtools as gwtools\n",
      "\n",
      "### import lal and lalsimulation python packages ###\n",
      "# LAL homepage: https://www.lsc-group.phys.uwm.edu/daswg/projects/lalsuite.html\n",
      "import lal\n",
      "import lalsimulation as lalsim"
     ],
     "language": "python",
     "metadata": {},
     "outputs": [],
     "prompt_number": 1
    },
    {
     "cell_type": "code",
     "collapsed": false,
     "input": [
      "### python interface to EOBNRv2-LAL ###\n",
      "def EOBNRv2_LAL(Mtot,q,dt,fmin,Dist):\n",
      "    \n",
      "    ### settings for all subsequent LAL calls ###\n",
      "    lambda1     = lambda2 = 0.\n",
      "    waveFlags   = None\n",
      "    nonGRparams = None\n",
      "    ampO        = 0\n",
      "    phaseO      = 7\n",
      "    fref        = 0.\n",
      "    incl        = 0. \n",
      "    phiref      = 0. # NOTE: current hack uses this parameter to grab modes... 0 is the (2,2). \n",
      "    thetaS      = 0. \n",
      "    phiS        = 0. \n",
      "    psi         = 0.\n",
      "    s1x         = s1y = s1z = s2x = s2y = s2z = 0.\n",
      "    approx      = lalsim.EOBNRv2\n",
      "    \n",
      "    M1,M2  = gwtools.M1M2_from_M_q(Mtot,q)\n",
      "    hp, hc = lalsim.SimInspiralChooseTDWaveform(phiref, dt, M1, M2,s1x, s1y, s1z, s2x, s2y, s2z, fmin, fref, \\\n",
      "                                                Dist, incl, lambda1, lambda2,waveFlags, nonGRparams, ampO, phaseO, approx)\n",
      "    h      = hp.data.data + (1j)*hc.data.data\n",
      "    \n",
      "    times  = np.arange(np.size(hp.data.data))*hp.deltaT\n",
      "    \n",
      "    return times, h"
     ],
     "language": "python",
     "metadata": {},
     "outputs": [],
     "prompt_number": 2
    },
    {
     "cell_type": "code",
     "collapsed": false,
     "input": [
      "### import an NR surrogate ###\n",
      "NR_surr = gws.EvaluateSurrogate('/home/balzani57/GitRepos/Codes/SurrogateBuildIMR/SpEC_q1_9_NoSpin_SingleModes_REF/l2_m2_len2799M_SurID22poly/')"
     ],
     "language": "python",
     "metadata": {},
     "outputs": [],
     "prompt_number": 3
    },
    {
     "cell_type": "code",
     "collapsed": false,
     "input": [
      "### comparison for physical (not dimensionless) waveforms ###\n",
      "M = 80.0\n",
      "q = 2.0\n",
      "Mtot = M * lal.LAL_MSUN_SI\n",
      "Dist = 1.0 * 1e6 * lal.LAL_PC_SI\n",
      "fmin = 16.0\n",
      "dt = (1.0/4096.0)\n",
      "time_LAL, h_LAL = EOBNRv2_LAL(Mtot,q,dt,fmin,Dist)\n",
      "\n",
      "time_sur,hp,hc = NR_surr(q_eval=q,M_eval=M,dist_eval=1.0,f_low=fmin)\n",
      "h_sur          = hp + 1.0j*hc\n",
      "\n",
      "### minimize the norm error ###\n",
      "[tmp, minimized_norm], [tc, phic], [t_common,hNR_align,hEOB_align] = gwtools.minimize_norm_error(time_sur,h_sur,time_LAL,h_LAL,gwtools.euclidean_norm_sqrd,.0125,.0009,method='nelder-mead')\n",
      "print \"Global minimizer is deltaT = %e and deltaPhi = %e \" %(tc,phic)\n",
      "print \"(NM) for which the relative norm error is %e \" %minimized_norm\n",
      "\n",
      "plt.pyplot.figure(4)\n",
      "plt.pyplot.plot(t_common,hNR_align,'red')\n",
      "plt.pyplot.plot(t_common,hEOB_align,'b--')\n",
      "\n",
      "plt.pyplot.show()"
     ],
     "language": "python",
     "metadata": {},
     "outputs": [
      {
       "output_type": "stream",
       "stream": "stderr",
       "text": [
        "/home/balzani57/GitRepos/Codes/gwsurrogate/gwsurrogate/gwtools.py:40: RuntimeWarning: invalid value encountered in true_divide\n",
        "  return amp, np.unwrap( np.real( -1j * np.log( h/amp ) ) )\n",
        "/usr/local/lib/python2.7/dist-packages/numpy/core/numeric.py:462: ComplexWarning: Casting complex values to real discards the imaginary part\n",
        "  return array(a, dtype, copy=False, order=order)\n"
       ]
      },
      {
       "output_type": "stream",
       "stream": "stdout",
       "text": [
        "Global minimizer is deltaT = -1.038154e+00 and deltaPhi = 4.758201e+00 \n",
        "(NM) for which the relative norm error is 1.052878e-03 \n"
       ]
      }
     ],
     "prompt_number": 4
    },
    {
     "cell_type": "code",
     "collapsed": false,
     "input": [
      "### next, lets compare models over a patch of the parameter space ###\n",
      "# WARNING: becuase of the minimizations this will take about 5 minutes to run\n",
      "\n",
      "fmin = 14.0\n",
      "dt = (1.0/4096.0) #Note: setting to smaller values could introduce large interpolation error\n",
      "\n",
      "q_samples = 20\n",
      "M_samples = 2\n",
      "\n",
      "errors_nm    = np.zeros((q_samples,M_samples))\n",
      "q_list       = np.zeros((q_samples,M_samples))\n",
      "M_list       = np.zeros((q_samples,M_samples))\n",
      "\n",
      "counter_q = -1\n",
      "for q in np.linspace(1.0,9.98,q_samples):\n",
      "    \n",
      "    counter_M = -1\n",
      "    counter_q = counter_q + 1\n",
      "    for M in np.linspace(70.0,80.0,M_samples):\n",
      "   \n",
      "        counter_M = counter_M + 1\n",
      "    \n",
      "        Mtot = M * lal.LAL_MSUN_SI\n",
      "    \n",
      "        M_list[counter_q,counter_M] = M\n",
      "        q_list[counter_q,counter_M] = q\n",
      "    \n",
      "        ### generate a new EOB waveform with LAL ###\n",
      "        time_LAL, h_LAL = EOBNRv2_LAL(Mtot,q,dt,fmin,Dist)\n",
      "\n",
      "        ### generate a surrogate EOB waveform ###\n",
      "        time_sur,hp,hc = NR_surr(q_eval=q,M_eval=M,dist_eval=1.0)\n",
      "        h_sur   = hp + 1.0j*hc\n",
      "\n",
      "        ### minimize the norm ###\n",
      "        [tmp, errors_nm[counter_q,counter_M]], [tc, phic], [t_common,hNR_align,hEOB_align] = gwtools.minimize_norm_error(time_LAL,h_LAL,time_sur,h_sur,gwtools.euclidean_norm_sqrd,.0125,.0009,method='nelder-mead')"
     ],
     "language": "python",
     "metadata": {},
     "outputs": [
      {
       "ename": "KeyboardInterrupt",
       "evalue": "",
       "output_type": "pyerr",
       "traceback": [
        "\u001b[1;31m---------------------------------------------------------------------------\u001b[0m\n\u001b[1;31mKeyboardInterrupt\u001b[0m                         Traceback (most recent call last)",
        "\u001b[1;32m<ipython-input-5-e39057a11be4>\u001b[0m in \u001b[0;36m<module>\u001b[1;34m()\u001b[0m\n\u001b[0;32m     34\u001b[0m \u001b[1;33m\u001b[0m\u001b[0m\n\u001b[0;32m     35\u001b[0m         \u001b[1;31m### minimize the norm ###\u001b[0m\u001b[1;33m\u001b[0m\u001b[1;33m\u001b[0m\u001b[0m\n\u001b[1;32m---> 36\u001b[1;33m         \u001b[1;33m[\u001b[0m\u001b[0mtmp\u001b[0m\u001b[1;33m,\u001b[0m \u001b[0merrors_nm\u001b[0m\u001b[1;33m[\u001b[0m\u001b[0mcounter_q\u001b[0m\u001b[1;33m,\u001b[0m\u001b[0mcounter_M\u001b[0m\u001b[1;33m]\u001b[0m\u001b[1;33m]\u001b[0m\u001b[1;33m,\u001b[0m \u001b[1;33m[\u001b[0m\u001b[0mtc\u001b[0m\u001b[1;33m,\u001b[0m \u001b[0mphic\u001b[0m\u001b[1;33m]\u001b[0m\u001b[1;33m,\u001b[0m \u001b[1;33m[\u001b[0m\u001b[0mt_common\u001b[0m\u001b[1;33m,\u001b[0m\u001b[0mhNR_align\u001b[0m\u001b[1;33m,\u001b[0m\u001b[0mhEOB_align\u001b[0m\u001b[1;33m]\u001b[0m \u001b[1;33m=\u001b[0m \u001b[0mgwtools\u001b[0m\u001b[1;33m.\u001b[0m\u001b[0mminimize_norm_error\u001b[0m\u001b[1;33m(\u001b[0m\u001b[0mtime_LAL\u001b[0m\u001b[1;33m,\u001b[0m\u001b[0mh_LAL\u001b[0m\u001b[1;33m,\u001b[0m\u001b[0mtime_sur\u001b[0m\u001b[1;33m,\u001b[0m\u001b[0mh_sur\u001b[0m\u001b[1;33m,\u001b[0m\u001b[0mgwtools\u001b[0m\u001b[1;33m.\u001b[0m\u001b[0meuclidean_norm_sqrd\u001b[0m\u001b[1;33m,\u001b[0m\u001b[1;36m.0125\u001b[0m\u001b[1;33m,\u001b[0m\u001b[1;36m.0009\u001b[0m\u001b[1;33m,\u001b[0m\u001b[0mmethod\u001b[0m\u001b[1;33m=\u001b[0m\u001b[1;34m'nelder-mead'\u001b[0m\u001b[1;33m)\u001b[0m\u001b[1;33m\u001b[0m\u001b[0m\n\u001b[0m",
        "\u001b[1;32m/home/balzani57/GitRepos/Codes/gwsurrogate/gwsurrogate/gwtools.pyc\u001b[0m in \u001b[0;36mminimize_norm_error\u001b[1;34m(t1, h1, t2, h2, mynorm, t_low_adj, t_up_adj, method)\u001b[0m\n\u001b[0;32m    207\u001b[0m \u001b[1;33m\u001b[0m\u001b[0m\n\u001b[0;32m    208\u001b[0m     \u001b[1;32mif\u001b[0m \u001b[0mmethod\u001b[0m \u001b[1;33m==\u001b[0m \u001b[1;34m'nelder-mead'\u001b[0m\u001b[1;33m:\u001b[0m\u001b[1;33m\u001b[0m\u001b[0m\n\u001b[1;32m--> 209\u001b[1;33m         \u001b[0mres_nm\u001b[0m \u001b[1;33m=\u001b[0m \u001b[0mminimize\u001b[0m\u001b[1;33m(\u001b[0m\u001b[0mParameterizedNorm\u001b[0m\u001b[1;33m,\u001b[0m \u001b[1;33m[\u001b[0m\u001b[1;36m0.0\u001b[0m\u001b[1;33m,\u001b[0m\u001b[1;36m0.0\u001b[0m\u001b[1;33m]\u001b[0m\u001b[1;33m,\u001b[0m \u001b[0mmethod\u001b[0m\u001b[1;33m=\u001b[0m\u001b[1;34m'nelder-mead'\u001b[0m\u001b[1;33m,\u001b[0m\u001b[0mtol\u001b[0m\u001b[1;33m=\u001b[0m\u001b[1;36m1e-12\u001b[0m\u001b[1;33m)\u001b[0m\u001b[1;33m\u001b[0m\u001b[0m\n\u001b[0m\u001b[0;32m    210\u001b[0m \u001b[1;33m\u001b[0m\u001b[0m\n\u001b[0;32m    211\u001b[0m         \u001b[0mtc\u001b[0m       \u001b[1;33m=\u001b[0m \u001b[0mres_nm\u001b[0m\u001b[1;33m.\u001b[0m\u001b[0mx\u001b[0m\u001b[1;33m[\u001b[0m\u001b[1;36m0\u001b[0m\u001b[1;33m]\u001b[0m \u001b[1;33m+\u001b[0m \u001b[0mdeltaT\u001b[0m\u001b[1;33m\u001b[0m\u001b[0m\n",
        "\u001b[1;32m/usr/local/lib/python2.7/dist-packages/scipy/optimize/_minimize.pyc\u001b[0m in \u001b[0;36mminimize\u001b[1;34m(fun, x0, args, method, jac, hess, hessp, bounds, constraints, tol, callback, options)\u001b[0m\n\u001b[0;32m    411\u001b[0m                       callback=callback, **options)\n\u001b[0;32m    412\u001b[0m     \u001b[1;32melif\u001b[0m \u001b[0mmeth\u001b[0m \u001b[1;33m==\u001b[0m \u001b[1;34m'nelder-mead'\u001b[0m\u001b[1;33m:\u001b[0m\u001b[1;33m\u001b[0m\u001b[0m\n\u001b[1;32m--> 413\u001b[1;33m         \u001b[1;32mreturn\u001b[0m \u001b[0m_minimize_neldermead\u001b[0m\u001b[1;33m(\u001b[0m\u001b[0mfun\u001b[0m\u001b[1;33m,\u001b[0m \u001b[0mx0\u001b[0m\u001b[1;33m,\u001b[0m \u001b[0margs\u001b[0m\u001b[1;33m,\u001b[0m \u001b[0mcallback\u001b[0m\u001b[1;33m,\u001b[0m \u001b[1;33m**\u001b[0m\u001b[0moptions\u001b[0m\u001b[1;33m)\u001b[0m\u001b[1;33m\u001b[0m\u001b[0m\n\u001b[0m\u001b[0;32m    414\u001b[0m     \u001b[1;32melif\u001b[0m \u001b[0mmeth\u001b[0m \u001b[1;33m==\u001b[0m \u001b[1;34m'powell'\u001b[0m\u001b[1;33m:\u001b[0m\u001b[1;33m\u001b[0m\u001b[0m\n\u001b[0;32m    415\u001b[0m         \u001b[1;32mreturn\u001b[0m \u001b[0m_minimize_powell\u001b[0m\u001b[1;33m(\u001b[0m\u001b[0mfun\u001b[0m\u001b[1;33m,\u001b[0m \u001b[0mx0\u001b[0m\u001b[1;33m,\u001b[0m \u001b[0margs\u001b[0m\u001b[1;33m,\u001b[0m \u001b[0mcallback\u001b[0m\u001b[1;33m,\u001b[0m \u001b[1;33m**\u001b[0m\u001b[0moptions\u001b[0m\u001b[1;33m)\u001b[0m\u001b[1;33m\u001b[0m\u001b[0m\n",
        "\u001b[1;32m/usr/local/lib/python2.7/dist-packages/scipy/optimize/optimize.pyc\u001b[0m in \u001b[0;36m_minimize_neldermead\u001b[1;34m(func, x0, args, callback, xtol, ftol, maxiter, maxfev, disp, return_all, **unknown_options)\u001b[0m\n\u001b[0;32m    495\u001b[0m                     \u001b[1;31m# Perform an inside contraction\u001b[0m\u001b[1;33m\u001b[0m\u001b[1;33m\u001b[0m\u001b[0m\n\u001b[0;32m    496\u001b[0m                     \u001b[0mxcc\u001b[0m \u001b[1;33m=\u001b[0m \u001b[1;33m(\u001b[0m\u001b[1;36m1\u001b[0m \u001b[1;33m-\u001b[0m \u001b[0mpsi\u001b[0m\u001b[1;33m)\u001b[0m \u001b[1;33m*\u001b[0m \u001b[0mxbar\u001b[0m \u001b[1;33m+\u001b[0m \u001b[0mpsi\u001b[0m \u001b[1;33m*\u001b[0m \u001b[0msim\u001b[0m\u001b[1;33m[\u001b[0m\u001b[1;33m-\u001b[0m\u001b[1;36m1\u001b[0m\u001b[1;33m]\u001b[0m\u001b[1;33m\u001b[0m\u001b[0m\n\u001b[1;32m--> 497\u001b[1;33m                     \u001b[0mfxcc\u001b[0m \u001b[1;33m=\u001b[0m \u001b[0mfunc\u001b[0m\u001b[1;33m(\u001b[0m\u001b[0mxcc\u001b[0m\u001b[1;33m)\u001b[0m\u001b[1;33m\u001b[0m\u001b[0m\n\u001b[0m\u001b[0;32m    498\u001b[0m \u001b[1;33m\u001b[0m\u001b[0m\n\u001b[0;32m    499\u001b[0m                     \u001b[1;32mif\u001b[0m \u001b[0mfxcc\u001b[0m \u001b[1;33m<\u001b[0m \u001b[0mfsim\u001b[0m\u001b[1;33m[\u001b[0m\u001b[1;33m-\u001b[0m\u001b[1;36m1\u001b[0m\u001b[1;33m]\u001b[0m\u001b[1;33m:\u001b[0m\u001b[1;33m\u001b[0m\u001b[0m\n",
        "\u001b[1;32m/usr/local/lib/python2.7/dist-packages/scipy/optimize/optimize.pyc\u001b[0m in \u001b[0;36mfunction_wrapper\u001b[1;34m(*wrapper_args)\u001b[0m\n\u001b[0;32m    279\u001b[0m     \u001b[1;32mdef\u001b[0m \u001b[0mfunction_wrapper\u001b[0m\u001b[1;33m(\u001b[0m\u001b[1;33m*\u001b[0m\u001b[0mwrapper_args\u001b[0m\u001b[1;33m)\u001b[0m\u001b[1;33m:\u001b[0m\u001b[1;33m\u001b[0m\u001b[0m\n\u001b[0;32m    280\u001b[0m         \u001b[0mncalls\u001b[0m\u001b[1;33m[\u001b[0m\u001b[1;36m0\u001b[0m\u001b[1;33m]\u001b[0m \u001b[1;33m+=\u001b[0m \u001b[1;36m1\u001b[0m\u001b[1;33m\u001b[0m\u001b[0m\n\u001b[1;32m--> 281\u001b[1;33m         \u001b[1;32mreturn\u001b[0m \u001b[0mfunction\u001b[0m\u001b[1;33m(\u001b[0m\u001b[1;33m*\u001b[0m\u001b[1;33m(\u001b[0m\u001b[0mwrapper_args\u001b[0m \u001b[1;33m+\u001b[0m \u001b[0margs\u001b[0m\u001b[1;33m)\u001b[0m\u001b[1;33m)\u001b[0m\u001b[1;33m\u001b[0m\u001b[0m\n\u001b[0m\u001b[0;32m    282\u001b[0m \u001b[1;33m\u001b[0m\u001b[0m\n\u001b[0;32m    283\u001b[0m     \u001b[1;32mreturn\u001b[0m \u001b[0mncalls\u001b[0m\u001b[1;33m,\u001b[0m \u001b[0mfunction_wrapper\u001b[0m\u001b[1;33m\u001b[0m\u001b[0m\n",
        "\u001b[1;32m/home/balzani57/GitRepos/Codes/gwsurrogate/gwsurrogate/gwtools.pyc\u001b[0m in \u001b[0;36mParameterizedNorm\u001b[1;34m(x)\u001b[0m\n\u001b[0;32m    157\u001b[0m         \u001b[0mdeltaPhi_off\u001b[0m \u001b[1;33m=\u001b[0m \u001b[0mx\u001b[0m\u001b[1;33m[\u001b[0m\u001b[1;36m1\u001b[0m\u001b[1;33m]\u001b[0m\u001b[1;33m\u001b[0m\u001b[0m\n\u001b[0;32m    158\u001b[0m \u001b[1;33m\u001b[0m\u001b[0m\n\u001b[1;32m--> 159\u001b[1;33m         \u001b[0mh1_trial\u001b[0m \u001b[1;33m=\u001b[0m \u001b[0mh1_interp\u001b[0m\u001b[1;33m(\u001b[0m \u001b[0mcoordinate_time_shift\u001b[0m\u001b[1;33m(\u001b[0m\u001b[0mt\u001b[0m\u001b[1;33m,\u001b[0m\u001b[0mdeltaT_off\u001b[0m\u001b[1;33m)\u001b[0m \u001b[1;33m)\u001b[0m \u001b[1;31m#differing sign from minimize_norm_error is correct\u001b[0m\u001b[1;33m\u001b[0m\u001b[0m\n\u001b[0m\u001b[0;32m    160\u001b[0m         \u001b[0mh1_trial\u001b[0m \u001b[1;33m=\u001b[0m \u001b[0mmodify_phase\u001b[0m\u001b[1;33m(\u001b[0m\u001b[0mh1_trial\u001b[0m\u001b[1;33m,\u001b[0m\u001b[1;33m-\u001b[0m\u001b[0mdeltaPhi_off\u001b[0m\u001b[1;33m)\u001b[0m\u001b[1;33m\u001b[0m\u001b[0m\n\u001b[0;32m    161\u001b[0m \u001b[1;33m\u001b[0m\u001b[0m\n",
        "\u001b[1;32m/usr/local/lib/python2.7/dist-packages/scipy/interpolate/polyint.pyc\u001b[0m in \u001b[0;36m__call__\u001b[1;34m(self, x)\u001b[0m\n\u001b[0;32m     77\u001b[0m         \"\"\"\n\u001b[0;32m     78\u001b[0m         \u001b[0mx\u001b[0m\u001b[1;33m,\u001b[0m \u001b[0mx_shape\u001b[0m \u001b[1;33m=\u001b[0m \u001b[0mself\u001b[0m\u001b[1;33m.\u001b[0m\u001b[0m_prepare_x\u001b[0m\u001b[1;33m(\u001b[0m\u001b[0mx\u001b[0m\u001b[1;33m)\u001b[0m\u001b[1;33m\u001b[0m\u001b[0m\n\u001b[1;32m---> 79\u001b[1;33m         \u001b[0my\u001b[0m \u001b[1;33m=\u001b[0m \u001b[0mself\u001b[0m\u001b[1;33m.\u001b[0m\u001b[0m_evaluate\u001b[0m\u001b[1;33m(\u001b[0m\u001b[0mx\u001b[0m\u001b[1;33m)\u001b[0m\u001b[1;33m\u001b[0m\u001b[0m\n\u001b[0m\u001b[0;32m     80\u001b[0m         \u001b[1;32mreturn\u001b[0m \u001b[0mself\u001b[0m\u001b[1;33m.\u001b[0m\u001b[0m_finish_y\u001b[0m\u001b[1;33m(\u001b[0m\u001b[0my\u001b[0m\u001b[1;33m,\u001b[0m \u001b[0mx_shape\u001b[0m\u001b[1;33m)\u001b[0m\u001b[1;33m\u001b[0m\u001b[0m\n\u001b[0;32m     81\u001b[0m \u001b[1;33m\u001b[0m\u001b[0m\n",
        "\u001b[1;32m/usr/local/lib/python2.7/dist-packages/scipy/interpolate/interpolate.pyc\u001b[0m in \u001b[0;36m_evaluate\u001b[1;34m(self, x_new)\u001b[0m\n\u001b[0;32m    476\u001b[0m         \u001b[0mx_new\u001b[0m \u001b[1;33m=\u001b[0m \u001b[0masarray\u001b[0m\u001b[1;33m(\u001b[0m\u001b[0mx_new\u001b[0m\u001b[1;33m)\u001b[0m\u001b[1;33m\u001b[0m\u001b[0m\n\u001b[0;32m    477\u001b[0m         \u001b[0mout_of_bounds\u001b[0m \u001b[1;33m=\u001b[0m \u001b[0mself\u001b[0m\u001b[1;33m.\u001b[0m\u001b[0m_check_bounds\u001b[0m\u001b[1;33m(\u001b[0m\u001b[0mx_new\u001b[0m\u001b[1;33m)\u001b[0m\u001b[1;33m\u001b[0m\u001b[0m\n\u001b[1;32m--> 478\u001b[1;33m         \u001b[0my_new\u001b[0m \u001b[1;33m=\u001b[0m \u001b[0mself\u001b[0m\u001b[1;33m.\u001b[0m\u001b[0m_call\u001b[0m\u001b[1;33m(\u001b[0m\u001b[0mself\u001b[0m\u001b[1;33m,\u001b[0m \u001b[0mx_new\u001b[0m\u001b[1;33m)\u001b[0m\u001b[1;33m\u001b[0m\u001b[0m\n\u001b[0m\u001b[0;32m    479\u001b[0m         \u001b[1;32mif\u001b[0m \u001b[0mlen\u001b[0m\u001b[1;33m(\u001b[0m\u001b[0my_new\u001b[0m\u001b[1;33m)\u001b[0m \u001b[1;33m>\u001b[0m \u001b[1;36m0\u001b[0m\u001b[1;33m:\u001b[0m\u001b[1;33m\u001b[0m\u001b[0m\n\u001b[0;32m    480\u001b[0m             \u001b[0my_new\u001b[0m\u001b[1;33m[\u001b[0m\u001b[0mout_of_bounds\u001b[0m\u001b[1;33m]\u001b[0m \u001b[1;33m=\u001b[0m \u001b[0mself\u001b[0m\u001b[1;33m.\u001b[0m\u001b[0mfill_value\u001b[0m\u001b[1;33m\u001b[0m\u001b[0m\n",
        "\u001b[1;32m/usr/local/lib/python2.7/dist-packages/scipy/interpolate/interpolate.pyc\u001b[0m in \u001b[0;36m_call_linear\u001b[1;34m(self, x_new)\u001b[0m\n\u001b[0;32m    443\u001b[0m         \u001b[1;31m# Note that the following two expressions rely on the specifics of the\u001b[0m\u001b[1;33m\u001b[0m\u001b[1;33m\u001b[0m\u001b[0m\n\u001b[0;32m    444\u001b[0m         \u001b[1;31m# broadcasting semantics.\u001b[0m\u001b[1;33m\u001b[0m\u001b[1;33m\u001b[0m\u001b[0m\n\u001b[1;32m--> 445\u001b[1;33m         \u001b[0mslope\u001b[0m \u001b[1;33m=\u001b[0m \u001b[1;33m(\u001b[0m\u001b[0my_hi\u001b[0m \u001b[1;33m-\u001b[0m \u001b[0my_lo\u001b[0m\u001b[1;33m)\u001b[0m \u001b[1;33m/\u001b[0m \u001b[1;33m(\u001b[0m\u001b[0mx_hi\u001b[0m \u001b[1;33m-\u001b[0m \u001b[0mx_lo\u001b[0m\u001b[1;33m)\u001b[0m\u001b[1;33m[\u001b[0m\u001b[1;33m:\u001b[0m\u001b[1;33m,\u001b[0m \u001b[0mNone\u001b[0m\u001b[1;33m]\u001b[0m\u001b[1;33m\u001b[0m\u001b[0m\n\u001b[0m\u001b[0;32m    446\u001b[0m \u001b[1;33m\u001b[0m\u001b[0m\n\u001b[0;32m    447\u001b[0m         \u001b[1;31m# 5. Calculate the actual value for each entry in x_new.\u001b[0m\u001b[1;33m\u001b[0m\u001b[1;33m\u001b[0m\u001b[0m\n",
        "\u001b[1;31mKeyboardInterrupt\u001b[0m: "
       ]
      }
     ],
     "prompt_number": 5
    },
    {
     "cell_type": "code",
     "collapsed": false,
     "input": [
      "### Display the preceding analysis ###\n",
      "plt.pyplot.contour(M_list, q_list, errors_nm, 15, linewidths=0.5, colors='k')\n",
      "plt.pyplot.contourf(M_list, q_list, errors_nm, 15, cmap=plt.cm.rainbow,\n",
      "                  vmax=abs(errors_nm).max(), vmin=-abs(errors_nm).max())\n",
      "plt.pyplot.colorbar()  # draw colorbar\n",
      "plt.pyplot.scatter(M_list, q_list, marker='o', c='b', s=5, zorder=10)\n",
      "plt.pyplot.xlim(np.min(M_list), np.max(M_list))\n",
      "plt.pyplot.ylim(np.min(q_list), np.max(q_list))\n",
      "plt.pyplot.xlabel('$M$ (solar masses)')\n",
      "plt.pyplot.ylabel('$q$')\n",
      "plt.pyplot.title('Overlap errors between EOB-LAL and its surrogate')\n",
      "plt.pylab.show()"
     ],
     "language": "python",
     "metadata": {},
     "outputs": []
    },
    {
     "cell_type": "code",
     "collapsed": false,
     "input": [
      "### q and M plot ###\n",
      "dt = 1.0/4096.0\n",
      "fmin=14.0\n",
      "Dist=1.0 * 1e6 * lal.LAL_PC_SI\n",
      "time_LAL, h_LAL = EOBNRv2_LAL(Mtot,1.0,dt,fmin,Dist)\n",
      "time_sur,hp,hc = NR_surr(q_eval=1.0,M_eval=M,dist_eval=1.0)\n",
      "h_sur   = hp + 1.0j*hc\n",
      "[tmp, errors_nm[counter_q,counter_M]], [tc, phic], [t_common,hNR_align,hEOB_align] = gwtools.minimize_norm_error(time_LAL,h_LAL,time_sur,h_sur,gwtools.euclidean_norm_sqrd,.0125,.0009,method='nelder-mead')\n",
      "\n",
      "plt.pyplot.figure(1)\n",
      "plt.pyplot.subplot(2,1,1)\n",
      "plt.pyplot.plot(t_common,hNR_align,'red')\n",
      "plt.pyplot.plot(t_common,hEOB_align,'b--')\n",
      "plt.pyplot.subplot(2,1,2)\n",
      "plt.pyplot.plot(t_common,(hNR_align-hEOB_align).real,'b--')\n",
      "plt.pyplot.plot(t_common,(hNR_align-hEOB_align).imag,'k-.')\n",
      "plt.pyplot.title('q=1 EOB NR comparison')\n",
      "\n",
      "plt.pyplot.figure(1)\n",
      "plt.pyplot.\n",
      "plt.pyplot.show()"
     ],
     "language": "python",
     "metadata": {},
     "outputs": []
    },
    {
     "cell_type": "code",
     "collapsed": false,
     "input": [
      "### training set qs ###\n",
      "q_list = [1.000000000540000e+00,\n",
      "     1.202461564130000e+00,\n",
      "     1.517514008230000e+00,\n",
      "     1.999980503570000e+00,\n",
      "     2.316199233370000e+00,\n",
      "     2.507404615990000e+00,\n",
      "     2.999989394280000e+00,\n",
      "     3.272496433510000e+00,\n",
      "     3.497587193380000e+00,\n",
      "     3.999976592420000e+00,\n",
      "     4.498773344730000e+00,\n",
      "     5.038801322140000e+00,\n",
      "     5.522381819440000e+00,\n",
      "     5.999948612750000e+00,\n",
      "     6.579765192780000e+00,\n",
      "     7.187128203360000e+00,\n",
      "     7.760882370080000e+00,\n",
      "     8.267457269059999e+00,\n",
      "     8.728770660940000e+00,\n",
      "     9.167299440020001e+00,\n",
      "     9.662816180400000e+00,\n",
      "     9.989510399349999e+00]"
     ],
     "language": "python",
     "metadata": {},
     "outputs": [],
     "prompt_number": 5
    },
    {
     "cell_type": "code",
     "collapsed": false,
     "input": [
      "M = 75.0\n",
      "\n",
      "print \"the mass is %1.15e\" %(M * lal.LAL_MSUN_SI)\n",
      "print \"distance %1.15e\" %(1.0 * 1e6 * lal.LAL_PC_SI)\n",
      "print \"the factor is %1.15e\" %(lal.LAL_G_SI / np.power(lal.LAL_C_SI,2.0))\n",
      "print \"G is %1.15e\" %(lal.LAL_G_SI)\n",
      "print \"c is %1.15e\" %(lal.LAL_C_SI)"
     ],
     "language": "python",
     "metadata": {},
     "outputs": [
      {
       "output_type": "stream",
       "stream": "stdout",
       "text": [
        "the mass is 1.491690000000000e+32\n",
        "distance 3.085677580700000e+22\n",
        "the factor is 7.424257637522814e-28\n",
        "G is 6.672590000000000e-11\n",
        "c is 2.997924580000000e+08\n"
       ]
      }
     ],
     "prompt_number": 6
    },
    {
     "cell_type": "code",
     "collapsed": false,
     "input": [
      "### setup hdf5 if exporting data to jon ###\n",
      "import h5py\n",
      "outFile = h5py.File('myFileName.h5','w')\n",
      "#outFile.create_dataset('twoDimensionalArrayData.dat',data=myDataSet2)\n",
      "#myGroup1 = outFile.create_group( 'group1.dir' )\n",
      "#myGroup2 = outFile.create_group( 'group2.dir' )\n",
      "#myGroup1.create_dataset('sillyData.dat',data=np.array([1.,3.1415555]))\n",
      "\n",
      "# just for q #\n",
      "fmin = 14.0\n",
      "dt = (1.0/4096.0) #Note: setting to smaller values could introduce large interpolation error\n",
      "M = 75.0\n",
      "\n",
      "Mtot = M * lal.LAL_MSUN_SI\n",
      "\n",
      "#q_list    = np.linspace(1.0,9.98,15)\n",
      "q_samples = len(q_list)\n",
      "\n",
      "\n",
      "errors_nm = np.zeros((q_samples,1))\n",
      "\n",
      "for ii in range(q_samples):\n",
      "    \n",
      "    time_LAL, h_LAL = EOBNRv2_LAL(Mtot,q_list[ii],dt,fmin,Dist)\n",
      "    time_sur,hp,hc = NR_surr(q_eval=q_list[ii],M_eval=M,dist_eval=1.0)\n",
      "    h_sur          = hp + 1.0j*hc\n",
      "        \n",
      "    ### minimize the norm (8,.0009) or (.005,.0009) ###\n",
      "    [tmp, errors_nm[ii]], [tc, phic], [t_common,hNR_align,hEOB_align] = \\\n",
      "        gwtools.minimize_norm_error(time_LAL,h_LAL,time_sur,h_sur,gwtools.euclidean_norm_sqrd,.005,.0009,method='nelder-mead')\n",
      "    print gwtools.dimensionless_time(Mtot * lal.LAL_G_SI / np.power(lal.LAL_C_SI,3.0) ,t_common[-1] - t_common[0]) \n",
      "    #dimensionless_time =  gwtools.dimensionless_time(Mtot * lal.LAL_G_SI / np.power(lal.LAL_C_SI,3.0) ,t_common) \n",
      "    t = np.array(gwtools.dimensionless_time(Mtot * lal.LAL_G_SI / np.power(lal.LAL_C_SI,3.0) ,time_LAL),dtype=np.float64)\n",
      "    \n",
      "    Mtot_m = Mtot * lal.LAL_G_SI / np.power(lal.LAL_C_SI,2.0)\n",
      "    h_LAL = h_LAL * (Dist / Mtot_m)\n",
      "    mydata = np.array([t,h_LAL.real,h_LAL.imag]).transpose() # typical format for spec waveforms\n",
      "    dataName = 'EOB_q_'+str(q_list[ii])+'.dat'\n",
      "    outFile.create_dataset(dataName,data=mydata)\n",
      "    \n",
      "    \n",
      "outFile.close()"
     ],
     "language": "python",
     "metadata": {},
     "outputs": [
      {
       "output_type": "stream",
       "stream": "stdout",
       "text": [
        "2784.32932427\n",
        "2784.32932427"
       ]
      },
      {
       "output_type": "stream",
       "stream": "stdout",
       "text": [
        "\n",
        "2784.32932427"
       ]
      },
      {
       "output_type": "stream",
       "stream": "stdout",
       "text": [
        "\n",
        "2784.32932427"
       ]
      },
      {
       "output_type": "stream",
       "stream": "stdout",
       "text": [
        "\n",
        "2784.32932427"
       ]
      },
      {
       "output_type": "stream",
       "stream": "stdout",
       "text": [
        "\n",
        "2784.32932427"
       ]
      },
      {
       "output_type": "stream",
       "stream": "stdout",
       "text": [
        "\n",
        "2784.32932427"
       ]
      },
      {
       "output_type": "stream",
       "stream": "stdout",
       "text": [
        "\n",
        "2784.32932427"
       ]
      },
      {
       "output_type": "stream",
       "stream": "stdout",
       "text": [
        "\n",
        "2784.32932427"
       ]
      },
      {
       "output_type": "stream",
       "stream": "stdout",
       "text": [
        "\n",
        "2784.32932427"
       ]
      },
      {
       "output_type": "stream",
       "stream": "stdout",
       "text": [
        "\n",
        "2784.32932427"
       ]
      },
      {
       "output_type": "stream",
       "stream": "stdout",
       "text": [
        "\n",
        "2784.32932427"
       ]
      },
      {
       "output_type": "stream",
       "stream": "stdout",
       "text": [
        "\n",
        "2784.32932427"
       ]
      },
      {
       "output_type": "stream",
       "stream": "stdout",
       "text": [
        "\n",
        "2784.32932427"
       ]
      },
      {
       "output_type": "stream",
       "stream": "stdout",
       "text": [
        "\n",
        "2784.32932427"
       ]
      },
      {
       "output_type": "stream",
       "stream": "stdout",
       "text": [
        "\n",
        "2784.32932427"
       ]
      },
      {
       "output_type": "stream",
       "stream": "stdout",
       "text": [
        "\n",
        "2784.32932427"
       ]
      },
      {
       "output_type": "stream",
       "stream": "stdout",
       "text": [
        "\n",
        "2784.32932427"
       ]
      },
      {
       "output_type": "stream",
       "stream": "stdout",
       "text": [
        "\n",
        "2784.32932427"
       ]
      },
      {
       "output_type": "stream",
       "stream": "stdout",
       "text": [
        "\n",
        "2784.32932427"
       ]
      },
      {
       "output_type": "stream",
       "stream": "stdout",
       "text": [
        "\n",
        "2784.32932427"
       ]
      },
      {
       "output_type": "stream",
       "stream": "stdout",
       "text": [
        "\n",
        "Warning: Surrogate not trained at requested parameter value"
       ]
      },
      {
       "output_type": "stream",
       "stream": "stdout",
       "text": [
        "\n",
        "2784.32932427"
       ]
      },
      {
       "output_type": "stream",
       "stream": "stdout",
       "text": [
        "\n"
       ]
      }
     ],
     "prompt_number": 7
    },
    {
     "cell_type": "code",
     "collapsed": false,
     "input": [
      "import h5py\n",
      "inFile = h5py.File('myFileName.h5','r')\n",
      "b = inFile['EOB_q_3.27249643351.dat'][:]\n",
      "inFile.close()"
     ],
     "language": "python",
     "metadata": {},
     "outputs": [],
     "prompt_number": 8
    },
    {
     "cell_type": "code",
     "collapsed": false,
     "input": [
      "b.shape\n",
      "t = b[:,0]\n",
      "h = (b[:,1] + 1.0j*b[:,2])\n",
      "import matplotlib.pyplot as plt\n",
      "#NR_surr.plot_pretty(t,h.real,h.imag)\n",
      "plt.plot(t,np.abs(h))\n",
      "plt.show()"
     ],
     "language": "python",
     "metadata": {},
     "outputs": [],
     "prompt_number": 10
    },
    {
     "cell_type": "code",
     "collapsed": false,
     "input": [
      "q_samples"
     ],
     "language": "python",
     "metadata": {},
     "outputs": [
      {
       "output_type": "pyout",
       "prompt_number": 34,
       "text": [
        "22"
       ]
      }
     ],
     "prompt_number": 34
    },
    {
     "cell_type": "code",
     "collapsed": false,
     "input": [
      "plt.pyplot.figure(1)\n",
      "plt.pyplot.plot(q_list,errors_nm,'Dr')\n",
      "plt.pyplot.title('EOB/NR for [-600M, 50M], 22 mode')\n",
      "plt.pyplot.ylabel('Time-domain relative norm squared error')\n",
      "plt.pyplot.xlabel('$q$')\n",
      "plt.pyplot.show()"
     ],
     "language": "python",
     "metadata": {},
     "outputs": [],
     "prompt_number": 25
    },
    {
     "cell_type": "code",
     "collapsed": false,
     "input": [
      "### q=9.5 ###\n",
      "dt = 1.0/4096.0\n",
      "fmin=14.0\n",
      "Dist=1.0 * 1e6 * lal.LAL_PC_SI\n",
      "time_LAL, h_LAL = EOBNRv2_LAL(Mtot,9.5,dt,fmin,Dist)\n",
      "time_sur,hp,hc = NR_surr(q_eval=9.5,M_eval=M,dist_eval=1.0)\n",
      "h_sur   = hp + 1.0j*hc\n",
      "[tmp, errors_nm], [tc, phic], [t_common,hNR_align,hEOB_align] = gwtools.minimize_norm_error(time_LAL,h_LAL,time_sur,h_sur,gwtools.euclidean_norm_sqrd,.8,.0009,method='nelder-mead')\n",
      "\n",
      "t_dimensionless = gwtools.dimensionless_time(Mtot * lal.LAL_G_SI / np.power(lal.LAL_C_SI,3.0) ,t_common) \n",
      "\n",
      "plt.pyplot.figure(1)\n",
      "plt.pyplot.subplot(2,1,1)\n",
      "plt.pyplot.plot(t_dimensionless,hNR_align,'red')\n",
      "plt.pyplot.plot(t_dimensionless,hEOB_align,'b--')\n",
      "plt.pyplot.title('q=9.5 EOB NR comparison')\n",
      "plt.pyplot.subplot(2,1,2)\n",
      "plt.pyplot.plot(t_dimensionless,(hNR_align-hEOB_align).real,'b--')\n",
      "plt.pyplot.plot(t_dimensionless,(hNR_align-hEOB_align).imag,'k-.')\n",
      "plt.pyplot.show()"
     ],
     "language": "python",
     "metadata": {},
     "outputs": []
    }
   ],
   "metadata": {}
  }
 ]
}