{
 "metadata": {
  "name": "book1"
 },
 "nbformat": 3,
 "nbformat_minor": 0,
 "worksheets": [
  {
   "cells": [
    {
     "cell_type": "code",
     "collapsed": false,
     "input": [
      "### setup system path ###\n",
      "# NOTE: This step is NOT needed if gwsurrogate was installed from pip, with \"python setup.py install\", or PYTHONPATH has been set (see README)\n",
      "import sys\n",
      "path_to_gws = '/home/balzani57/GitRepos/Codes/gwsurrogate/'\n",
      "sys.path.append(path_to_gws)"
     ],
     "language": "python",
     "metadata": {},
     "outputs": [],
     "prompt_number": 6
    },
    {
     "cell_type": "code",
     "collapsed": false,
     "input": [
      "### import the gwsurrogate module and load an existing surrogate ###\n",
      "import gwsurrogate as gws\n",
      "\n",
      "path_to_surrogate = '../tutorial/EOBNRv2_example/EOBNRv2_q1_2_NoSpin_SingleModes/l2_m2_len12239M_SurID19poly/' # assumes notebook launched from \"notebooks\" directory\n",
      "EOBNRv2_sur = gws.EvaluateSurrogate(path_to_surrogate)\n",
      "\n",
      "### import other useful packages ###\n",
      "from pylab import matplotlib as plt\n",
      "import numpy as np"
     ],
     "language": "python",
     "metadata": {},
     "outputs": [],
     "prompt_number": 8
    },
    {
     "cell_type": "heading",
     "level": 1,
     "metadata": {},
     "source": [
      "Lesson 4: Analysis with gwtools "
     ]
    },
    {
     "cell_type": "markdown",
     "metadata": {},
     "source": [
      "gwtools is part of romgw package (BITBUCKET LOCATION HERE). Using these tools we study the amplitude, phase and eccentricity."
     ]
    },
    {
     "cell_type": "code",
     "collapsed": false,
     "input": [
      "import sys\n",
      "sys.path.append('/home/balzani57/GitRepos/Codes/romgw/')\n",
      "import gwtools as gwtool\n",
      "import numpy as np"
     ],
     "language": "python",
     "metadata": {},
     "outputs": [],
     "prompt_number": 4
    },
    {
     "cell_type": "code",
     "collapsed": false,
     "input": [
      "### estimate eccentricity with gwtools ###\n",
      "\n",
      "# reveal a TS waveform (exact output from spec) with R,V matricies (see below) #\n",
      "E = np.dot(spec_sur.B,spec_sur.V)\n",
      "H = np.dot(E,spec_sur.R)\n",
      "h = H[:,0]\n",
      "\n",
      "# or use a surrogate predicted one #\n",
      "#t_spec, hp_spec, hc_spec = spec_sur(1.7)\n",
      "#h = hp_spec + 1.0j*hc_spec\n",
      "\n",
      "amp_spec, phase_spec = gwtool.get_amp_phase(h)\n",
      "t_log, phase_log     = gwtool.logd(t_spec,phase_spec)\n",
      "t_log, amp_log       = gwtool.logd(t_spec,amp_spec)\n",
      "\n",
      "plt.pyplot.figure(1)\n",
      "plt.pyplot.plot(t_spec,phase_spec,'r')\n",
      "#plt.pyplot.plot(t_log,phase_log,'r')\n",
      "#plt.pyplot.plot(t_log,amp_log,'r')\n",
      "#plt.pyplot.plot(t_spec,h.imag,'b')\n",
      "\n",
      "\n",
      "### ecc from phase: plot sequence of fits to show ecc will not depend on this choice ###\n",
      "plt.pyplot.figure(2)\n",
      "\n",
      "t_ecc,ecc_est  = gwtool.ecc_estimator(t_spec,h,[5000,30000],1,6)\n",
      "plt.pyplot.plot(t_ecc,ecc_est,'g')\n",
      "\n",
      "t_ecc,ecc_est  = gwtool.ecc_estimator(t_spec,h,[5000,30000],1,8)\n",
      "plt.pyplot.plot(t_ecc,ecc_est,'r')\n",
      "\n",
      "t_ecc,ecc_est  = gwtool.ecc_estimator(t_spec,h,[5000,30000],1,10)\n",
      "plt.pyplot.plot(t_ecc,ecc_est,'b')\n",
      "\n",
      "\n",
      "### ecc from amplitude: plot sequence of fits to show ecc will not depend on this choice ###\n",
      "\n",
      "plt.pyplot.figure(3)\n",
      "\n",
      "t_ecc,ecc_est  = gwtool.ecc_estimator(t_spec,h,[5000,30000],2,4)\n",
      "plt.pyplot.plot(t_ecc,ecc_est,'g')\n",
      "\n",
      "t_ecc,ecc_est  = gwtool.ecc_estimator(t_spec,h,[5000,30000],2,6)\n",
      "plt.pyplot.plot(t_ecc,ecc_est,'r')\n",
      "\n",
      "t_ecc,ecc_est  = gwtool.ecc_estimator(t_spec,h,[5000,30000],2,8)\n",
      "plt.pyplot.plot(t_ecc,ecc_est,'b')\n",
      "\n",
      "#plt.pyplot.plot(t_spec,phase_spec,'k')\n",
      "#plt.pyplot.plot(t_ecc,ecc_est,'r')\n",
      "\n",
      "plt.pyplot.show()"
     ],
     "language": "python",
     "metadata": {},
     "outputs": [
      {
       "ename": "NameError",
       "evalue": "name 'spec_sur' is not defined",
       "output_type": "pyerr",
       "traceback": [
        "\u001b[1;31m---------------------------------------------------------------------------\u001b[0m\n\u001b[1;31mNameError\u001b[0m                                 Traceback (most recent call last)",
        "\u001b[1;32m<ipython-input-5-67c15a3a4847>\u001b[0m in \u001b[0;36m<module>\u001b[1;34m()\u001b[0m\n\u001b[0;32m      2\u001b[0m \u001b[1;33m\u001b[0m\u001b[0m\n\u001b[0;32m      3\u001b[0m \u001b[1;31m# reveal a TS waveform (exact output from spec) with R,V matricies (see below) #\u001b[0m\u001b[1;33m\u001b[0m\u001b[1;33m\u001b[0m\u001b[0m\n\u001b[1;32m----> 4\u001b[1;33m \u001b[0mE\u001b[0m \u001b[1;33m=\u001b[0m \u001b[0mnp\u001b[0m\u001b[1;33m.\u001b[0m\u001b[0mdot\u001b[0m\u001b[1;33m(\u001b[0m\u001b[0mspec_sur\u001b[0m\u001b[1;33m.\u001b[0m\u001b[0mB\u001b[0m\u001b[1;33m,\u001b[0m\u001b[0mspec_sur\u001b[0m\u001b[1;33m.\u001b[0m\u001b[0mV\u001b[0m\u001b[1;33m)\u001b[0m\u001b[1;33m\u001b[0m\u001b[0m\n\u001b[0m\u001b[0;32m      5\u001b[0m \u001b[0mH\u001b[0m \u001b[1;33m=\u001b[0m \u001b[0mnp\u001b[0m\u001b[1;33m.\u001b[0m\u001b[0mdot\u001b[0m\u001b[1;33m(\u001b[0m\u001b[0mE\u001b[0m\u001b[1;33m,\u001b[0m\u001b[0mspec_sur\u001b[0m\u001b[1;33m.\u001b[0m\u001b[0mR\u001b[0m\u001b[1;33m)\u001b[0m\u001b[1;33m\u001b[0m\u001b[0m\n\u001b[0;32m      6\u001b[0m \u001b[0mh\u001b[0m \u001b[1;33m=\u001b[0m \u001b[0mH\u001b[0m\u001b[1;33m[\u001b[0m\u001b[1;33m:\u001b[0m\u001b[1;33m,\u001b[0m\u001b[1;36m0\u001b[0m\u001b[1;33m]\u001b[0m\u001b[1;33m\u001b[0m\u001b[0m\n",
        "\u001b[1;31mNameError\u001b[0m: name 'spec_sur' is not defined"
       ]
      }
     ],
     "prompt_number": 5
    }
   ],
   "metadata": {}
  }
 ]
}