{
 "metadata": {
  "name": "book1"
 },
 "nbformat": 3,
 "nbformat_minor": 0,
 "worksheets": [
  {
   "cells": [
    {
     "cell_type": "heading",
     "level": 1,
     "metadata": {},
     "source": [
      "Lesson 4: Analysis with gwtools "
     ]
    },
    {
     "cell_type": "markdown",
     "metadata": {},
     "source": [
      "gwtools is part of romgw package (BITBUCKET LOCATION HERE). Using these tools we study the amplitude, phase and eccentricity."
     ]
    },
    {
     "cell_type": "code",
     "collapsed": false,
     "input": [
      "sys.path.append('/home/balzani57/GitRepos/Codes/romgw/')\n",
      "import gwtools as gwtool"
     ],
     "language": "python",
     "metadata": {},
     "outputs": [],
     "prompt_number": 14
    },
    {
     "cell_type": "code",
     "collapsed": false,
     "input": [
      "### compute amplitude and phase information with gwtools ###\n",
      "\n",
      "h_spec = hp_spec + 1.0j*hc_spec\n",
      "amp_spec,phase_spec = gwtool.get_amp_phase(h_spec)\n",
      "\n",
      "h_eob = hp_eob + 1.0j*hc_eob\n",
      "amp_eob,phase_eob = gwtool.get_amp_phase(h_eob)\n",
      "\n",
      "plt.pyplot.figure(1)\n",
      "plt.pyplot.plot(t_spec,amp_spec,'r')\n",
      "plt.pyplot.plot(t_eob,amp_eob,'b')\n",
      "\n",
      "plt.pyplot.figure(2)\n",
      "plt.pyplot.plot(t_spec,phase_spec,'r')\n",
      "plt.pyplot.plot(t_eob,phase_eob,'b')\n",
      "\n",
      "plt.pyplot.show()\n"
     ],
     "language": "python",
     "metadata": {},
     "outputs": [],
     "prompt_number": 15
    },
    {
     "cell_type": "code",
     "collapsed": false,
     "input": [
      "### estimate eccentricity with gwtools ###\n",
      "\n",
      "# reveal a TS waveform (exact output from spec) with R,V matricies (see below) #\n",
      "E = np.dot(spec_sur.B,spec_sur.V)\n",
      "H = np.dot(E,spec_sur.R)\n",
      "h = H[:,0]\n",
      "\n",
      "# or use a surrogate predicted one #\n",
      "#t_spec, hp_spec, hc_spec = spec_sur(1.7)\n",
      "#h = hp_spec + 1.0j*hc_spec\n",
      "\n",
      "amp_spec, phase_spec = gwtool.get_amp_phase(h)\n",
      "t_log, phase_log     = gwtool.logd(t_spec,phase_spec)\n",
      "t_log, amp_log       = gwtool.logd(t_spec,amp_spec)\n",
      "\n",
      "plt.pyplot.figure(1)\n",
      "plt.pyplot.plot(t_spec,phase_spec,'r')\n",
      "#plt.pyplot.plot(t_log,phase_log,'r')\n",
      "#plt.pyplot.plot(t_log,amp_log,'r')\n",
      "#plt.pyplot.plot(t_spec,h.imag,'b')\n",
      "\n",
      "\n",
      "### ecc from phase: plot sequence of fits to show ecc will not depend on this choice ###\n",
      "plt.pyplot.figure(2)\n",
      "\n",
      "t_ecc,ecc_est  = gwtool.ecc_estimator(t_spec,h,[5000,30000],1,6)\n",
      "plt.pyplot.plot(t_ecc,ecc_est,'g')\n",
      "\n",
      "t_ecc,ecc_est  = gwtool.ecc_estimator(t_spec,h,[5000,30000],1,8)\n",
      "plt.pyplot.plot(t_ecc,ecc_est,'r')\n",
      "\n",
      "t_ecc,ecc_est  = gwtool.ecc_estimator(t_spec,h,[5000,30000],1,10)\n",
      "plt.pyplot.plot(t_ecc,ecc_est,'b')\n",
      "\n",
      "\n",
      "### ecc from amplitude: plot sequence of fits to show ecc will not depend on this choice ###\n",
      "\n",
      "plt.pyplot.figure(3)\n",
      "\n",
      "t_ecc,ecc_est  = gwtool.ecc_estimator(t_spec,h,[5000,30000],2,4)\n",
      "plt.pyplot.plot(t_ecc,ecc_est,'g')\n",
      "\n",
      "t_ecc,ecc_est  = gwtool.ecc_estimator(t_spec,h,[5000,30000],2,6)\n",
      "plt.pyplot.plot(t_ecc,ecc_est,'r')\n",
      "\n",
      "t_ecc,ecc_est  = gwtool.ecc_estimator(t_spec,h,[5000,30000],2,8)\n",
      "plt.pyplot.plot(t_ecc,ecc_est,'b')\n",
      "\n",
      "#plt.pyplot.plot(t_spec,phase_spec,'k')\n",
      "#plt.pyplot.plot(t_ecc,ecc_est,'r')\n",
      "\n",
      "plt.pyplot.show()"
     ],
     "language": "python",
     "metadata": {},
     "outputs": [],
     "prompt_number": 16
    }
   ],
   "metadata": {}
  }
 ]
}