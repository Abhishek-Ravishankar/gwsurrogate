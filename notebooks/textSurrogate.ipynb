{
 "metadata": {
  "name": "textSurrogate"
 },
 "nbformat": 3,
 "nbformat_minor": 0,
 "worksheets": [
  {
   "cells": [
    {
     "cell_type": "code",
     "collapsed": false,
     "input": [
      "### setup system paths, import text surrogate module and load a surrogate ###\n",
      "import sys\n",
      "sys.path.append('/home/balzani57/GitRepos/Codes/gwsurrogate/gwsurrogate')\n",
      "from pylab import matplotlib as plt\n",
      "import numpy as np\n",
      "\n",
      "import gwtools as gwtools\n",
      "\n",
      "import surrogate as txtsur\n",
      "EOBNRv2_sur = txtsur.TextSurrogate('/home/balzani57/GitRepos/Codes/gwsurrogate/EOBNRv2/EOBNRv2_q1_2_NoSpin_SingleModes/l2_m2_len12239M_SurID19poly/')\n",
      "spec_sur = txtsur.TextSurrogate('/home/balzani57/GitRepos/Codes/gwsurrogate/spec_test/SpEC_q1_9_NoSpin_SingleModes/l2_m2_len2824M_SurID25poly/')"
     ],
     "language": "python",
     "metadata": {},
     "outputs": [],
     "prompt_number": 1
    },
    {
     "cell_type": "code",
     "collapsed": false,
     "input": [
      "### plot EOB and NR waveforms ###\n",
      "### NOTE: these will look different since EOB and NR are normalized differently and are defined on diffrent time intervals\n",
      "\n",
      "t_spec, hp_spec, hc_spec = spec_sur(1.7)\n",
      "t_eob, hp_eob, hc_eob = EOBNRv2_sur(1.7)\n",
      "\n",
      "plt.pyplot.figure(1)\n",
      "plt.pyplot.plot(t_spec,hp_spec,'r')\n",
      "plt.pyplot.plot(t_spec,hc_spec,'b')\n",
      "\n",
      "plt.pyplot.figure(2)\n",
      "plt.pyplot.plot(t_eob,hp_eob,'r')\n",
      "plt.pyplot.plot(t_eob,hc_eob,'b')\n",
      "\n",
      "plt.pyplot.show()"
     ],
     "language": "python",
     "metadata": {},
     "outputs": [],
     "prompt_number": 2
    },
    {
     "cell_type": "code",
     "collapsed": false,
     "input": [
      "### compute amplitude and phase information with gwtools ###\n",
      "\n",
      "h_spec = hp_spec + 1.0j*hc_spec\n",
      "amp_spec,phase_spec = gwtools.get_amp_phase(h_spec)\n",
      "\n",
      "h_eob = hp_eob + 1.0j*hc_eob\n",
      "amp_eob,phase_eob = gwtools.get_amp_phase(h_eob)\n",
      "\n",
      "plt.pyplot.figure(1)\n",
      "plt.pyplot.plot(t_spec,amp_spec,'r')\n",
      "plt.pyplot.plot(t_eob,amp_eob,'b')\n",
      "\n",
      "plt.pyplot.figure(2)\n",
      "plt.pyplot.plot(t_spec,phase_spec,'r')\n",
      "plt.pyplot.plot(t_eob,phase_eob,'b')\n",
      "\n",
      "plt.pyplot.show()\n"
     ],
     "language": "python",
     "metadata": {},
     "outputs": [],
     "prompt_number": 3
    },
    {
     "cell_type": "code",
     "collapsed": false,
     "input": [
      "### estimate eccentricity with gwtools ###\n",
      "time_tmp, ecc_est  = gwtools.ecc_estimator(t_spec[100:9000],h_spec[100:9000],4,[0, 100])\n",
      "\n",
      "plt.pyplot.figure(1)\n",
      "plt.pyplot.plot(time_tmp,(ecc_est - phase_spec[100:9000])/4)\n",
      "#plt.pyplot.plot(time_tmp,phase_eob[0:100])\n",
      "#plt.pyplot.plot(time_tmp,ecc_est[0:100],'r')\n",
      "\n",
      "plt.pyplot.show()"
     ],
     "language": "python",
     "metadata": {},
     "outputs": [],
     "prompt_number": 10
    },
    {
     "cell_type": "code",
     "collapsed": false,
     "input": [
      "### Display temporal information ###\n",
      "print EOBNRv2_sur.t_units\n",
      "print EOBNRv2_sur.dt\n",
      "print EOBNRv2_sur.tmin\n",
      "print EOBNRv2_sur.tmax"
     ],
     "language": "python",
     "metadata": {},
     "outputs": [
      {
       "output_type": "stream",
       "stream": "stdout",
       "text": [
        "TOverMtot\n",
        "1.23885486971\n",
        "0.0\n",
        "12239.8861128\n"
       ]
      }
     ],
     "prompt_number": 5
    },
    {
     "cell_type": "raw",
     "metadata": {},
     "source": [
      "Display greedy points and eim indicies"
     ]
    },
    {
     "cell_type": "code",
     "collapsed": false,
     "input": [
      "print EOBNRv2_sur.greedypts\n",
      "print EOBNRv2_sur.eim_indx"
     ],
     "language": "python",
     "metadata": {},
     "outputs": [
      {
       "output_type": "stream",
       "stream": "stdout",
       "text": [
        "[ 1.     1.904  1.576  2.     1.35   1.75   1.204  1.966  1.27   1.468\n",
        "  1.484  1.67   1.818  1.134  1.954  1.452  1.922  1.84   1.058]\n",
        "[ 9787.  7876.  4176.   482.  6159.  1892.  9799.     0.  9265.  9771.\n",
        "  9788.  9786.  7367.  8648.  9810.   234.  9792.  9675.  9579.]\n"
       ]
      }
     ],
     "prompt_number": 5
    },
    {
     "cell_type": "code",
     "collapsed": false,
     "input": [
      "EOBNRv2_sur.plot(1.4) # plot q = 1.4"
     ],
     "language": "python",
     "metadata": {},
     "outputs": [],
     "prompt_number": 6
    },
    {
     "cell_type": "raw",
     "metadata": {},
     "source": [
      "The above plot shows time information displayed as t/M. Suppose we want this in seconds."
     ]
    },
    {
     "cell_type": "code",
     "collapsed": false,
     "input": [
      "EOBNRv2_sur.switch_time_to_secs(80.0) # this surrogate came from an EOB call with Mtot = 80 solar masses (see its info.dat file)\n",
      "print EOBNRv2_sur.t_units\n",
      "print EOBNRv2_sur.dt\n",
      "print EOBNRv2_sur.tmin\n",
      "print EOBNRv2_sur.tmax"
     ],
     "language": "python",
     "metadata": {},
     "outputs": [
      {
       "output_type": "stream",
       "stream": "stdout",
       "text": [
        "times already in seconds\n",
        "secs\n",
        "0.00048828125\n",
        "0.0\n",
        "4.82421875\n"
       ]
      }
     ],
     "prompt_number": 9
    },
    {
     "cell_type": "raw",
     "metadata": {},
     "source": [
      "We can recover the sampling rate used to build this particular surrogate"
     ]
    },
    {
     "cell_type": "code",
     "collapsed": false,
     "input": [
      "print 1.0/EOBNRv2_sur.dt # sampling rate in Hz"
     ],
     "language": "python",
     "metadata": {},
     "outputs": [
      {
       "output_type": "stream",
       "stream": "stdout",
       "text": [
        "2048.0\n"
       ]
      }
     ],
     "prompt_number": 10
    },
    {
     "cell_type": "raw",
     "metadata": {},
     "source": [
      "Now replot with time in seconds"
     ]
    },
    {
     "cell_type": "code",
     "collapsed": false,
     "input": [
      "EOBNRv2_sur.plot(1.4)"
     ],
     "language": "python",
     "metadata": {},
     "outputs": [],
     "prompt_number": 11
    },
    {
     "cell_type": "raw",
     "metadata": {},
     "source": [
      "We now show two ways of recovering the 5th physical RB waveform. The first way evalutes the surrogate at the 5th greedy point q_5. The second way uses the Vandermonde matrix V and the GS matrix R (defined as A = QR) to exactly recover the 5th physical RB waveform. Having two (kinda) independent ways to compute h_5 provides a check of R,V, and the surrogate model error at this value of q."
     ]
    },
    {
     "cell_type": "code",
     "collapsed": false,
     "input": [
      "greedy5 = EOBNRv2_sur.greedypts[4]\n",
      "print greedy5 # q value"
     ],
     "language": "python",
     "metadata": {},
     "outputs": [
      {
       "output_type": "stream",
       "stream": "stdout",
       "text": [
        "1.35\n"
       ]
      }
     ],
     "prompt_number": 13
    },
    {
     "cell_type": "code",
     "collapsed": false,
     "input": [
      "### evaluate the surrogate model at q = 1.35 ###\n",
      "times, hp_5_surr, hc_5_surr = EOBNRv2_sur(greedy5)\n",
      "plt.pyplot.plot(times,hp_5_surr)\n",
      "plt.pyplot.hold()\n",
      "plt.pyplot.plot(times,hc_5_surr,'r')\n",
      "plt.pyplot.show()"
     ],
     "language": "python",
     "metadata": {},
     "outputs": [],
     "prompt_number": 14
    },
    {
     "cell_type": "code",
     "collapsed": false,
     "input": [
      "### use V to exactly recover the 5th orthonormal basis ###\n",
      "E = np.dot(EOBNRv2_sur.B,EOBNRv2_sur.V)\n",
      "e_5 = E[:,4]\n",
      "plt.pyplot.plot(times,e_5.real)\n",
      "plt.pyplot.hold()\n",
      "plt.pyplot.plot(times,e_5.imag,'r')\n",
      "plt.pyplot.show()"
     ],
     "language": "python",
     "metadata": {},
     "outputs": [],
     "prompt_number": 15
    },
    {
     "cell_type": "code",
     "collapsed": false,
     "input": [
      "### use R to exactly recover the 5th physical basis ###\n",
      "H = np.dot(E,EOBNRv2_sur.R)\n",
      "h_5 = H[:,4]\n",
      "plt.pyplot.plot(times,h_5.real)\n",
      "plt.pyplot.hold()\n",
      "plt.pyplot.plot(times,h_5.imag,'r')\n",
      "plt.pyplot.show()"
     ],
     "language": "python",
     "metadata": {},
     "outputs": [],
     "prompt_number": 16
    },
    {
     "cell_type": "code",
     "collapsed": false,
     "input": [
      "### plot the difference between the 5th physical basis and its surrogate ###\n",
      "plt.pyplot.semilogy(times, h_5.real - hp_5_surr)\n",
      "plt.pyplot.hold()\n",
      "plt.pyplot.semilogy(times, h_5.imag - hc_5_surr,'r')\n",
      "plt.pyplot.show()"
     ],
     "language": "python",
     "metadata": {},
     "outputs": [],
     "prompt_number": 17
    },
    {
     "cell_type": "code",
     "collapsed": false,
     "input": [
      "### evaluating the waveform basis waveform using the surrogate is also a built-in function ###\n",
      "EOBNRv2_sur.plot_rb(4)"
     ],
     "language": "python",
     "metadata": {},
     "outputs": [],
     "prompt_number": 18
    }
   ],
   "metadata": {}
  }
 ]
}