{
 "metadata": {
  "name": "textSurrogate"
 },
 "nbformat": 3,
 "nbformat_minor": 0,
 "worksheets": [
  {
   "cells": [
    {
     "cell_type": "code",
     "collapsed": false,
     "input": [
      "### setup system paths, import text surrogate module and load a surrogate ###\n",
      "import sys\n",
      "#sys.path.append('/home/balzani57/GitRepos/Codes/gwsurrogate/gwsurrogate') # import surrogate.py module\n",
      "sys.path.append('/home/balzani57/GitRepos/Codes/gwsurrogate/') # import gwsurrogate package\n",
      "sys.path.append('/home/balzani57/GitRepos/Codes/romgw/')\n",
      "\n",
      "from pylab import matplotlib as plt\n",
      "import numpy as np\n",
      "\n",
      "import gwsurrogate as txtsur\n",
      "import gwtools as gwtool    ### reason to rename misc as gwtools is less likely to duplicate another file names misc\n",
      "\n",
      "EOBNRv2_sur = txtsur.EvaluateSurrogate('/home/balzani57/GitRepos/Codes/gwsurrogate/EOBNRv2/EOBNRv2_q1_2_NoSpin_SingleModes/l2_m2_len12239M_SurID19poly/')\n",
      "spec_sur = txtsur.EvaluateSurrogate('/home/balzani57/GitRepos/Codes/gwsurrogate/spec_test/SpEC_q1_9_NoSpin_SingleModes/l2_m2_len2824M_SurID25poly/')"
     ],
     "language": "python",
     "metadata": {},
     "outputs": [],
     "prompt_number": 5
    },
    {
     "cell_type": "code",
     "collapsed": false,
     "input": [
      "### plot EOB and NR waveforms ###\n",
      "### NOTE: EOB and NR are normalized differently and are defined on diffrent time intervals ###\n",
      "\n",
      "hp_spec, hc_spec = spec_sur(1.7)\n",
      "t_spec = spec_sur.time()\n",
      "\n",
      "\n",
      "hp_eob, hc_eob = EOBNRv2_sur(1.7)\n",
      "t_eob  = EOBNRv2_sur.time()\n",
      "EOBNRv2_sur.plot_pretty(t_eob, hp_eob, hc_eob,1)\n",
      "\n",
      "spec_sur.plot_pretty(t_spec, hp_spec, hc_spec,2)\n",
      "\n",
      "plt.pyplot.show()"
     ],
     "language": "python",
     "metadata": {},
     "outputs": [],
     "prompt_number": 2
    },
    {
     "cell_type": "code",
     "collapsed": false,
     "input": [
      "### compute amplitude and phase information with gwtools ###\n",
      "\n",
      "h_spec = hp_spec + 1.0j*hc_spec\n",
      "amp_spec,phase_spec = gwtools.get_amp_phase(h_spec)\n",
      "\n",
      "h_eob = hp_eob + 1.0j*hc_eob\n",
      "amp_eob,phase_eob = gwtools.get_amp_phase(h_eob)\n",
      "\n",
      "plt.pyplot.figure(1)\n",
      "plt.pyplot.plot(t_spec,amp_spec,'r')\n",
      "plt.pyplot.plot(t_eob,amp_eob,'b')\n",
      "\n",
      "plt.pyplot.figure(2)\n",
      "plt.pyplot.plot(t_spec,phase_spec,'r')\n",
      "plt.pyplot.plot(t_eob,phase_eob,'b')\n",
      "\n",
      "plt.pyplot.show()\n"
     ],
     "language": "python",
     "metadata": {},
     "outputs": [],
     "prompt_number": 3
    },
    {
     "cell_type": "code",
     "collapsed": false,
     "input": [
      "### estimate eccentricity with gwtools ###\n",
      "\n",
      "# reveal a TS waveform (exact output from spec) with R,V matricies (see below) #\n",
      "E = np.dot(spec_sur.B,spec_sur.V)\n",
      "H = np.dot(E,spec_sur.R)\n",
      "h = H[:,0]\n",
      "\n",
      "# or use a surrogate predicted one #\n",
      "#t_spec, hp_spec, hc_spec = spec_sur(1.7)\n",
      "#h = hp_spec + 1.0j*hc_spec\n",
      "\n",
      "amp_spec, phase_spec = gwtools.get_amp_phase(h)\n",
      "t_log, phase_log     = gwtools.logd(t_spec,phase_spec)\n",
      "t_log, amp_log       = gwtools.logd(t_spec,amp_spec)\n",
      "\n",
      "plt.pyplot.figure(1)\n",
      "plt.pyplot.plot(t_spec,phase_spec,'r')\n",
      "#plt.pyplot.plot(t_log,phase_log,'r')\n",
      "#plt.pyplot.plot(t_log,amp_log,'r')\n",
      "#plt.pyplot.plot(t_spec,h.imag,'b')\n",
      "\n",
      "\n",
      "### ecc from phase: plot sequence of fits to show ecc will not depend on this choice ###\n",
      "plt.pyplot.figure(2)\n",
      "\n",
      "t_ecc,ecc_est  = gwtools.ecc_estimator(t_spec,h,[5000,30000],1,6)\n",
      "plt.pyplot.plot(t_ecc,ecc_est,'g')\n",
      "\n",
      "t_ecc,ecc_est  = gwtools.ecc_estimator(t_spec,h,[5000,30000],1,8)\n",
      "plt.pyplot.plot(t_ecc,ecc_est,'r')\n",
      "\n",
      "t_ecc,ecc_est  = gwtools.ecc_estimator(t_spec,h,[5000,30000],1,10)\n",
      "plt.pyplot.plot(t_ecc,ecc_est,'b')\n",
      "\n",
      "\n",
      "### ecc from amplitude: plot sequence of fits to show ecc will not depend on this choice ###\n",
      "\n",
      "plt.pyplot.figure(3)\n",
      "\n",
      "t_ecc,ecc_est  = gwtools.ecc_estimator(t_spec,h,[5000,30000],2,4)\n",
      "plt.pyplot.plot(t_ecc,ecc_est,'g')\n",
      "\n",
      "t_ecc,ecc_est  = gwtools.ecc_estimator(t_spec,h,[5000,30000],2,6)\n",
      "plt.pyplot.plot(t_ecc,ecc_est,'r')\n",
      "\n",
      "t_ecc,ecc_est  = gwtools.ecc_estimator(t_spec,h,[5000,30000],2,8)\n",
      "plt.pyplot.plot(t_ecc,ecc_est,'b')\n",
      "\n",
      "#plt.pyplot.plot(t_spec,phase_spec,'k')\n",
      "#plt.pyplot.plot(t_ecc,ecc_est,'r')\n",
      "\n",
      "plt.pyplot.show()"
     ],
     "language": "python",
     "metadata": {},
     "outputs": [],
     "prompt_number": 3
    },
    {
     "cell_type": "code",
     "collapsed": false,
     "input": [
      "### Display temporal information ###\n",
      "print 'temporal units is '+EOBNRv2_sur.t_units\n",
      "print 'temporal sampling is '+str(EOBNRv2_sur.dt)\n",
      "print 'initial time is '+str(EOBNRv2_sur.tmin)\n",
      "print 'final time is '+str(EOBNRv2_sur.tmax)"
     ],
     "language": "python",
     "metadata": {},
     "outputs": [
      {
       "output_type": "stream",
       "stream": "stdout",
       "text": [
        "temporal units is TOverMtot\n",
        "temporal sampling is 1.23885486971\n",
        "initial time is 0.0\n",
        "final time is 12239.8861128\n"
       ]
      }
     ],
     "prompt_number": 9
    },
    {
     "cell_type": "raw",
     "metadata": {},
     "source": [
      "Display greedy points and eim indicies"
     ]
    },
    {
     "cell_type": "code",
     "collapsed": false,
     "input": [
      "print EOBNRv2_sur.greedy_points\n",
      "print EOBNRv2_sur.eim_indices"
     ],
     "language": "python",
     "metadata": {},
     "outputs": [
      {
       "output_type": "stream",
       "stream": "stdout",
       "text": [
        "[ 1.     1.904  1.576  2.     1.35   1.75   1.204  1.966  1.27   1.468\n",
        "  1.484  1.67   1.818  1.134  1.954  1.452  1.922  1.84   1.058]\n",
        "[ 9787.  7876.  4176.   482.  6159.  1892.  9799.     0.  9265.  9771.\n",
        "  9788.  9786.  7367.  8648.  9810.   234.  9792.  9675.  9579.]\n"
       ]
      }
     ],
     "prompt_number": 5
    },
    {
     "cell_type": "code",
     "collapsed": false,
     "input": [
      "EOBNRv2_sur.plot_sur(1.4) # plot q = 1.4"
     ],
     "language": "python",
     "metadata": {},
     "outputs": [
      {
       "output_type": "pyout",
       "prompt_number": 10,
       "text": [
        "<matplotlib.figure.Figure at 0xb1ded4c>"
       ]
      }
     ],
     "prompt_number": 10
    },
    {
     "cell_type": "raw",
     "metadata": {},
     "source": [
      "The above plot shows time information displayed as t/M. Suppose we want this in seconds."
     ]
    },
    {
     "cell_type": "code",
     "collapsed": false,
     "input": [
      "EOBNRv2_sur.switch_time_to_secs(80.0) # this surrogate came from an EOB call with Mtot = 80 solar masses (see its info.dat file)\n",
      "print EOBNRv2_sur.t_units\n",
      "print EOBNRv2_sur.dt\n",
      "print EOBNRv2_sur.tmin\n",
      "print EOBNRv2_sur.tmax"
     ],
     "language": "python",
     "metadata": {},
     "outputs": [
      {
       "ename": "AttributeError",
       "evalue": "EvaluateSurrogate instance has no attribute 'switch_time_to_secs'",
       "output_type": "pyerr",
       "traceback": [
        "\u001b[1;31m---------------------------------------------------------------------------\u001b[0m\n\u001b[1;31mAttributeError\u001b[0m                            Traceback (most recent call last)",
        "\u001b[1;32m<ipython-input-11-982acd882442>\u001b[0m in \u001b[0;36m<module>\u001b[1;34m()\u001b[0m\n\u001b[1;32m----> 1\u001b[1;33m \u001b[0mEOBNRv2_sur\u001b[0m\u001b[1;33m.\u001b[0m\u001b[0mswitch_time_to_secs\u001b[0m\u001b[1;33m(\u001b[0m\u001b[1;36m80.0\u001b[0m\u001b[1;33m)\u001b[0m \u001b[1;31m# this surrogate came from an EOB call with Mtot = 80 solar masses (see its info.dat file)\u001b[0m\u001b[1;33m\u001b[0m\u001b[0m\n\u001b[0m\u001b[0;32m      2\u001b[0m \u001b[1;32mprint\u001b[0m \u001b[0mEOBNRv2_sur\u001b[0m\u001b[1;33m.\u001b[0m\u001b[0mt_units\u001b[0m\u001b[1;33m\u001b[0m\u001b[0m\n\u001b[0;32m      3\u001b[0m \u001b[1;32mprint\u001b[0m \u001b[0mEOBNRv2_sur\u001b[0m\u001b[1;33m.\u001b[0m\u001b[0mdt\u001b[0m\u001b[1;33m\u001b[0m\u001b[0m\n\u001b[0;32m      4\u001b[0m \u001b[1;32mprint\u001b[0m \u001b[0mEOBNRv2_sur\u001b[0m\u001b[1;33m.\u001b[0m\u001b[0mtmin\u001b[0m\u001b[1;33m\u001b[0m\u001b[0m\n\u001b[0;32m      5\u001b[0m \u001b[1;32mprint\u001b[0m \u001b[0mEOBNRv2_sur\u001b[0m\u001b[1;33m.\u001b[0m\u001b[0mtmax\u001b[0m\u001b[1;33m\u001b[0m\u001b[0m\n",
        "\u001b[1;31mAttributeError\u001b[0m: EvaluateSurrogate instance has no attribute 'switch_time_to_secs'"
       ]
      }
     ],
     "prompt_number": 11
    },
    {
     "cell_type": "raw",
     "metadata": {},
     "source": [
      "We can recover the sampling rate used to build this particular surrogate"
     ]
    },
    {
     "cell_type": "code",
     "collapsed": false,
     "input": [
      "print 1.0/EOBNRv2_sur.dt # sampling rate in Hz"
     ],
     "language": "python",
     "metadata": {},
     "outputs": [
      {
       "output_type": "stream",
       "stream": "stdout",
       "text": [
        "2048.0\n"
       ]
      }
     ],
     "prompt_number": 10
    },
    {
     "cell_type": "raw",
     "metadata": {},
     "source": [
      "Now replot with time in seconds"
     ]
    },
    {
     "cell_type": "code",
     "collapsed": false,
     "input": [
      "EOBNRv2_sur.plot_sur(1.4)"
     ],
     "language": "python",
     "metadata": {},
     "outputs": [
      {
       "output_type": "pyout",
       "prompt_number": 8,
       "text": [
        "<matplotlib.figure.Figure at 0xb27f08c>"
       ]
      }
     ],
     "prompt_number": 8
    },
    {
     "cell_type": "raw",
     "metadata": {},
     "source": [
      "We now show two ways of recovering the 5th physical RB waveform. The first way evalutes the surrogate at the 5th greedy point q_5. The second way uses the Vandermonde matrix V and the GS matrix R (defined as A = QR) to exactly recover the 5th physical RB waveform. Having two (kinda) independent ways to compute h_5 provides a check of R,V, and the surrogate model error at this value of q."
     ]
    },
    {
     "cell_type": "code",
     "collapsed": false,
     "input": [
      "### plot the 5th cardinal (B) basis ###\n",
      "times = EOBNRv2_sur.time()\n",
      "b_5   = EOBNRv2_sur.basis(4,'cardinal')\n",
      "\n",
      "EOBNRv2_sur.plot_pretty(times,b_5.real,b_5.imag,1)\n",
      "plt.pyplot.title('Real and imaginary parts of cardinal basis')\n",
      "\n",
      "### use the matrix V, as E = B V, to exactly recover the 5th orthonormal basis E ###\n",
      "e_5 = EOBNRv2_sur.basis(4,'orthogonal')\n",
      "\n",
      "EOBNRv2_sur.plot_pretty(times,e_5.real,e_5.imag,2)\n",
      "plt.pyplot.title('Real and imaginary parts of orthogonal basis')\n",
      "\n",
      "### use the matrix R, as H = E R, to recover the 5th physical basis H ###\n",
      "h_5 = EOBNRv2_sur.basis(4,'waveform')\n",
      "\n",
      "EOBNRv2_sur.plot_pretty(times,h_5.real,h_5.imag,3)\n",
      "plt.pyplot.title('Real and imaginary parts of waveform basis')\n",
      "\n",
      "### use the surrogate model to evaluate for the 5th physical basis ###\n",
      "hp_5_surr, hc_5_surr = EOBNRv2_sur(EOBNRv2_sur.greedy_points[4])\n",
      "\n",
      "EOBNRv2_sur.plot_pretty(times,hp_5_surr,hc_5_surr,4)\n",
      "plt.pyplot.title('Waveform basis via surrogate model')\n",
      "\n",
      "### plot the difference between the 5th physical basis and its surrogate -- consistency and error check ###\n",
      "EOBNRv2_sur.plot_pretty(times,h_5.real - hp_5_surr,h_5.imag - hc_5_surr,5,'semilogy')\n",
      "plt.pyplot.title('Difference between physical waveform basis and its surrogate prediction')\n",
      "\n",
      "plt.pyplot.show()"
     ],
     "language": "python",
     "metadata": {},
     "outputs": [],
     "prompt_number": 4
    },
    {
     "cell_type": "code",
     "collapsed": false,
     "input": [
      "### plotting the waveform basis using the surrogate is also a built-in function ###\n",
      "EOBNRv2_sur.plot_rb(4)"
     ],
     "language": "python",
     "metadata": {},
     "outputs": [
      {
       "output_type": "pyout",
       "prompt_number": 4,
       "text": [
        "<matplotlib.figure.Figure at 0xa6c5fac>"
       ]
      }
     ],
     "prompt_number": 4
    }
   ],
   "metadata": {}
  }
 ]
}