{
 "metadata": {
  "name": "EOBLAL"
 },
 "nbformat": 3,
 "nbformat_minor": 0,
 "worksheets": [
  {
   "cells": [
    {
     "cell_type": "code",
     "collapsed": false,
     "input": [
      "### setup system paths, import text surrogate module and load a surrogate ###\n",
      "import sys\n",
      "sys.path.append('/home/balzani57/GitRepos/Codes/gwsurrogate/gwsurrogate')\n",
      "from pylab import matplotlib as plt\n",
      "import numpy as np\n",
      "\n",
      "import surrogate as txtsur\n",
      "EOBNRv2_sur = txtsur.TextSurrogate('/home/balzani57/GitRepos/Codes/gwsurrogate/EOBNRv2/EOBNRv2_q1_2_NoSpin_SingleModes/l2_m2_len12239M_SurID19poly/')\n",
      "\n",
      "import lal\n",
      "import lalsimulation as lalsim"
     ],
     "language": "python",
     "metadata": {},
     "outputs": [],
     "prompt_number": 1
    },
    {
     "cell_type": "code",
     "collapsed": false,
     "input": [
      "#EOBNRv2_sur.switch_time_to_secs(Mtot = 80.0)\n",
      "m1 = 40.0\n",
      "m2 = 40.0\n",
      "#t_surr, hp_surr, hc_surr = EOBNRv2_sur(q_eval = m1/m2)\n",
      "#h_surr = hp_surr + (1j)*hc_surr"
     ],
     "language": "python",
     "metadata": {},
     "outputs": [],
     "prompt_number": 3
    },
    {
     "cell_type": "code",
     "collapsed": false,
     "input": [
      "print EOBNRv2_sur.t_units\n",
      "dt = EOBNRv2_sur.dt\n",
      "print 1.0/dt"
     ],
     "language": "python",
     "metadata": {},
     "outputs": [
      {
       "output_type": "stream",
       "stream": "stdout",
       "text": [
        "secs\n",
        "2048.0\n"
       ]
      }
     ],
     "prompt_number": 4
    },
    {
     "cell_type": "code",
     "collapsed": false,
     "input": [
      "dt = 1.0/2048.0\n",
      "\n",
      "lambda1 = lambda2 = 0.\n",
      "waveFlags = None\n",
      "nonGRparams = None\n",
      "ampO = 0\n",
      "phaseO = 7\n",
      "fref = 0.\n",
      "\n",
      "incl=0. \n",
      "phiref=0. # NOTE: current hack uses this parameter to grab modes... 0 is the (2,2). \n",
      "fmin=9.0 \n",
      "thetaS=0. \n",
      "phiS=0. \n",
      "psi=0.\n",
      "dist=1.\n",
      "\n",
      "M1 = m1 * lal.LAL_MSUN_SI\n",
      "M2 = m2 * lal.LAL_MSUN_SI\n",
      "s1x = s1y = s1z = s2x = s2y = s2z = 0.\n",
      "Dist = dist * 1e6 * lal.LAL_PC_SI\n",
      "approx = lalsim.EOBNRv2\n",
      "\n",
      "hp_LAL, hc_LAL = lalsim.SimInspiralChooseTDWaveform(phiref, dt, M1, M2,s1x, s1y, s1z, s2x, s2y, s2z, fmin, fref, Dist, incl, lambda1, lambda2,waveFlags, nonGRparams, ampO, phaseO, approx)\n",
      "h_LAL = hp_LAL.data.data + (1j)*hc_LAL.data.data"
     ],
     "language": "python",
     "metadata": {},
     "outputs": [],
     "prompt_number": 5
    },
    {
     "cell_type": "code",
     "collapsed": false,
     "input": [
      "Mtot1 = 4.0\n",
      "fmin = 40.0\n",
      "Dist = 1.0 * 1e6 * lal.LAL_PC_SI\n",
      "M1 = (Mtot1/2.0) * lal.LAL_MSUN_SI\n",
      "M2 = (Mtot1/2.0) * lal.LAL_MSUN_SI\n",
      "dt = (1.0/16384.0)\n",
      "\n",
      "hp_4, hc_4 = lalsim.SimInspiralChooseTDWaveform(phiref, dt, M1, M2,s1x, s1y, s1z, s2x, s2y, s2z, fmin, fref, Dist, incl, lambda1, lambda2,waveFlags, nonGRparams, ampO, phaseO, approx)\n",
      "h_4 = hp_4.data.data + (1j)*hc_4.data.data\n",
      "\n",
      "Mtot2 = 16.0\n",
      "Mratio = Mtot2/Mtot1\n",
      "\n",
      "fmin = 40.0/2.383\n",
      "Dist = (4.0) * 1e6 * lal.LAL_PC_SI\n",
      "M1 = (Mtot2/2.0) * lal.LAL_MSUN_SI\n",
      "M2 = (Mtot2/2.0) * lal.LAL_MSUN_SI\n",
      "dt = (1.0/16384.0)\n",
      "\n",
      "hp_8, hc_8 = lalsim.SimInspiralChooseTDWaveform(phiref, dt, M1, M2,s1x, s1y, s1z, s2x, s2y, s2z, fmin, fref, Dist, incl, lambda1, lambda2,waveFlags, nonGRparams, ampO, phaseO, approx)\n",
      "h_8 = hp_8.data.data + (1j)*hc_8.data.data"
     ],
     "language": "python",
     "metadata": {},
     "outputs": [],
     "prompt_number": 6
    },
    {
     "cell_type": "code",
     "collapsed": false,
     "input": [
      "time_4 = np.arange(np.size(hp_4.data.data))*hp_4.deltaT\n",
      "time_8 = np.arange(np.size(hp_8.data.data))*hp_8.deltaT\n",
      "plt.pyplot.plot(time_4,np.abs(h_4),'red')\n",
      "plt.pyplot.plot(time_8,np.abs(h_8),'blue')\n",
      "plt.pyplot.show()\n",
      "print np.max(np.abs(h_8))/np.max(np.abs(h_4))"
     ],
     "language": "python",
     "metadata": {},
     "outputs": [
      {
       "output_type": "stream",
       "stream": "stdout",
       "text": [
        "1.00004016347\n"
       ]
      }
     ],
     "prompt_number": 7
    },
    {
     "cell_type": "code",
     "collapsed": false,
     "input": [
      "time = np.arange(np.size(hp_LAL.data.data))*hp_LAL.deltaT\n",
      "plt.pyplot.plot(t_surr,hp_surr*( np.max(np.abs(h_LAL)) / np.max(np.abs(h_surr)) )  ,'red')\n",
      "plt.pyplot.plot(time,hp_LAL.data.data,'blue')\n",
      "plt.pyplot.show()"
     ],
     "language": "python",
     "metadata": {},
     "outputs": [
      {
       "ename": "NameError",
       "evalue": "name 't_surr' is not defined",
       "output_type": "pyerr",
       "traceback": [
        "\u001b[1;31m---------------------------------------------------------------------------\u001b[0m\n\u001b[1;31mNameError\u001b[0m                                 Traceback (most recent call last)",
        "\u001b[1;32m<ipython-input-8-670a486ff2d9>\u001b[0m in \u001b[0;36m<module>\u001b[1;34m()\u001b[0m\n\u001b[0;32m      1\u001b[0m \u001b[0mtime\u001b[0m \u001b[1;33m=\u001b[0m \u001b[0mnp\u001b[0m\u001b[1;33m.\u001b[0m\u001b[0marange\u001b[0m\u001b[1;33m(\u001b[0m\u001b[0mnp\u001b[0m\u001b[1;33m.\u001b[0m\u001b[0msize\u001b[0m\u001b[1;33m(\u001b[0m\u001b[0mhp_LAL\u001b[0m\u001b[1;33m.\u001b[0m\u001b[0mdata\u001b[0m\u001b[1;33m.\u001b[0m\u001b[0mdata\u001b[0m\u001b[1;33m)\u001b[0m\u001b[1;33m)\u001b[0m\u001b[1;33m*\u001b[0m\u001b[0mhp_LAL\u001b[0m\u001b[1;33m.\u001b[0m\u001b[0mdeltaT\u001b[0m\u001b[1;33m\u001b[0m\u001b[0m\n\u001b[1;32m----> 2\u001b[1;33m \u001b[0mplt\u001b[0m\u001b[1;33m.\u001b[0m\u001b[0mpyplot\u001b[0m\u001b[1;33m.\u001b[0m\u001b[0mplot\u001b[0m\u001b[1;33m(\u001b[0m\u001b[0mt_surr\u001b[0m\u001b[1;33m,\u001b[0m\u001b[0mhp_surr\u001b[0m\u001b[1;33m*\u001b[0m\u001b[1;33m(\u001b[0m \u001b[0mnp\u001b[0m\u001b[1;33m.\u001b[0m\u001b[0mmax\u001b[0m\u001b[1;33m(\u001b[0m\u001b[0mnp\u001b[0m\u001b[1;33m.\u001b[0m\u001b[0mabs\u001b[0m\u001b[1;33m(\u001b[0m\u001b[0mh_LAL\u001b[0m\u001b[1;33m)\u001b[0m\u001b[1;33m)\u001b[0m \u001b[1;33m/\u001b[0m \u001b[0mnp\u001b[0m\u001b[1;33m.\u001b[0m\u001b[0mmax\u001b[0m\u001b[1;33m(\u001b[0m\u001b[0mnp\u001b[0m\u001b[1;33m.\u001b[0m\u001b[0mabs\u001b[0m\u001b[1;33m(\u001b[0m\u001b[0mh_surr\u001b[0m\u001b[1;33m)\u001b[0m\u001b[1;33m)\u001b[0m \u001b[1;33m)\u001b[0m  \u001b[1;33m,\u001b[0m\u001b[1;34m'red'\u001b[0m\u001b[1;33m)\u001b[0m\u001b[1;33m\u001b[0m\u001b[0m\n\u001b[0m\u001b[0;32m      3\u001b[0m \u001b[0mplt\u001b[0m\u001b[1;33m.\u001b[0m\u001b[0mpyplot\u001b[0m\u001b[1;33m.\u001b[0m\u001b[0mplot\u001b[0m\u001b[1;33m(\u001b[0m\u001b[0mtime\u001b[0m\u001b[1;33m,\u001b[0m\u001b[0mhp_LAL\u001b[0m\u001b[1;33m.\u001b[0m\u001b[0mdata\u001b[0m\u001b[1;33m.\u001b[0m\u001b[0mdata\u001b[0m\u001b[1;33m,\u001b[0m\u001b[1;34m'blue'\u001b[0m\u001b[1;33m)\u001b[0m\u001b[1;33m\u001b[0m\u001b[0m\n\u001b[0;32m      4\u001b[0m \u001b[0mplt\u001b[0m\u001b[1;33m.\u001b[0m\u001b[0mpyplot\u001b[0m\u001b[1;33m.\u001b[0m\u001b[0mshow\u001b[0m\u001b[1;33m(\u001b[0m\u001b[1;33m)\u001b[0m\u001b[1;33m\u001b[0m\u001b[0m\n",
        "\u001b[1;31mNameError\u001b[0m: name 't_surr' is not defined"
       ]
      }
     ],
     "prompt_number": 8
    }
   ],
   "metadata": {}
  }
 ]
}